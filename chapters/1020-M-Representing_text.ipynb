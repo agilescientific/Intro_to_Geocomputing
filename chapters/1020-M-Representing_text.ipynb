{
 "cells": [
  {
   "cell_type": "markdown",
   "metadata": {
    "slideshow": {
     "slide_type": "slide"
    }
   },
   "source": [
    "# Representing text\n",
    "\n",
    "In this chapter, we're going to meet another of Python's native data types &mdash; strings. You'll use strings very often indeed, and will become quite familiar with them. If they seem a little unwieldy at first, don't worry — with practice, you will learn the things you need to know, and learn how to look up the things you don't!"
   ]
  },
  {
   "cell_type": "markdown",
   "metadata": {
    "slideshow": {
     "slide_type": "slide"
    }
   },
   "source": [
    "We often need text in our programs. For example:\n",
    "\n",
    "- We might want to print some useful information, as we did in the previous chapter.\n",
    "- We will want to read data from files, like headers in a well log data file.\n",
    "- We sometimes need to pass around text items like URLs, usernames, or access keys.\n",
    "\n",
    "We already use word-like things for variable names:"
   ]
  },
  {
   "cell_type": "code",
   "execution_count": 2,
   "metadata": {
    "collapsed": true
   },
   "outputs": [],
   "source": [
    "impedance = 8e6"
   ]
  },
  {
   "cell_type": "markdown",
   "metadata": {},
   "source": [
    "So we need a way to give Python a word without it thinking it's a variable name — otherwise it'll raise a `NameError`. Python uses quotation marks for this:"
   ]
  },
  {
   "cell_type": "code",
   "execution_count": 3,
   "metadata": {
    "collapsed": true
   },
   "outputs": [],
   "source": [
    "formation = \"McMurray Formation\""
   ]
  },
  {
   "cell_type": "markdown",
   "metadata": {},
   "source": [
    "In this operation, `formation` is the name of a Python string, or `str` containing the data: `\"McMurray Formation\"`.\n",
    "\n",
    "The quotes can be single or double quotes, but they must match. If you need an apostrophe, then double quotes are the way to go. In general, many programmers use double quotes for sentences of natural (that is, human) language, and single quotes for short strings, especially ones that are used as keys in a Python dictionary (which you will meet in a minute), or as arguments in a Python function."
   ]
  },
  {
   "cell_type": "code",
   "execution_count": 4,
   "metadata": {
    "collapsed": true
   },
   "outputs": [],
   "source": [
    "formation = \"Boar's Head Canyon\""
   ]
  },
  {
   "cell_type": "markdown",
   "metadata": {},
   "source": [
    "## Iterables: `len` and indexing\n",
    "\n",
    "Python strings are of a general category of sequence-like types called 'iterables'. We'll meet other iterables later, and we'll become very familiar with how they work over the course of this book.\n",
    "\n",
    "As the name suggests, iterables are sequences over which we can step or iterate. To put it another way, they are collections of other things. In the case of strings, they are collections of characters. \n",
    "\n",
    "A fundamental property of sequences is their 'length'. The function `len()`, which takes any sequence as its only argument. Let's call `len()` on the string we called `formation`:"
   ]
  },
  {
   "cell_type": "code",
   "execution_count": 5,
   "metadata": {},
   "outputs": [
    {
     "data": {
      "text/plain": [
       "18"
      ]
     },
     "execution_count": 5,
     "metadata": {},
     "output_type": "execute_result"
    }
   ],
   "source": [
    "len(formation)"
   ]
  },
  {
   "cell_type": "markdown",
   "metadata": {},
   "source": [
    "Indeed, `\"Boar's Head Canyon\"` has 18 characters (the quotes are required to define the string but are not part of it.)"
   ]
  },
  {
   "cell_type": "markdown",
   "metadata": {},
   "source": [
    "A fundamental feature of Python sequence types is 'indexing' &emdash; the action of selecting a single element from the sequence. In the case of strings, the elements are individual characters. These characters are themselves strings. Uing indexing, we can ask Python for individual characters in the string. For example, let's ask for the 3rd character:"
   ]
  },
  {
   "cell_type": "code",
   "execution_count": 6,
   "metadata": {},
   "outputs": [
    {
     "data": {
      "text/plain": [
       "'r'"
      ]
     },
     "execution_count": 6,
     "metadata": {},
     "output_type": "execute_result"
    }
   ],
   "source": [
    "formation[3]"
   ]
  },
  {
   "cell_type": "markdown",
   "metadata": {},
   "source": [
    "Wait a minute. `r` is not the 3rd character in `\"Boar's Head Canyon\"` &emdash; it's the fourth. What's going on?\n",
    "\n",
    "## Zero-based indexing\n",
    "\n",
    "Like several other programming languages, including C and Java &mdash; but unlike MATLAB/Octave, Fortran, and Julia &mdash; Python uses zero-based indexing. So the first element in a sequence is retrieved using `0`:"
   ]
  },
  {
   "cell_type": "code",
   "execution_count": 7,
   "metadata": {},
   "outputs": [
    {
     "data": {
      "text/plain": [
       "'B'"
      ]
     },
     "execution_count": 7,
     "metadata": {},
     "output_type": "execute_result"
    }
   ],
   "source": [
    "formation[0]"
   ]
  },
  {
   "cell_type": "markdown",
   "metadata": {},
   "source": [
    "It might help to think of the index as an 'offset' from the beginning of the sequence (indeed, this is the origin of zero-based indexing in C: it's easier to address memory using offsets').\n",
    "\n",
    "you might be surprised to hear that we can have negative indices. These are interpreted as stepping backwards from the end of the sequence, starting with `-1` for the last element, then `-2` for the second-last, and so on:"
   ]
  },
  {
   "cell_type": "code",
   "execution_count": 8,
   "metadata": {},
   "outputs": [
    {
     "data": {
      "text/plain": [
       "'y'"
      ]
     },
     "execution_count": 8,
     "metadata": {},
     "output_type": "execute_result"
    }
   ],
   "source": [
    "formation[-3]"
   ]
  },
  {
   "cell_type": "markdown",
   "metadata": {},
   "source": [
    "At this point, we recommend making some strings and indexing into them. You'll quickly get a feel for how it works. We will use indexing a lot in scientific computing with Python (and with any numeric language)."
   ]
  },
  {
   "cell_type": "markdown",
   "metadata": {},
   "source": [
    "## Slicing\n",
    "\n",
    "Often we want to work on a chunk of a sequence, not just a single element. A chunk is called a 'slice' in Python. Perhaps we'd like to extract the first few characters of a string, or a group of formations from a list, or a 10-metre section from a log.\n",
    "\n",
    "The indexing idea extends into specifying the offsets to the start and end of the slice we want, separated by a colon, like so:"
   ]
  },
  {
   "cell_type": "code",
   "execution_count": 9,
   "metadata": {},
   "outputs": [
    {
     "data": {
      "text/plain": [
       "'Head'"
      ]
     },
     "execution_count": 9,
     "metadata": {},
     "output_type": "execute_result"
    }
   ],
   "source": [
    "formation[7:11]"
   ]
  },
  {
   "cell_type": "markdown",
   "metadata": {},
   "source": [
    "If the start of the slice is `0`, or the end is `-1`, we can omit them. So `formation[:6]` means \"the first six characters of `formation`\":"
   ]
  },
  {
   "cell_type": "code",
   "execution_count": 10,
   "metadata": {},
   "outputs": [
    {
     "data": {
      "text/plain": [
       "\"Boar's\""
      ]
     },
     "execution_count": 10,
     "metadata": {},
     "output_type": "execute_result"
    }
   ],
   "source": [
    "formation[:6]"
   ]
  },
  {
   "cell_type": "markdown",
   "metadata": {},
   "source": [
    "Notice that `[6]` denotes the *seventh* element of the sequence, which is the first space in the string, but Python does not return this character as part of the slice. So `[:x]` can be interpreted to mean \"up to but not incuding the index `x` character\" or, perhaps more naturally, \"up to and including the $x$th character\". \n",
    "\n",
    "Let's try combining some of what we've done so far. Can you predict the value of `result` after these commands?"
   ]
  },
  {
   "cell_type": "code",
   "execution_count": 11,
   "metadata": {
    "collapsed": true
   },
   "outputs": [],
   "source": [
    "start, end = 7, -1\n",
    "result = formation[start:end - 2]"
   ]
  },
  {
   "cell_type": "markdown",
   "metadata": {},
   "source": [
    "The slicing interface is richer yet — as well as a start and an end to the slice, we can also specify a stride. Here's how we would select every other character in a string:"
   ]
  },
  {
   "cell_type": "code",
   "execution_count": 12,
   "metadata": {},
   "outputs": [
    {
     "data": {
      "text/plain": [
       "\"Ba' edCno\""
      ]
     },
     "execution_count": 12,
     "metadata": {},
     "output_type": "execute_result"
    }
   ],
   "source": [
    "formation[::2]"
   ]
  },
  {
   "cell_type": "markdown",
   "metadata": {},
   "source": [
    "## Composing and concatenating\n",
    "\n",
    "We have already seen one way to compose strings, using `format` strings:"
   ]
  },
  {
   "cell_type": "code",
   "execution_count": 13,
   "metadata": {},
   "outputs": [
    {
     "data": {
      "text/plain": [
       "\"Boar's Head Canyon Formation\""
      ]
     },
     "execution_count": 13,
     "metadata": {},
     "output_type": "execute_result"
    }
   ],
   "source": [
    "f\"{formation} Formation\""
   ]
  },
  {
   "cell_type": "markdown",
   "metadata": {},
   "source": [
    "You can add formatting to the expression inside the curly braces, and you can have as many substitutions as you like:"
   ]
  },
  {
   "cell_type": "code",
   "execution_count": 25,
   "metadata": {},
   "outputs": [
    {
     "data": {
      "text/plain": [
       "\"      Boar's Head Canyon Formation: 123 Ma\""
      ]
     },
     "execution_count": 25,
     "metadata": {},
     "output_type": "execute_result"
    }
   ],
   "source": [
    "age = 122.65\n",
    "f\"{formation:>24} Formation: {age:.0f} Ma\""
   ]
  },
  {
   "cell_type": "markdown",
   "metadata": {},
   "source": [
    "What's happening here? We're inserting 2 variables into this string. In each case, the variable to substitute is named before the colon. After the colon are the formatting instructions. For `formation` we're asking for the text to be right-justified (`>`) in a column 24 characters wide. For `age`, we're asking for a float (`f`) to be represented with no decimals."
   ]
  },
  {
   "cell_type": "raw",
   "metadata": {},
   "source": [
    "# SIDEBAR\n",
    "What's a method? It's just a function that 'belongs' to an object. We'll create some of our own later."
   ]
  },
  {
   "cell_type": "markdown",
   "metadata": {},
   "source": [
    "Format strings were new in Python 3.6, so if you're reading older code, you might see people using the `format` method:"
   ]
  },
  {
   "cell_type": "code",
   "execution_count": 26,
   "metadata": {},
   "outputs": [
    {
     "data": {
      "text/plain": [
       "\"Boar's Head Canyon Formation\""
      ]
     },
     "execution_count": 26,
     "metadata": {},
     "output_type": "execute_result"
    }
   ],
   "source": [
    "\"{} Formation\".format(formation)"
   ]
  },
  {
   "cell_type": "markdown",
   "metadata": {},
   "source": [
    "This might seem a little backwards, and a little repetitive — hence the introduction of format strings. You can use the same formatting instructions in each pair of curly braces."
   ]
  },
  {
   "cell_type": "markdown",
   "metadata": {},
   "source": [
    "If all we want to do is combine the string we named `formation` with the string `\"Formation\"`, we can just use concatenation. This is achieved wth the `+` operator, which Python interprets differently for strings than with numbers:"
   ]
  },
  {
   "cell_type": "code",
   "execution_count": 27,
   "metadata": {},
   "outputs": [
    {
     "data": {
      "text/plain": [
       "\"Boar's Head Canyon Formation\""
      ]
     },
     "execution_count": 27,
     "metadata": {},
     "output_type": "execute_result"
    }
   ],
   "source": [
    "formation + \" Formation\""
   ]
  },
  {
   "cell_type": "markdown",
   "metadata": {},
   "source": [
    "The `*` operator, which multiplies numbers, has also been 'overloaded' in a similar way:"
   ]
  },
  {
   "cell_type": "code",
   "execution_count": 28,
   "metadata": {},
   "outputs": [
    {
     "data": {
      "text/plain": [
       "'----- Cretaceous -----'"
      ]
     },
     "execution_count": 28,
     "metadata": {},
     "output_type": "execute_result"
    }
   ],
   "source": [
    "5 * \"-\" + \" Cretaceous \" + 5 * \"-\""
   ]
  },
  {
   "cell_type": "markdown",
   "metadata": {},
   "source": [
    "## Type casting\n",
    "\n",
    "Sometimes you need to convert something from one type to another.\n",
    "\n",
    "For example, this gives an error:"
   ]
  },
  {
   "cell_type": "code",
   "execution_count": 38,
   "metadata": {},
   "outputs": [
    {
     "ename": "TypeError",
     "evalue": "must be str, not int",
     "output_type": "error",
     "traceback": [
      "\u001b[0;31m---------------------------------------------------------------------------\u001b[0m",
      "\u001b[0;31mTypeError\u001b[0m                                 Traceback (most recent call last)",
      "\u001b[0;32m<ipython-input-38-96c75dd06c7b>\u001b[0m in \u001b[0;36m<module>\u001b[0;34m()\u001b[0m\n\u001b[1;32m      1\u001b[0m \u001b[0mduration\u001b[0m \u001b[0;34m=\u001b[0m \u001b[0;36m79\u001b[0m\u001b[0;34m\u001b[0m\u001b[0m\n\u001b[0;32m----> 2\u001b[0;31m \u001b[0;34m\"Length of Cretaceous = \"\u001b[0m \u001b[0;34m+\u001b[0m \u001b[0mduration\u001b[0m \u001b[0;34m+\u001b[0m \u001b[0;34m\" Ma\"\u001b[0m\u001b[0;34m\u001b[0m\u001b[0m\n\u001b[0m",
      "\u001b[0;31mTypeError\u001b[0m: must be str, not int"
     ]
    }
   ],
   "source": [
    "duration = 79\n",
    "\"Length of Cretaceous = \" + duration + \" Ma\""
   ]
  },
  {
   "cell_type": "markdown",
   "metadata": {},
   "source": [
    "Python doesn't implicitly understand that you want to turn the `79`, which is an `int`, into a string, so that you can concatenate it with the other string. Python thinks you might want to add another number to an `int`. So instead of guessing your intent, it throws a `TypeError`.\n",
    "\n",
    "We can explicitly cast the `int` to a `str` with a built-in function called `str`:"
   ]
  },
  {
   "cell_type": "code",
   "execution_count": 39,
   "metadata": {},
   "outputs": [
    {
     "data": {
      "text/plain": [
       "'Length of Cretaceous = 79 Ma'"
      ]
     },
     "execution_count": 39,
     "metadata": {},
     "output_type": "execute_result"
    }
   ],
   "source": [
    "\"Length of Cretaceous = \" + str(duration) + \" Ma\""
   ]
  },
  {
   "cell_type": "markdown",
   "metadata": {},
   "source": [
    "As we have already seen, we can use format strings for this sort of thing. You start to appreciate why they are so useful, because the conversion of the number to a string is implicit:"
   ]
  },
  {
   "cell_type": "code",
   "execution_count": 41,
   "metadata": {},
   "outputs": [
    {
     "data": {
      "text/plain": [
       "'Length of Cretaceous = 79 Ma'"
      ]
     },
     "execution_count": 41,
     "metadata": {},
     "output_type": "execute_result"
    }
   ],
   "source": [
    "f\"Length of Cretaceous = {duration} Ma\""
   ]
  },
  {
   "cell_type": "markdown",
   "metadata": {},
   "source": [
    "We may also sometimes need to cast from a string to a number, perhaps after reading data from a file. Again, here's Python not knowing what to do when we use the `-` (minus) operator on strings:"
   ]
  },
  {
   "cell_type": "code",
   "execution_count": 42,
   "metadata": {},
   "outputs": [
    {
     "ename": "TypeError",
     "evalue": "unsupported operand type(s) for -: 'str' and 'str'",
     "output_type": "error",
     "traceback": [
      "\u001b[0;31m---------------------------------------------------------------------------\u001b[0m",
      "\u001b[0;31mTypeError\u001b[0m                                 Traceback (most recent call last)",
      "\u001b[0;32m<ipython-input-42-04eeef910ecc>\u001b[0m in \u001b[0;36m<module>\u001b[0;34m()\u001b[0m\n\u001b[0;32m----> 1\u001b[0;31m \u001b[0;34m'145'\u001b[0m \u001b[0;34m-\u001b[0m \u001b[0;34m'66'\u001b[0m\u001b[0;34m\u001b[0m\u001b[0m\n\u001b[0m",
      "\u001b[0;31mTypeError\u001b[0m: unsupported operand type(s) for -: 'str' and 'str'"
     ]
    }
   ],
   "source": [
    "'145' - '66'"
   ]
  },
  {
   "cell_type": "code",
   "execution_count": 43,
   "metadata": {},
   "outputs": [
    {
     "data": {
      "text/plain": [
       "79.0"
      ]
     },
     "execution_count": 43,
     "metadata": {},
     "output_type": "execute_result"
    }
   ],
   "source": [
    "float(145) - float(66)"
   ]
  },
  {
   "cell_type": "markdown",
   "metadata": {},
   "source": [
    "We could also use `int()`, but `float()` is a bit safer in this case, because we might care about decimal places in some ages."
   ]
  },
  {
   "cell_type": "markdown",
   "metadata": {},
   "source": [
    "## `strip` and other methods\n",
    "\n",
    "Python's strings have quite a few convenient methods. Just enter this into a Notebook or at an IPython prompt:"
   ]
  },
  {
   "cell_type": "code",
   "execution_count": 44,
   "metadata": {
    "collapsed": true,
    "slideshow": {
     "slide_type": "fragment"
    }
   },
   "outputs": [],
   "source": [
    "s = \"McMurray Fm: Sand (unconsolidated),,,, \\n\""
   ]
  },
  {
   "cell_type": "markdown",
   "metadata": {},
   "source": [
    "Now type `s.` and press the **tab** key. You should see a list of methods pop up, starting with `s.capitalize`. Take a few minutes to explore some of them. Remember, you can find out what something does by typing, for example, `s.capitalize?` and executing."
   ]
  },
  {
   "cell_type": "code",
   "execution_count": 45,
   "metadata": {
    "collapsed": true
   },
   "outputs": [],
   "source": [
    "s.capitalize?"
   ]
  },
  {
   "cell_type": "markdown",
   "metadata": {},
   "source": [
    "You should see the following:\n",
    "\n",
    "    Docstring:\n",
    "    S.capitalize() -> str\n",
    "\n",
    "    Return a capitalized version of S, i.e. make the first character\n",
    "    have upper case and the rest lower case.\n",
    "    Type:      builtin_function_or_method\n",
    "    \n",
    "This says that calling `capitalize()` on `s` returns another `str`, and explains how the string will be transformed. Let's try it."
   ]
  },
  {
   "cell_type": "raw",
   "metadata": {},
   "source": [
    "# SIDEBAR\n",
    "Why do we write `capitalize` with `()` after it? This just emphasizes that we're calling it as a method or function."
   ]
  },
  {
   "cell_type": "code",
   "execution_count": 46,
   "metadata": {},
   "outputs": [
    {
     "data": {
      "text/plain": [
       "'Mcmurray fm: sand (unconsolidated),,,, \\n'"
      ]
     },
     "execution_count": 46,
     "metadata": {},
     "output_type": "execute_result"
    }
   ],
   "source": [
    "s.capitalize()"
   ]
  },
  {
   "cell_type": "markdown",
   "metadata": {},
   "source": [
    "What's that `\\n` doing at the end of the string? That's the newline character. If we call the `print` function on a string, those get printed as actual new lines:"
   ]
  },
  {
   "cell_type": "code",
   "execution_count": 47,
   "metadata": {},
   "outputs": [
    {
     "name": "stdout",
     "output_type": "stream",
     "text": [
      "PERIOD\n",
      "\n",
      "Cretaceous\n",
      "Jurassic\n",
      "Triassic\n"
     ]
    }
   ],
   "source": [
    "print(\"PERIOD\\n\\nCretaceous\\nJurassic\\nTriassic\")"
   ]
  },
  {
   "cell_type": "markdown",
   "metadata": {},
   "source": [
    "Note that although we type it as two characters, it represents a single character:"
   ]
  },
  {
   "cell_type": "code",
   "execution_count": 48,
   "metadata": {},
   "outputs": [
    {
     "data": {
      "text/plain": [
       "8"
      ]
     },
     "execution_count": 48,
     "metadata": {},
     "output_type": "execute_result"
    }
   ],
   "source": [
    "len(\"PERIOD\\n\\n\")  # PERIOD followed by 2 newlines."
   ]
  },
  {
   "cell_type": "code",
   "execution_count": 49,
   "metadata": {},
   "outputs": [
    {
     "data": {
      "text/plain": [
       "\"this's\""
      ]
     },
     "execution_count": 49,
     "metadata": {},
     "output_type": "execute_result"
    }
   ],
   "source": [
    "'this\\'s'"
   ]
  },
  {
   "cell_type": "markdown",
   "metadata": {},
   "source": [
    "Some other occasions on which you might need the backslash:\n",
    "\n",
    "- To make a tab character: `\\t`.\n",
    "- To type a backslash on its own, you must 'escape' it: `\\\\`.\n",
    "- If you need to type a `'` or `\"` in your string, and you can't just use the other mark to define the string itself, you must escape them with `\\`. So these both work: `\"She said, \\\"Don't do it!\\\"\"` or `'She said \"Don\\'t do it!\"'`.\n",
    "- To use a special character like `å`, you can give its octal value, `\"\\345\"`, or its hex value, `\"\\xe5\"`.\n",
    "\n",
    "As well as the newline, there are also some junk commas at the end of our string, probably left over from a CSV file or something. We can remove them by slicing:"
   ]
  },
  {
   "cell_type": "code",
   "execution_count": 50,
   "metadata": {},
   "outputs": [
    {
     "data": {
      "text/plain": [
       "'McMurray Fm: Sand (unconsolidated),'"
      ]
     },
     "execution_count": 50,
     "metadata": {},
     "output_type": "execute_result"
    }
   ],
   "source": [
    "s[:-5]"
   ]
  },
  {
   "cell_type": "markdown",
   "metadata": {},
   "source": [
    "But this requires us to know how many commas there are. Another string method, `strip()`, lets us remove any number of characters from the start or end of a string. It takes one optional argument: a string containing all the characters you want to strip off, in any order."
   ]
  },
  {
   "cell_type": "code",
   "execution_count": 51,
   "metadata": {
    "slideshow": {
     "slide_type": "-"
    }
   },
   "outputs": [
    {
     "data": {
      "text/plain": [
       "'McMurray Fm: Sand (unconsolidated)'"
      ]
     },
     "execution_count": 51,
     "metadata": {},
     "output_type": "execute_result"
    }
   ],
   "source": [
    "s.strip(' ,\\n')"
   ]
  },
  {
   "cell_type": "markdown",
   "metadata": {},
   "source": [
    "There are also two other strip methods that only operate on the left- or right-hand end of the string, `lstrip()` and `rstrip()`.\n",
    "\n",
    "\n",
    "## Exercises\n",
    "\n",
    "- Explore the indexing and slicing of strings. \n",
    "- Take some time to explore the various methods on Python's `str` object, especially:\n",
    "  - `upper()` and `lower()`\n",
    "  - `isupper()` and `islower()`\n",
    "  - `startswith()` and `endswith()`\n",
    "  - `find()` and `replace`\n",
    "\n",
    "\n",
    "- Predict the output of these commands:\n",
    "\n",
    "      x = \"Jurassic Period\"\n",
    "      x[x.lower().find('p') - 1]"
   ]
  },
  {
   "cell_type": "code",
   "execution_count": 53,
   "metadata": {
    "slideshow": {
     "slide_type": "-"
    }
   },
   "outputs": [
    {
     "data": {
      "text/plain": [
       "'Jurassic'"
      ]
     },
     "execution_count": 53,
     "metadata": {},
     "output_type": "execute_result"
    }
   ],
   "source": [
    "# SOLUTION\n",
    "x = \"Jurassic Period\"\n",
    "x[:x.lower().find('p') - 1]"
   ]
  },
  {
   "cell_type": "markdown",
   "metadata": {},
   "source": [
    "## Formatting strings\n",
    "\n",
    "ToDo: some commonly used ways of formatting strings."
   ]
  },
  {
   "cell_type": "code",
   "execution_count": null,
   "metadata": {
    "collapsed": true
   },
   "outputs": [],
   "source": []
  },
  {
   "cell_type": "markdown",
   "metadata": {},
   "source": [
    "## Moving on\n",
    "\n",
    "In this chapter you've met Python's string objects, and found out about their built-in methods. If you tried the `s.split()` method, you might have noticed that it does not return another string like `s.strip()`, or a number like `s.find()`. Instead, it returns a Python `list` — in this case a sequence of strings, resulting from breaking the original string at each space:"
   ]
  },
  {
   "cell_type": "code",
   "execution_count": 54,
   "metadata": {},
   "outputs": [
    {
     "data": {
      "text/plain": [
       "['McMurray', 'Fm:', 'Sand', '(unconsolidated),,,,']"
      ]
     },
     "execution_count": 54,
     "metadata": {},
     "output_type": "execute_result"
    }
   ],
   "source": [
    "s.split()"
   ]
  },
  {
   "cell_type": "markdown",
   "metadata": {},
   "source": [
    "In the next chapter, we'll find out all about lists."
   ]
  }
 ],
 "metadata": {
  "anaconda-cloud": {},
  "kernelspec": {
   "display_name": "Python [Root]",
   "language": "python",
   "name": "Python [Root]"
  },
  "language_info": {
   "codemirror_mode": {
    "name": "ipython",
    "version": 3
   },
   "file_extension": ".py",
   "mimetype": "text/x-python",
   "name": "python",
   "nbconvert_exporter": "python",
   "pygments_lexer": "ipython3",
   "version": "3.5.2"
  }
 },
 "nbformat": 4,
 "nbformat_minor": 2
}
