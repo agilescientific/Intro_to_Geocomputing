{
 "cells": [
  {
   "cell_type": "markdown",
   "metadata": {
    "slideshow": {
     "slide_type": "slide"
    }
   },
   "source": [
    "# Geological abstractions\n",
    "\n",
    "You've seen how to represent individual numbers and strings — and we'll use these concepts a lot in our programming. But you also need to be able to represent more complex things, like grains, or rocks, or maps, or models of the subsurface, or other geological entities. \n",
    "\n",
    "In general, we'd like to be able to make collections of data which represent these things and allow us to use them in our programs. Finding or making such collections is part of the challenge, and fun, or programming.\n",
    "\n",
    "On a fundamental level, 'geocomputing' is just this — the search for useful models of the earth in code and data.\n",
    "\n",
    "In our attempts to make useful models, we're going to meet the following Python types:\n",
    "\n",
    "- `list`: mutable ordered collections\n",
    "- `tuple`: immutable ordered collections\n",
    "- `dict`: mappings, short for 'dictionary'\n",
    "- `set`: unordered collections of unique elements\n",
    "\n",
    "We'll look at lists and tuples in this chapter, then continue with dicts and sets in the next. Let's get started!"
   ]
  },
  {
   "cell_type": "markdown",
   "metadata": {
    "slideshow": {
     "slide_type": "slide"
    }
   },
   "source": [
    "## `list`\n",
    "\n",
    "Lists in Python are one-dimensional, ordered containers whose elements may be any Python objects (numbers, strings, other lists, or a mixture of things). Lists are *mutable* — they can be changed in place — and have methods for adding and removing elements to and from themselves.\n",
    "\n",
    "The syntax to define a list is commas seperated values surrounded by square brackets (`[]`). The square brackets are a syntactic hint that lists are indexable.\n",
    "\n",
    "Let's imagine a stratigraphic series of six rocks, a sequence (in the non-technical sense). We'll define a list of P-wave velocities representing these rocks:"
   ]
  },
  {
   "cell_type": "code",
   "execution_count": 1,
   "metadata": {},
   "outputs": [
    {
     "data": {
      "text/plain": [
       "[2100, 2400, 2300, 2500, 2350, 2750]"
      ]
     },
     "execution_count": 1,
     "metadata": {},
     "output_type": "execute_result"
    }
   ],
   "source": [
    "vp = [2100, 2400, 2300, 2500, 2350, 2750]\n",
    "vp"
   ]
  },
  {
   "cell_type": "markdown",
   "metadata": {},
   "source": [
    "As with strings, we can index into the list with square brackets:"
   ]
  },
  {
   "cell_type": "code",
   "execution_count": 2,
   "metadata": {},
   "outputs": [
    {
     "data": {
      "text/plain": [
       "2100"
      ]
     },
     "execution_count": 2,
     "metadata": {},
     "output_type": "execute_result"
    }
   ],
   "source": [
    "vp[0]"
   ]
  },
  {
   "cell_type": "markdown",
   "metadata": {},
   "source": [
    "I can make a tuple of two or more such elements at once:"
   ]
  },
  {
   "cell_type": "code",
   "execution_count": 3,
   "metadata": {},
   "outputs": [
    {
     "data": {
      "text/plain": [
       "(2400, 2750)"
      ]
     },
     "execution_count": 3,
     "metadata": {},
     "output_type": "execute_result"
    }
   ],
   "source": [
    "vp[1], vp[-1]"
   ]
  },
  {
   "cell_type": "code",
   "execution_count": 4,
   "metadata": {},
   "outputs": [
    {
     "data": {
      "text/plain": [
       "[2300, 2500, 2350, 2750]"
      ]
     },
     "execution_count": 4,
     "metadata": {},
     "output_type": "execute_result"
    }
   ],
   "source": [
    "vp[2:]"
   ]
  },
  {
   "cell_type": "markdown",
   "metadata": {},
   "source": [
    "Unlike strings, lists are **mutable**, which means I can change an element in place:"
   ]
  },
  {
   "cell_type": "code",
   "execution_count": 5,
   "metadata": {},
   "outputs": [
    {
     "name": "stdout",
     "output_type": "stream",
     "text": [
      "2100\n",
      "2150\n"
     ]
    }
   ],
   "source": [
    "print(vp[0])\n",
    "vp[0] = 2150\n",
    "print(vp[0])"
   ]
  },
  {
   "cell_type": "markdown",
   "metadata": {},
   "source": [
    "We can add another 'layer' to the sequence of rocks:"
   ]
  },
  {
   "cell_type": "code",
   "execution_count": 6,
   "metadata": {},
   "outputs": [
    {
     "data": {
      "text/plain": [
       "[2150, 2400, 2300, 2500, 2350, 2750, 3000]"
      ]
     },
     "execution_count": 6,
     "metadata": {},
     "output_type": "execute_result"
    }
   ],
   "source": [
    "vp.append(3000)\n",
    "vp"
   ]
  },
  {
   "cell_type": "markdown",
   "metadata": {
    "slideshow": {
     "slide_type": "subslide"
    }
   },
   "source": [
    "We can also concatenate lists:"
   ]
  },
  {
   "cell_type": "code",
   "execution_count": 7,
   "metadata": {
    "slideshow": {
     "slide_type": "subslide"
    }
   },
   "outputs": [
    {
     "data": {
      "text/plain": [
       "[2150, 2400, 2300, 2500, 2350, 2750, 3000, 4000, 5000]"
      ]
     },
     "execution_count": 7,
     "metadata": {},
     "output_type": "execute_result"
    }
   ],
   "source": [
    "vp + [4000, 5000]"
   ]
  },
  {
   "cell_type": "markdown",
   "metadata": {
    "slideshow": {
     "slide_type": "subslide"
    }
   },
   "source": [
    "Note that we ran that command interactively — but it didn't change the list we made:"
   ]
  },
  {
   "cell_type": "code",
   "execution_count": 8,
   "metadata": {},
   "outputs": [
    {
     "data": {
      "text/plain": [
       "[2150, 2400, 2300, 2500, 2350, 2750, 3000]"
      ]
     },
     "execution_count": 8,
     "metadata": {},
     "output_type": "execute_result"
    }
   ],
   "source": [
    "vp"
   ]
  },
  {
   "cell_type": "markdown",
   "metadata": {
    "slideshow": {
     "slide_type": "-"
    }
   },
   "source": [
    "### Exercise: what is the expected output of the following commands?\n",
    "\n",
    "- `vp[:3]`\n",
    "- `vp[-2:]`\n",
    "- `vp[1:-1]`\n",
    "- `vp[1::2]`"
   ]
  },
  {
   "cell_type": "code",
   "execution_count": null,
   "metadata": {
    "collapsed": true
   },
   "outputs": [],
   "source": []
  },
  {
   "cell_type": "markdown",
   "metadata": {},
   "source": [
    "### Exercise: more indexing practice"
   ]
  },
  {
   "cell_type": "code",
   "execution_count": 9,
   "metadata": {
    "collapsed": true,
    "slideshow": {
     "slide_type": "slide"
    }
   },
   "outputs": [],
   "source": [
    "periods = ['Cambrian (\\uA792)', 'Ordovician (O)',  'Silurian (S)', \n",
    "           'Devonian (D)', 'Carboniferous (C)', 'Permian (P)',\n",
    "           'Triassic (T)', 'Jurassic (J)',  'Cretaceous (K)', \n",
    "           'Palaeogene (Pg)', 'Neogene (N)', 'Quaternary (Q)']"
   ]
  },
  {
   "cell_type": "markdown",
   "metadata": {
    "slideshow": {
     "slide_type": "subslide"
    }
   },
   "source": [
    "- return the string `Triassic (T)` \n",
    "- return just the word `Jurassic`\n",
    "- return the abbreviation `Pg`\n",
    "\n",
    "Try to do these things without explicitly using the positions of the characters. <span title=\"Use the string method find()\"><b>Hint.</b></span>"
   ]
  },
  {
   "cell_type": "markdown",
   "metadata": {
    "slideshow": {
     "slide_type": "slide"
    }
   },
   "source": [
    "## Nested `list`\n",
    "\n",
    "Lists can contain anything... but at some point things get out of hand. There's often a better way."
   ]
  },
  {
   "cell_type": "code",
   "execution_count": 10,
   "metadata": {
    "collapsed": true,
    "slideshow": {
     "slide_type": "fragment"
    }
   },
   "outputs": [],
   "source": [
    "periods = [[\"Cambrian (\\uA792)\", [541, 485]], [\"Ordovician (O)\", [485, 444]], \n",
    "           [\"Silurian (S)\", [444, 419]], [\"Devonian (D)\",[419, 359]], \n",
    "           [\"Carboniferous (M)\", [359, 299]], [\"Permian (P)\", [299, 252]],\n",
    "           [\"Triassic (T)\", [252, 201]], [\"Jurassic (J)\", [201, 145]],\n",
    "           [\"Cretaceous (C)\", [145, 66]], [\"Palaeogene (Pg)\", [66, 23]],\n",
    "           [\"Neogene (N)\", [23, 2.6]], [\"Quaternary (Q)\", [2.6, 0]],\n",
    "          ]"
   ]
  },
  {
   "cell_type": "markdown",
   "metadata": {},
   "source": [
    "## Pointers and gotchas\n",
    "\n",
    "Let's say we'd like to make another list, using `vp` as a starting point:"
   ]
  },
  {
   "cell_type": "code",
   "execution_count": 11,
   "metadata": {
    "collapsed": true
   },
   "outputs": [],
   "source": [
    "vp_new = vp"
   ]
  },
  {
   "cell_type": "markdown",
   "metadata": {},
   "source": [
    "Let's change the first element of the new list:"
   ]
  },
  {
   "cell_type": "code",
   "execution_count": 12,
   "metadata": {},
   "outputs": [
    {
     "data": {
      "text/plain": [
       "[1486, 2400, 2300, 2500, 2350, 2750, 3000]"
      ]
     },
     "execution_count": 12,
     "metadata": {},
     "output_type": "execute_result"
    }
   ],
   "source": [
    "vp_new[0] = 1486\n",
    "\n",
    "vp_new"
   ]
  },
  {
   "cell_type": "markdown",
   "metadata": {},
   "source": [
    "A reminder of what `vp` contains:"
   ]
  },
  {
   "cell_type": "code",
   "execution_count": 13,
   "metadata": {},
   "outputs": [
    {
     "data": {
      "text/plain": [
       "[1486, 2400, 2300, 2500, 2350, 2750, 3000]"
      ]
     },
     "execution_count": 13,
     "metadata": {},
     "output_type": "execute_result"
    }
   ],
   "source": [
    "vp"
   ]
  },
  {
   "cell_type": "markdown",
   "metadata": {},
   "source": [
    "Wait a minute! We changed `vp[0]` to `2150`... why is it now `1486`? \n",
    "\n",
    "This is one of the perils of high-level programming languages. Most of the time, the machinations of memory and computation are hidden away... but we can't forget them, especially with mutable types.\n",
    "\n",
    "The problem is that the command `vp_new = vp` didn't copy the actual list that resides in memory into a new bit of memory. It only made a new name and pointed it at the same bit of memory `vp` was pointed at. So both names are references to the same thing.\n",
    "\n",
    "So, how do we make a copy? Well, it depends: there are two types of copy: a shallow copy and a deep copy. Shallow copies make new objects, but the elements of those new objects are only references to other objects. Deep copies, on the other hand, copy the object and all the references they contain.\n",
    "\n",
    "This is the best way to make a shallow copy:"
   ]
  },
  {
   "cell_type": "code",
   "execution_count": 14,
   "metadata": {
    "collapsed": true
   },
   "outputs": [],
   "source": [
    "vp_new  = vp.copy()"
   ]
  },
  {
   "cell_type": "markdown",
   "metadata": {},
   "source": [
    "There is another popular way to make a shallow copy &mdash; you'll often see people do `vp_new = vp[:]`. This achieves the same thing, but we find it a little cryptic. You might also see people doing `vp_new = list(vp)`, which is also not all that obvious. It's better to use the crystal clear `vp.copy()`.\n",
    "\n",
    "To make a deep copy, which is always the safest thing to do if your lists contain mutable objects (such as other lists), you'll need the `copy` library, which is part of the standard distribution of Python and therefore always available. In our case the list only contains numbers so the deep copy has no advantage, but here's how we would do it:"
   ]
  },
  {
   "cell_type": "code",
   "execution_count": 15,
   "metadata": {
    "collapsed": true
   },
   "outputs": [],
   "source": [
    "import copy\n",
    "vp_new = copy.deepcopy(vp)"
   ]
  },
  {
   "cell_type": "markdown",
   "metadata": {},
   "source": [
    "Now that we have a copy, we can change the first element of `vp` back to what it was:"
   ]
  },
  {
   "cell_type": "code",
   "execution_count": 16,
   "metadata": {
    "collapsed": true
   },
   "outputs": [],
   "source": [
    "vp[0] = 2150"
   ]
  },
  {
   "cell_type": "markdown",
   "metadata": {},
   "source": [
    "...and check that `vp_new` did not change:"
   ]
  },
  {
   "cell_type": "code",
   "execution_count": 17,
   "metadata": {},
   "outputs": [
    {
     "data": {
      "text/plain": [
       "[1486, 2400, 2300, 2500, 2350, 2750, 3000]"
      ]
     },
     "execution_count": 17,
     "metadata": {},
     "output_type": "execute_result"
    }
   ],
   "source": [
    "vp_new"
   ]
  },
  {
   "cell_type": "markdown",
   "metadata": {},
   "source": [
    "It worked! The names `vp` and `vp_new` are now pointing at different objects in memory.\n",
    "\n",
    "This behaviour does not apply only to lists. It's the same with tuples, which we'll meet next, and with dictionaries, which we'll meet in the next chapter:"
   ]
  },
  {
   "cell_type": "code",
   "execution_count": 18,
   "metadata": {},
   "outputs": [
    {
     "name": "stdout",
     "output_type": "stream",
     "text": [
      "{1: 'a', 2: 'c'}\n"
     ]
    }
   ],
   "source": [
    "a = {1: 'a', 2: 'b'}\n",
    "b = a\n",
    "b[2] = 'c'\n",
    "print(a)"
   ]
  },
  {
   "cell_type": "markdown",
   "metadata": {
    "slideshow": {
     "slide_type": "slide"
    }
   },
   "source": [
    "### `tuples`\n",
    "\n",
    "*Tuples* are a lot like lists, but they are _immutable_ &mdash; they cannot be extended. They behave almost exactly the same as lists in every way except that you cannot change any of their values. There are no `append()` or `extend()` methods, and there are no *in-place* operators. \n",
    "\n",
    "They also differ from lists in their syntax. They are so central to how Python works, that *tuples* are defined by commas. Oftentimes, tuples will be seen surrounded by parentheses. These parentheses only serve to group actions or make the code more readable, not to actually define tuples."
   ]
  },
  {
   "cell_type": "code",
   "execution_count": 19,
   "metadata": {
    "collapsed": true,
    "slideshow": {
     "slide_type": "fragment"
    }
   },
   "outputs": [],
   "source": [
    "a = (1,2,3,4)  # a length-4 tuple\n",
    "b = (42,)      # length-1 tuple defined by the comma\n",
    "c = (42)       # not a tuple, just the number 42\n",
    "d = ()         # length-0 tuple- no commas means no elements\n",
    "e = 42, 1      # a length-2 tuple"
   ]
  },
  {
   "cell_type": "code",
   "execution_count": 20,
   "metadata": {},
   "outputs": [
    {
     "data": {
      "text/plain": [
       "((),)"
      ]
     },
     "execution_count": 20,
     "metadata": {},
     "output_type": "execute_result"
    }
   ],
   "source": [
    "(),"
   ]
  },
  {
   "cell_type": "code",
   "execution_count": 21,
   "metadata": {},
   "outputs": [
    {
     "ename": "TypeError",
     "evalue": "'tuple' object does not support item assignment",
     "output_type": "error",
     "traceback": [
      "\u001b[0;31m---------------------------------------------------------------------------\u001b[0m",
      "\u001b[0;31mTypeError\u001b[0m                                 Traceback (most recent call last)",
      "\u001b[0;32m<ipython-input-21-dec41322dc24>\u001b[0m in \u001b[0;36m<module>\u001b[0;34m()\u001b[0m\n\u001b[0;32m----> 1\u001b[0;31m \u001b[0ma\u001b[0m\u001b[0;34m[\u001b[0m\u001b[0;36m2\u001b[0m\u001b[0;34m]\u001b[0m \u001b[0;34m=\u001b[0m \u001b[0;36m5\u001b[0m\u001b[0;34m\u001b[0m\u001b[0m\n\u001b[0m",
      "\u001b[0;31mTypeError\u001b[0m: 'tuple' object does not support item assignment"
     ]
    }
   ],
   "source": [
    "a[2] = 5"
   ]
  },
  {
   "cell_type": "markdown",
   "metadata": {
    "slideshow": {
     "slide_type": "slide"
    }
   },
   "source": [
    "You can concatenate tuples together in the same way as lists, but be careful about the order of operations. This is where parentheses come in handy,"
   ]
  },
  {
   "cell_type": "markdown",
   "metadata": {
    "slideshow": {
     "slide_type": "subslide"
    }
   },
   "source": [
    "(1, 2) + (3, 4)"
   ]
  },
  {
   "cell_type": "code",
   "execution_count": 22,
   "metadata": {
    "slideshow": {
     "slide_type": "-"
    }
   },
   "outputs": [
    {
     "data": {
      "text/plain": [
       "(1, 2, 3, 4)"
      ]
     },
     "execution_count": 22,
     "metadata": {},
     "output_type": "execute_result"
    }
   ],
   "source": [
    "(1,2)+(3,4)"
   ]
  },
  {
   "cell_type": "markdown",
   "metadata": {
    "slideshow": {
     "slide_type": "subslide"
    }
   },
   "source": [
    "Note that even though tuples are immutable, they may have mutable elements. Suppose that we have a list embedded in a tuple. This list may be modified in-place even though the list may not be removed or replaced wholesale:"
   ]
  },
  {
   "cell_type": "code",
   "execution_count": 23,
   "metadata": {},
   "outputs": [
    {
     "data": {
      "text/plain": [
       "(1.0, [2, 4, 8], 16)"
      ]
     },
     "execution_count": 23,
     "metadata": {},
     "output_type": "execute_result"
    }
   ],
   "source": [
    "x = 1.0, [2, 4], 16\n",
    "x[1].append(8)\n",
    "x"
   ]
  },
  {
   "cell_type": "markdown",
   "metadata": {
    "slideshow": {
     "slide_type": "subslide"
    }
   },
   "source": [
    "In this way, the same gotcha that lists have can also apply to tuples:"
   ]
  },
  {
   "cell_type": "code",
   "execution_count": 24,
   "metadata": {},
   "outputs": [
    {
     "name": "stdout",
     "output_type": "stream",
     "text": [
      "([100], [2])\n",
      "([100], [2])\n"
     ]
    }
   ],
   "source": [
    "a = [1]\n",
    "b = [2]\n",
    "c = (a, b)  # Immutable... but the contents are mutable!\n",
    "d = c       # Just a pointer to the object `c` points to.\n",
    "a[0] = 100\n",
    "print(c)\n",
    "print(d)"
   ]
  },
  {
   "cell_type": "markdown",
   "metadata": {},
   "source": [
    "## Collector's items\n",
    "\n",
    "Now you can make collections of things! These collections will be important in almost every Python program we write. If they haven't sunk in yet, don't worry — you will get plenty of practice with these data structures.\n",
    "\n",
    "In the next chapter, we'll look at another important container — dictionaries — which will also become very familiar over time. We'll also meet sets, which have some special properties of their own."
   ]
  }
 ],
 "metadata": {
  "anaconda-cloud": {},
  "kernelspec": {
   "display_name": "Python [Root]",
   "language": "python",
   "name": "Python [Root]"
  },
  "language_info": {
   "codemirror_mode": {
    "name": "ipython",
    "version": 3
   },
   "file_extension": ".py",
   "mimetype": "text/x-python",
   "name": "python",
   "nbconvert_exporter": "python",
   "pygments_lexer": "ipython3",
   "version": "3.5.2"
  }
 },
 "nbformat": 4,
 "nbformat_minor": 2
}
