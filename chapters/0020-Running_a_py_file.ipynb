{
 "cells": [
  {
   "cell_type": "markdown",
   "metadata": {},
   "source": [
    "# Running a `.py` file\n",
    "\n",
    "## Running from the CLI\n",
    "\n",
    "As illustrated very briefly in [Python command line](0015-Python_command_line.ipynb), it is possible to run python scripts (text files containing python code and using the `.py` file extension) from the command line by simply passing the file name to python in the CLI:\n",
    "\n",
    "```\n",
    "$ python mymodule.py\n",
    "mymodule output\n",
    "```\n",
    "\n",
    "It also possible to pass arguments to the module by using [`sys.argv`](https://docs.python.org/3/library/sys.html#sys.argv) or [`argparse`](https://docs.python.org/3/library/argparse.html?highlight=argparse#module-argparse) for example.\n",
    "    \n",
    "```\n",
    "$ python mymodule.py myarg1 myarg2\n",
    "mymodule output\n",
    "```\n",
    "\n",
    "or\n",
    "\n",
    "```\n",
    "$ python mymodule.py --help\n",
    "mymodule output\n",
    "usage ...\n",
    "--help print this help message and exit\n",
    "```\n",
    "\n",
    "So far we assume that we are running python and passing a module that exists in the current directory as shown by (`cd` on Windows or `pwd` on Mac or Linux), however it is also possible to read a file in a different directory if you add the path containing your module to your `PATH` and then call it with the `-m` argument, you may have seen this if you added a `conda environment` to your `ipykernel list` with:\n",
    "\n",
    "```\n",
    "python -m ipykernel install --user --name <myenv>\n",
    "```\n",
    "\n",
    "The `-m` argument will\n",
    "> Search sys.path for the named module and execute its contents as the __main__ module.\n",
    "\n",
    "There are several ways to achieve this relative import as explained in this [Stack Overflow thread](https://stackoverflow.com/questions/3144089/expand-python-search-path-to-other-source) (original answer by [David Z](https://stackoverflow.com/users/56541/david-z) edited by [Oleg Kokorin](https://stackoverflow.com/users/6902803/oleg-kokorin)):\n",
    "\n",
    "> - Set the environment variable PYTHONPATH to a colon-separated list of directories to search for imported modules.\n",
    "> - In your program, use sys.path.append('/path/to/search') to add the names of directories you want Python to search for imported modules. sys.path is just the list of directories Python searches every time it gets asked to import a module, and you can alter it as needed (although I wouldn't recommend removing any of the standard directories!). Any directories you put in the environment variable PYTHONPATH will be inserted into sys.path when Python starts up.\n",
    "> - Use site.addsitedir to add a directory to sys.path. The difference between this and just plain appending is that when you use addsitedir, it also looks for .pth files within that directory and uses them to possibly add additional directories to sys.path based on the contents of the files. See the documentation for more detail.\n",
    "\n",
    "However for anything more involved, you should be using \n",
    "\n",
    "## Running from within a script\n",
    "\n",
    "Python scripts or modules are meant to be reused, and you can reuse them directly in your other scripts by running `import` commands inside your python module. There are three major ways to import packages:\n",
    "\n",
    "* `import package` $\\rightarrow$ imports everything. Access things using `package.function()`.\n",
    "* `import package as pkg` $\\rightarrow$ imports everything with an alias. Accessing things using `pkg.function()`.\n",
    "* `from package import function1, function2` $\\rightarrow$ import only `function1` and `function2`. Accessed as `function1()` and `function2()`."
   ]
  },
  {
   "cell_type": "code",
   "execution_count": null,
   "metadata": {},
   "outputs": [],
   "source": []
  }
 ],
 "metadata": {
  "kernelspec": {
   "display_name": "Python 3",
   "language": "python",
   "name": "python3"
  },
  "language_info": {
   "codemirror_mode": {
    "name": "ipython",
    "version": 3
   },
   "file_extension": ".py",
   "mimetype": "text/x-python",
   "name": "python",
   "nbconvert_exporter": "python",
   "pygments_lexer": "ipython3",
   "version": "3.8.5"
  }
 },
 "nbformat": 4,
 "nbformat_minor": 4
}
