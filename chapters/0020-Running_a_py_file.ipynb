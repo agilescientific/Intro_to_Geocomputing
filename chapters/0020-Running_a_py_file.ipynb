{
 "cells": [
  {
   "cell_type": "markdown",
   "metadata": {},
   "source": [
    "# Running a `.py` file\n",
    "\n",
    "## Running from the CLI\n",
    "\n",
    "As illustrated very briefly in [Python command line](0015-Python_command_line.ipynb), it is possible to run python scripts (text files containing python code and using the `.py` file extension) from the command line by simply passing the file name to python in the CLI:\n",
    "\n",
    "```\n",
    "$ python mymodule.py\n",
    "mymodule output\n",
    "```\n",
    "\n",
    "It also possible to pass arguments to the module by using [`sys.argv`](https://docs.python.org/3/library/sys.html#sys.argv) or [`argparse`](https://docs.python.org/3/library/argparse.html?highlight=argparse#module-argparse) for example.\n",
    "    \n",
    "```\n",
    "$ python mymodule.py myarg1 myarg2\n",
    "mymodule output\n",
    "```\n",
    "\n",
    "or\n",
    "\n",
    "```\n",
    "$ python mymodule.py --help\n",
    "mymodule output\n",
    "usage ...\n",
    "--help print this help message and exit\n",
    "```\n",
    "\n",
    "So far we assume that we are running python and passing a module that exists in the current directory as shown by (`cd` on Windows or `pwd` on Mac or Linux), however it is also possible to read a file in a different directory if you add the path containing your module to your `PATH` and then call it with:\n",
    "\n",
    "```\n",
    "python -m mymodule_in_other_folder.py\n",
    "```\n",
    "\n",
    "## Running from within a script\n",
    "\n",
    "Python scripts or modules are meant to be reused, and you can reuse them directly in your other scripts by running `import` commands inside your python module. There are three major ways to import packages:\n",
    "\n",
    "* `import package` $\\rightarrow$ imports everything. Access things using `package.function()`.\n",
    "* `import package as pkg` $\\rightarrow$ imports everything with an alias. Accessing things using `pkg.function()`.\n",
    "* `from package import function1, function2` $\\rightarrow$ import only `function1` and `function2`. Accessed as `function1()` and `function2()`."
   ]
  },
  {
   "cell_type": "code",
   "execution_count": null,
   "metadata": {},
   "outputs": [],
   "source": []
  }
 ],
 "metadata": {
  "kernelspec": {
   "display_name": "Python 3",
   "language": "python",
   "name": "python3"
  },
  "language_info": {
   "codemirror_mode": {
    "name": "ipython",
    "version": 3
   },
   "file_extension": ".py",
   "mimetype": "text/x-python",
   "name": "python",
   "nbconvert_exporter": "python",
   "pygments_lexer": "ipython3",
   "version": "3.8.5"
  }
 },
 "nbformat": 4,
 "nbformat_minor": 4
}
