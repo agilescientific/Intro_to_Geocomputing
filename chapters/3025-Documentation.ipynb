{
 "cells": [
  {
   "cell_type": "markdown",
   "metadata": {},
   "source": [
    "# Documentation"
   ]
  },
  {
   "cell_type": "markdown",
   "metadata": {},
   "source": [
    "## Comments and docstrings\n",
    "\n",
    "In general:\n",
    "\n",
    "- Try to write code that doesn't need comments.\n",
    "- Either make comments useful or leave them out.\n",
    "- Comments should be complete sentences.\n",
    "- Use correct punctuation.\n",
    "- Be brief.\n",
    "- Only use string literals for docstrings.\n",
    "- Use two spaces before an in-line comment.\n",
    "- Put a space after the # symbol.\n",
    "- Give scientific citations where appropriate.\n",
    "- Don't comment out code you don't use, delete it."
   ]
  },
  {
   "cell_type": "code",
   "execution_count": 1,
   "metadata": {
    "collapsed": true
   },
   "outputs": [],
   "source": [
    "def ignore_case(x):\n",
    "    \"\"\"\n",
    "    This is a docstring. It's special.\n",
    "    \n",
    "    Args:\n",
    "        x (str). The input arguments.\n",
    "        \n",
    "    Returns:\n",
    "        str. What the function returns.\n",
    "    \"\"\"\n",
    "    # This is just a normal comment.\n",
    "    return x.lower()  # So is this."
   ]
  },
  {
   "cell_type": "code",
   "execution_count": 2,
   "metadata": {},
   "outputs": [
    {
     "name": "stdout",
     "output_type": "stream",
     "text": [
      "Help on function ignore_case in module __main__:\n",
      "\n",
      "ignore_case(x)\n",
      "    This is a docstring. It's special.\n",
      "    \n",
      "    Args:\n",
      "        x (str). The input arguments.\n",
      "        \n",
      "    Returns:\n",
      "        str. What the function returns.\n",
      "\n"
     ]
    }
   ],
   "source": [
    "help(ignore_case)"
   ]
  },
  {
   "cell_type": "code",
   "execution_count": 3,
   "metadata": {},
   "outputs": [
    {
     "name": "stdout",
     "output_type": "stream",
     "text": [
      "\n",
      "    This is a docstring. It's special.\n",
      "    \n",
      "    Args:\n",
      "        x (str). The input arguments.\n",
      "        \n",
      "    Returns:\n",
      "        str. What the function returns.\n",
      "    \n"
     ]
    }
   ],
   "source": [
    "print(ignore_case.__doc__)"
   ]
  },
  {
   "cell_type": "code",
   "execution_count": 4,
   "metadata": {
    "collapsed": true
   },
   "outputs": [],
   "source": [
    "# In Jupyter Notebook\n",
    "ignore_case?"
   ]
  },
  {
   "cell_type": "markdown",
   "metadata": {},
   "source": [
    "You'll find that all built-in functions and libraries, and everything in big 3rd party libraries like NumPy, has great documentation:"
   ]
  },
  {
   "cell_type": "code",
   "execution_count": 5,
   "metadata": {},
   "outputs": [
    {
     "name": "stdout",
     "output_type": "stream",
     "text": [
      "Help on built-in function print in module builtins:\n",
      "\n",
      "print(...)\n",
      "    print(value, ..., sep=' ', end='\\n', file=sys.stdout, flush=False)\n",
      "    \n",
      "    Prints the values to a stream, or to sys.stdout by default.\n",
      "    Optional keyword arguments:\n",
      "    file:  a file-like object (stream); defaults to the current sys.stdout.\n",
      "    sep:   string inserted between values, default a space.\n",
      "    end:   string appended after the last value, default a newline.\n",
      "    flush: whether to forcibly flush the stream.\n",
      "\n"
     ]
    }
   ],
   "source": [
    "help(print)"
   ]
  },
  {
   "cell_type": "markdown",
   "metadata": {},
   "source": [
    "### Poor style\n",
    "\n",
    "Lots of people advise against a lot of comments after text."
   ]
  },
  {
   "cell_type": "code",
   "execution_count": 6,
   "metadata": {
    "collapsed": true
   },
   "outputs": [],
   "source": [
    "a = 9.81  # Gravitational acceleration.\n",
    "b = 5     # Time in seconds.\n",
    "c = (1/2) * a * (b**2)  # Calculate displacement."
   ]
  },
  {
   "cell_type": "markdown",
   "metadata": {},
   "source": [
    "This is better:"
   ]
  },
  {
   "cell_type": "code",
   "execution_count": 7,
   "metadata": {
    "collapsed": true
   },
   "outputs": [],
   "source": [
    "# Calculate displacement s given acceleration due to gravity and\n",
    "# time, according to kinematic equation for constant acceleration.\n",
    "g = 9.81\n",
    "t = 5\n",
    "s = (1/2) * g * (t**2)"
   ]
  },
  {
   "cell_type": "markdown",
   "metadata": {},
   "source": [
    "This might be better still, depending on your opinion:"
   ]
  },
  {
   "cell_type": "code",
   "execution_count": 8,
   "metadata": {
    "collapsed": true
   },
   "outputs": [],
   "source": [
    "accelation_gravity = 9.81\n",
    "time_in_s = 5\n",
    "displacement_in_m = (1/2) * accelation_gravity * (time_in_s**2)"
   ]
  },
  {
   "cell_type": "markdown",
   "metadata": {},
   "source": [
    "### A small aside about units"
   ]
  },
  {
   "cell_type": "markdown",
   "metadata": {},
   "source": [
    "As this example suggests, scientific units are a bit of a problem in scientific computing. There are several solutions, the best of which are probably `pint` and `astropy.units`. Here's `pint` in action:"
   ]
  },
  {
   "cell_type": "code",
   "execution_count": 15,
   "metadata": {},
   "outputs": [
    {
     "data": {
      "text/html": [
       "122.625 meter"
      ],
      "text/latex": [
       "$122.625\\ \\mathrm{meter}$"
      ],
      "text/plain": [
       "<Quantity(122.625, 'meter')>"
      ]
     },
     "execution_count": 15,
     "metadata": {},
     "output_type": "execute_result"
    }
   ],
   "source": [
    "import pint\n",
    "\n",
    "ur = pint.UnitRegistry()\n",
    "\n",
    "g = 9.81 * ur.m / (ur.s)**2\n",
    "t = 5 * ur.s\n",
    "s = (1/2) * g * (t**2)\n",
    "\n",
    "s"
   ]
  },
  {
   "cell_type": "markdown",
   "metadata": {},
   "source": [
    "## Writing complete docs with `sphinx`\n",
    "\n",
    "This is a big topic. Adopting a full-blown documentation authoring tool may not be worth doing for anything except larger projects with more than one developer, multiple users, and a complex workflow. Here's the jist:\n",
    "\n",
    "- Install with `pip install Sphinx`.\n",
    "- Start documenting your project with `sphinx-quickstart`.\n",
    "- [Here's the Sphinx tutorial.](http://www.sphinx-doc.org/en/stable/tutorial.html)\n",
    "- You write documentation in restructured text (rst) files.\n",
    "- You can optionally include the docstrings from your code.\n",
    "- Documentation is compiled into output formats, usually HTML.\n",
    "- You can style the HTML however you want, adding links, TOC, etc.\n",
    "- The environment is controlled from the `conf.py` file in the `docs` directory.\n",
    "- It's easy (sort of) to sync with [readthedocs.org](https://readthedocs.org/) or other sites.\n",
    "\n",
    "I'm not going into it now; hopefully this is enough to get started."
   ]
  },
  {
   "cell_type": "markdown",
   "metadata": {},
   "source": [
    "## `doctest`\n",
    "\n",
    "Make your docstrings work for a living!"
   ]
  },
  {
   "cell_type": "code",
   "execution_count": 14,
   "metadata": {
    "collapsed": true
   },
   "outputs": [],
   "source": [
    "def quad(x, a=1, b=1, c=0):\n",
    "    \"\"\"\n",
    "    Returns the quadratic function of x,\n",
    "    a.x^2 + b.x + c\n",
    "    where\n",
    "    a = b = 1 and c = 0.\n",
    "    \n",
    "    Examples:\n",
    "    >>> quad(10)\n",
    "    110\n",
    "    >>> quad(10, a=3, b=2, c=1)\n",
    "    321\n",
    "    \"\"\"\n",
    "    return a*x**2 + b*x + c"
   ]
  },
  {
   "cell_type": "code",
   "execution_count": 15,
   "metadata": {},
   "outputs": [
    {
     "data": {
      "text/plain": [
       "110"
      ]
     },
     "execution_count": 15,
     "metadata": {},
     "output_type": "execute_result"
    }
   ],
   "source": [
    "quad(10)"
   ]
  },
  {
   "cell_type": "code",
   "execution_count": 16,
   "metadata": {},
   "outputs": [
    {
     "data": {
      "text/plain": [
       "321"
      ]
     },
     "execution_count": 16,
     "metadata": {},
     "output_type": "execute_result"
    }
   ],
   "source": [
    "quad(10, a=3, b=2, c=1)"
   ]
  },
  {
   "cell_type": "code",
   "execution_count": 19,
   "metadata": {},
   "outputs": [
    {
     "data": {
      "text/plain": [
       "TestResults(failed=0, attempted=2)"
      ]
     },
     "execution_count": 19,
     "metadata": {},
     "output_type": "execute_result"
    }
   ],
   "source": [
    "doctest.testmod()"
   ]
  },
  {
   "cell_type": "markdown",
   "metadata": {},
   "source": [
    "See the section on Testing for a more in-depth look at `doctest`."
   ]
  },
  {
   "cell_type": "markdown",
   "metadata": {
    "collapsed": true
   },
   "source": [
    "## Type hints\n",
    "\n",
    "New in Python 3. Essentially a type of documentation. [Read about them.](https://docs.python.org/3/library/typing.html) [Read PEP484](https://www.python.org/dev/peps/pep-0484/).\n",
    "\n",
    "You can check the internal consistency of types using [mypy](http://mypy-lang.org/index.html).\n",
    "\n",
    "Python is **strongly typed** — you cannot add an `int` to a `str`. For example, `2 + \"3\"` throws a `TypeError`, whereas in JavaScript, which is weakly typed, it returns `\"23\"`. \n",
    "\n",
    "But Python is **dynamically typed**, so I can do `x = 5` and then, later, `x = \"Hello\"` — the type of `x` is dynamic, and depends only on the data I point it to. Similarly, I can pass ints, floats or strings into a function that multiplies things:"
   ]
  },
  {
   "cell_type": "code",
   "execution_count": 34,
   "metadata": {},
   "outputs": [
    {
     "data": {
      "text/plain": [
       "'thisthis'"
      ]
     },
     "execution_count": 34,
     "metadata": {},
     "output_type": "execute_result"
    }
   ],
   "source": [
    "def double(n):\n",
    "    return 2 * n\n",
    "\n",
    "double('this')"
   ]
  },
  {
   "cell_type": "markdown",
   "metadata": {},
   "source": [
    "As you might imagine, sometimes this kind of flexibility can be the cause of bugs. \n",
    "\n",
    "The basic idea of type hints is to bridge the gap between dynamic typing (Python's usual mode, so to speak), and static typing (a popular feature of some other languages, such as Java or C).\n",
    "\n",
    "You can annotate a variable assignment with the expected type of the variable, for example:"
   ]
  },
  {
   "cell_type": "code",
   "execution_count": 35,
   "metadata": {
    "collapsed": true
   },
   "outputs": [],
   "source": [
    "n: float = 3.14159"
   ]
  },
  {
   "cell_type": "markdown",
   "metadata": {},
   "source": [
    "There's a similar signature for annotating functions, with some special syntax for annotating the return variable too:"
   ]
  },
  {
   "cell_type": "code",
   "execution_count": 36,
   "metadata": {},
   "outputs": [
    {
     "data": {
      "text/plain": [
       "4.2"
      ]
     },
     "execution_count": 36,
     "metadata": {},
     "output_type": "execute_result"
    }
   ],
   "source": [
    "def double(n: float) -> float:\n",
    "    return 2 * n\n",
    "\n",
    "double(2.1)"
   ]
  },
  {
   "cell_type": "markdown",
   "metadata": {},
   "source": [
    "These are just annotations, however, there is no actual type checking. You can still do whatever you want."
   ]
  },
  {
   "cell_type": "code",
   "execution_count": 37,
   "metadata": {},
   "outputs": [
    {
     "data": {
      "text/plain": [
       "'thisthis'"
      ]
     },
     "execution_count": 37,
     "metadata": {},
     "output_type": "execute_result"
    }
   ],
   "source": [
    "double('this')"
   ]
  },
  {
   "cell_type": "markdown",
   "metadata": {},
   "source": [
    "You can, however, check the internal consistency of types using [mypy](http://mypy-lang.org/index.html).\n",
    "\n",
    "The `typing` module helps make composite types (e.g. a list of floats), new types, etc."
   ]
  },
  {
   "cell_type": "code",
   "execution_count": 38,
   "metadata": {
    "collapsed": true
   },
   "outputs": [],
   "source": [
    "from typing import List\n",
    "Vector = List[float]\n",
    "\n",
    "def scale(scalar: float, vector: Vector) -> Vector:\n",
    "    return [scalar * num for num in vector]\n",
    "\n",
    "# typechecks; a list of floats qualifies as a Vector.\n",
    "new_vector = scale(2.0, [1.0, -4.2, 5.4])"
   ]
  },
  {
   "cell_type": "code",
   "execution_count": 39,
   "metadata": {},
   "outputs": [
    {
     "data": {
      "text/plain": [
       "[2.0, -8.4, 10.8]"
      ]
     },
     "execution_count": 39,
     "metadata": {},
     "output_type": "execute_result"
    }
   ],
   "source": [
    "new_vector"
   ]
  },
  {
   "cell_type": "markdown",
   "metadata": {
    "collapsed": true
   },
   "source": [
    "None of this changes the actual type of the variables:"
   ]
  },
  {
   "cell_type": "code",
   "execution_count": 40,
   "metadata": {},
   "outputs": [
    {
     "data": {
      "text/plain": [
       "list"
      ]
     },
     "execution_count": 40,
     "metadata": {},
     "output_type": "execute_result"
    }
   ],
   "source": [
    "type(new_vector)"
   ]
  }
 ],
 "metadata": {
  "anaconda-cloud": {},
  "kernelspec": {
   "display_name": "Python 3",
   "language": "python",
   "name": "python3"
  },
  "language_info": {
   "codemirror_mode": {
    "name": "ipython",
    "version": 3
   },
   "file_extension": ".py",
   "mimetype": "text/x-python",
   "name": "python",
   "nbconvert_exporter": "python",
   "pygments_lexer": "ipython3",
   "version": "3.6.3"
  }
 },
 "nbformat": 4,
 "nbformat_minor": 1
}
