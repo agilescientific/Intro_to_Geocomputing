{
 "cells": [
  {
   "cell_type": "markdown",
   "metadata": {
    "slideshow": {
     "slide_type": "slide"
    }
   },
   "source": [
    "# Geological abstractions 2\n",
    "\n",
    "Next we're going to meet the following Python types:\n",
    "\n",
    "- `dict`: mappings, short for 'dictionary'\n",
    "- `set`: unordered collections of unique elements\n",
    "\n",
    "Let's get started!"
   ]
  },
  {
   "cell_type": "markdown",
   "metadata": {
    "slideshow": {
     "slide_type": "slide"
    }
   },
   "source": [
    "## `dicts`\n",
    "\n",
    "Dictionaries are an important data structure in Python. They are arguably the most important, since Python's internal workings depend entirely on dictionaries. Called mappings or hash tables in other languages, a dictionary, or `dict`, is a collection of unique key / value pairs. The dictionary itself is mutable, but the keys must be immutable.\n",
    "\n",
    "To see why the concept of key / value pairs is useful, recall the data structure we used in the last chapter for a list of geological periods, with further lists for their ages:"
   ]
  },
  {
   "cell_type": "code",
   "execution_count": 68,
   "metadata": {
    "collapsed": true
   },
   "outputs": [],
   "source": [
    "period_list = [[\"Cambrian (\\uA792)\", [541, 485]], [\"Ordovician (O)\", [485, 444]], \n",
    "               [\"Silurian (S)\", [444, 419]], [\"Devonian (D)\",[419, 359]], \n",
    "               [\"Carboniferous (M)\", [359, 299]], [\"Permian (P)\", [299, 252]],\n",
    "               [\"Triassic (T)\", [252, 201]], [\"Jurassic (J)\", [201, 145]],\n",
    "               [\"Cretaceous (C)\", [155, 66]], [\"Palaeogene (Pg)\", [66, 23]],\n",
    "               [\"Neogene (N)\", [23, 2.6]], [\"Quaternary (Q)\", [2.6, 0]],\n",
    "              ]"
   ]
  },
  {
   "cell_type": "markdown",
   "metadata": {},
   "source": [
    "Dictionaries turn out to be a much more convenient way to store information like this, because instead of just making a list of the values (or the names or their start and end ages), and relying on their positions for meaning, we can use _keys_ to give the _values_ more natural names. For example, we could store a 'row' of our dataset like this:"
   ]
  },
  {
   "cell_type": "code",
   "execution_count": 69,
   "metadata": {
    "collapsed": true
   },
   "outputs": [],
   "source": [
    "period = {'name': \"Cambrian\", \"start\": 544, \"end\": 495}"
   ]
  },
  {
   "cell_type": "markdown",
   "metadata": {},
   "source": [
    "This is nice, because instead of remembering the indices of our data, we can use names. For example:"
   ]
  },
  {
   "cell_type": "code",
   "execution_count": 70,
   "metadata": {},
   "outputs": [
    {
     "data": {
      "text/plain": [
       "'Cambrian'"
      ]
     },
     "execution_count": 70,
     "metadata": {},
     "output_type": "execute_result"
    }
   ],
   "source": [
    "period['name']"
   ]
  },
  {
   "cell_type": "markdown",
   "metadata": {},
   "source": [
    "Adding new keys follows the same pattern:"
   ]
  },
  {
   "cell_type": "code",
   "execution_count": 71,
   "metadata": {},
   "outputs": [
    {
     "data": {
      "text/plain": [
       "{'abbreviation': 'Ꞓ', 'end': 495, 'name': 'Cambrian', 'start': 544}"
      ]
     },
     "execution_count": 71,
     "metadata": {},
     "output_type": "execute_result"
    }
   ],
   "source": [
    "period[\"abbreviation\"] = \"\\uA792\"\n",
    "period"
   ]
  },
  {
   "cell_type": "markdown",
   "metadata": {},
   "source": [
    "Notice that the order of the keys seems to be random. This is a bug in IPython (at the time of writing, version 6.1.0). Python dictionaries before Python version 3.6 had randomly ordered keys, but since version 3.6, keys are stored in the order in which they are added. Some utilities have not caught up yet and still reflect the older behaviour."
   ]
  },
  {
   "cell_type": "code",
   "execution_count": 72,
   "metadata": {},
   "outputs": [
    {
     "data": {
      "text/plain": [
       "'6.1.0'"
      ]
     },
     "execution_count": 72,
     "metadata": {},
     "output_type": "execute_result"
    }
   ],
   "source": [
    "import IPython\n",
    "IPython.__version__"
   ]
  },
  {
   "cell_type": "markdown",
   "metadata": {},
   "source": [
    "Returning to our example, there are a few ways would could organize this dataset. The structure we choose depends on the purpose we have in mind and the features we want. One possibility is to make a dictionary that maps each period name to another dict containing its metadata.\n",
    "\n",
    "Instead of defining it implicitly, challenge yourself to build the dictionary programmatically in the following exercise."
   ]
  },
  {
   "cell_type": "markdown",
   "metadata": {},
   "source": [
    "### Exercise\n",
    "\n",
    "Build a dictionary from `period_list`. The keys should be `'Cambrian'`, `'Ordovician'`, etc. The values should be like this:\n",
    "\n",
    "    {'abbreviation': 'Ꞓ', 'start': 541, 'end': 485}\n",
    "    \n",
    "It can be done in a single 'dictionary comprehension', but you will find it easier to do it in a loop."
   ]
  },
  {
   "cell_type": "code",
   "execution_count": null,
   "metadata": {
    "collapsed": true
   },
   "outputs": [],
   "source": []
  },
  {
   "cell_type": "code",
   "execution_count": 73,
   "metadata": {
    "collapsed": true
   },
   "outputs": [],
   "source": [
    "# SOLUTION 1\n",
    "periods = {}\n",
    "for period in period_list:\n",
    "    name, abbr = period[0].split()\n",
    "    meta = dict(abbreviation = abbr.strip('()'),\n",
    "                start = period[1][0],\n",
    "                end = period[1][1],\n",
    "                )\n",
    "    periods[name] = meta"
   ]
  },
  {
   "cell_type": "code",
   "execution_count": 74,
   "metadata": {
    "collapsed": true
   },
   "outputs": [],
   "source": [
    "# SOLUTION 2\n",
    "periods = {i[0].split()[0]: {'abbreviation': i[0].split()[1].strip('()'), 'start': i[1][0], 'end': i[1][1]}\n",
    "           for i in period_list}"
   ]
  },
  {
   "cell_type": "code",
   "execution_count": 75,
   "metadata": {},
   "outputs": [
    {
     "data": {
      "text/plain": [
       "{'Cambrian': {'abbreviation': 'Ꞓ', 'end': 485, 'start': 541},\n",
       " 'Carboniferous': {'abbreviation': 'M', 'end': 299, 'start': 359},\n",
       " 'Cretaceous': {'abbreviation': 'C', 'end': 66, 'start': 155},\n",
       " 'Devonian': {'abbreviation': 'D', 'end': 359, 'start': 419},\n",
       " 'Jurassic': {'abbreviation': 'J', 'end': 145, 'start': 201},\n",
       " 'Neogene': {'abbreviation': 'N', 'end': 2.6, 'start': 23},\n",
       " 'Ordovician': {'abbreviation': 'O', 'end': 444, 'start': 485},\n",
       " 'Palaeogene': {'abbreviation': 'Pg', 'end': 23, 'start': 66},\n",
       " 'Permian': {'abbreviation': 'P', 'end': 252, 'start': 299},\n",
       " 'Quaternary': {'abbreviation': 'Q', 'end': 0, 'start': 2.6},\n",
       " 'Silurian': {'abbreviation': 'S', 'end': 419, 'start': 444},\n",
       " 'Triassic': {'abbreviation': 'T', 'end': 201, 'start': 252}}"
      ]
     },
     "execution_count": 75,
     "metadata": {},
     "output_type": "execute_result"
    }
   ],
   "source": [
    "periods"
   ]
  },
  {
   "cell_type": "markdown",
   "metadata": {},
   "source": [
    "## Changing entries"
   ]
  },
  {
   "cell_type": "markdown",
   "metadata": {},
   "source": [
    "Dictionaries are mutable, so we can change their contents in-place. We do this by simply reassigning a value; let's fix the abbreviation for the Carboniferous:"
   ]
  },
  {
   "cell_type": "code",
   "execution_count": 76,
   "metadata": {
    "collapsed": true
   },
   "outputs": [],
   "source": [
    "periods['Carboniferous'] = {'abbreviation': 'C', 'start': 359, 'end': 299}"
   ]
  },
  {
   "cell_type": "markdown",
   "metadata": {},
   "source": [
    "Instead of making a whole new dictionary for the value, we could index into it and change only the abbreviation itself:"
   ]
  },
  {
   "cell_type": "code",
   "execution_count": 77,
   "metadata": {
    "collapsed": true
   },
   "outputs": [],
   "source": [
    "periods['Cretaceous']['abbreviation'] = 'K'"
   ]
  },
  {
   "cell_type": "markdown",
   "metadata": {},
   "source": [
    "Now we can step over our dictionary's items and do something with them. The convenient `items()` method on a dictionary is an iterable that returns `(key, value)` tuples:"
   ]
  },
  {
   "cell_type": "code",
   "execution_count": 78,
   "metadata": {},
   "outputs": [
    {
     "name": "stdout",
     "output_type": "stream",
     "text": [
      "The Cambrian started 541 million years ago.\n",
      "The Ordovician started 485 million years ago.\n",
      "The Silurian started 444 million years ago.\n",
      "The Devonian started 419 million years ago.\n",
      "The Carboniferous started 359 million years ago.\n",
      "The Permian started 299 million years ago.\n",
      "The Triassic started 252 million years ago.\n",
      "The Jurassic started 201 million years ago.\n",
      "The Cretaceous started 155 million years ago.\n",
      "The Palaeogene started 66 million years ago.\n",
      "The Neogene started 23 million years ago.\n",
      "The Quaternary started 2.6 million years ago.\n"
     ]
    }
   ],
   "source": [
    "for key, value in periods.items():\n",
    "    print(f\"The {key} started {value['start']} million years ago.\")"
   ]
  },
  {
   "cell_type": "markdown",
   "metadata": {},
   "source": [
    "We used `key` and `value` for the names of those elements in that loop, but normally we'd look for more descriptive names for these variables. In this case, `period` and `meta` might make sense."
   ]
  },
  {
   "cell_type": "markdown",
   "metadata": {},
   "source": [
    "## Default values\n",
    "\n",
    "Dictionaries are a little like little databases. Just like a real database, sometimes we'll attempt to retrieve a value from a dictionary, only to find it is not there:"
   ]
  },
  {
   "cell_type": "code",
   "execution_count": 58,
   "metadata": {},
   "outputs": [
    {
     "ename": "KeyError",
     "evalue": "'Mississippian'",
     "output_type": "error",
     "traceback": [
      "\u001b[0;31m---------------------------------------------------------------------------\u001b[0m",
      "\u001b[0;31mKeyError\u001b[0m                                  Traceback (most recent call last)",
      "\u001b[0;32m<ipython-input-58-e26adbc59b57>\u001b[0m in \u001b[0;36m<module>\u001b[0;34m()\u001b[0m\n\u001b[0;32m----> 1\u001b[0;31m \u001b[0mperiods\u001b[0m\u001b[0;34m[\u001b[0m\u001b[0;34m'Mississippian'\u001b[0m\u001b[0;34m]\u001b[0m\u001b[0;34m\u001b[0m\u001b[0m\n\u001b[0m",
      "\u001b[0;31mKeyError\u001b[0m: 'Mississippian'"
     ]
    }
   ],
   "source": [
    "periods['Mississippian']"
   ]
  },
  {
   "cell_type": "markdown",
   "metadata": {},
   "source": [
    "Dictionaries have a `get()` method, which takes a default value that will be returned if the key is missing from the dictionary:"
   ]
  },
  {
   "cell_type": "code",
   "execution_count": 60,
   "metadata": {},
   "outputs": [
    {
     "data": {
      "text/plain": [
       "'Not found'"
      ]
     },
     "execution_count": 60,
     "metadata": {},
     "output_type": "execute_result"
    }
   ],
   "source": [
    "periods.get('Mississippian', 'Key not found')"
   ]
  },
  {
   "cell_type": "markdown",
   "metadata": {},
   "source": [
    "There's also a `setdefault()` method that takes a default value which will be inserted into the dictionary if the key is not present. Like `get()`, the method returns the value (after inserting it if necessary)."
   ]
  },
  {
   "cell_type": "code",
   "execution_count": 61,
   "metadata": {},
   "outputs": [
    {
     "data": {
      "text/plain": [
       "{'abbreviation': 'M', 'end': 323.2, 'start': 358.9}"
      ]
     },
     "execution_count": 61,
     "metadata": {},
     "output_type": "execute_result"
    }
   ],
   "source": [
    "periods.setdefault('Mississippian', {'abbreviation': 'M', 'start':  358.9, 'end': 323.2})"
   ]
  },
  {
   "cell_type": "code",
   "execution_count": 62,
   "metadata": {},
   "outputs": [
    {
     "data": {
      "text/plain": [
       "{'Cambrian': {'abbreviation': 'Ꞓ', 'end': 485, 'start': 541},\n",
       " 'Carboniferous': {'abbreviation': 'C', 'end': 66, 'start': 155},\n",
       " 'Cretaceous': {'abbreviation': 'K', 'end': 66, 'start': 155},\n",
       " 'Devonian': {'abbreviation': 'D', 'end': 359, 'start': 419},\n",
       " 'Jurassic': {'abbreviation': 'J', 'end': 145, 'start': 201},\n",
       " 'Mississippian': {'abbreviation': 'M', 'end': 323.2, 'start': 358.9},\n",
       " 'Neogene': {'abbreviation': 'N', 'end': 2.6, 'start': 23},\n",
       " 'Ordovician': {'abbreviation': 'O', 'end': 444, 'start': 485},\n",
       " 'Palaeogene': {'abbreviation': 'Pg', 'end': 23, 'start': 66},\n",
       " 'Permian': {'abbreviation': 'P', 'end': 252, 'start': 299},\n",
       " 'Quaternary': {'abbreviation': 'Q', 'end': 0, 'start': 2.6},\n",
       " 'Silurian': {'abbreviation': 'S', 'end': 419, 'start': 444},\n",
       " 'Triassic': {'abbreviation': 'T', 'end': 201, 'start': 252}}"
      ]
     },
     "execution_count": 62,
     "metadata": {},
     "output_type": "execute_result"
    }
   ],
   "source": [
    "periods"
   ]
  },
  {
   "cell_type": "markdown",
   "metadata": {},
   "source": [
    "Note that `setdefault()` doesn't change the value if the key was already present. Now that we've inserted it, future attempts to retrieve the value correpsonding to this key will get the one from the dictionary, regardless of the default value we pass:"
   ]
  },
  {
   "cell_type": "code",
   "execution_count": 67,
   "metadata": {},
   "outputs": [
    {
     "data": {
      "text/plain": [
       "{'abbreviation': 'M', 'end': 323.2, 'start': 358.9}"
      ]
     },
     "execution_count": 67,
     "metadata": {},
     "output_type": "execute_result"
    }
   ],
   "source": [
    "periods.setdefault('Mississippian', {'abbreviation': 'Miss'})"
   ]
  },
  {
   "cell_type": "markdown",
   "metadata": {
    "slideshow": {
     "slide_type": "slide"
    }
   },
   "source": [
    "### Exercise\n",
    "\n",
    "- What is the expected output of the following?\n",
    "  - `periods['Triassic']`\n",
    "  - `periods['Jurassic'].get('start')`\n",
    "- What command would you type to return the age of the end of the Permian?\n",
    "- The start of the Cretaceous is wrong: it should be 145. Change it to the correct value.\n",
    "- The Ediacaran Period (635 Ma, to the beginning of the Cambrian) is not in our dataset. Add it."
   ]
  },
  {
   "cell_type": "code",
   "execution_count": 65,
   "metadata": {
    "collapsed": true,
    "slideshow": {
     "slide_type": "fragment"
    }
   },
   "outputs": [],
   "source": [
    "# your code here"
   ]
  },
  {
   "cell_type": "markdown",
   "metadata": {
    "slideshow": {
     "slide_type": "slide"
    }
   },
   "source": [
    "## `set`"
   ]
  },
  {
   "cell_type": "markdown",
   "metadata": {},
   "source": [
    "Instances of the `set` type implement something like the mathematical concept of sets. Sets in Python are unordered containers of unique values (i.e. duplicated elements are ignored). Sets are mutable, but their items must be immutable, so you can't have a set of lists, or a set of sets. Sets are defined by comma seperated values (of any type) between curly braces `{}`."
   ]
  },
  {
   "cell_type": "code",
   "execution_count": 83,
   "metadata": {},
   "outputs": [
    {
     "data": {
      "text/plain": [
       "{1, 2, 3, 4, 7}"
      ]
     },
     "execution_count": 83,
     "metadata": {},
     "output_type": "execute_result"
    }
   ],
   "source": [
    "s = {7, 7, 1, 3, 2, 4, 7}\n",
    "s"
   ]
  },
  {
   "cell_type": "markdown",
   "metadata": {},
   "source": [
    "It looks as if the set is ordered, but it is not. IPython has sorted the values for display 'prettiness'. "
   ]
  },
  {
   "cell_type": "markdown",
   "metadata": {},
   "source": [
    "Because the items are unordered, you cannot index into a set by position:"
   ]
  },
  {
   "cell_type": "code",
   "execution_count": 86,
   "metadata": {},
   "outputs": [
    {
     "ename": "TypeError",
     "evalue": "'set' object does not support indexing",
     "output_type": "error",
     "traceback": [
      "\u001b[0;31m---------------------------------------------------------------------------\u001b[0m",
      "\u001b[0;31mTypeError\u001b[0m                                 Traceback (most recent call last)",
      "\u001b[0;32m<ipython-input-86-f54ef169b208>\u001b[0m in \u001b[0;36m<module>\u001b[0;34m()\u001b[0m\n\u001b[0;32m----> 1\u001b[0;31m \u001b[0ms\u001b[0m\u001b[0;34m[\u001b[0m\u001b[0;36m3\u001b[0m\u001b[0;34m]\u001b[0m\u001b[0;34m\u001b[0m\u001b[0m\n\u001b[0m",
      "\u001b[0;31mTypeError\u001b[0m: 'set' object does not support indexing"
     ]
    }
   ],
   "source": [
    "s[3]"
   ]
  },
  {
   "cell_type": "markdown",
   "metadata": {},
   "source": [
    "What are sets useful for? It seems rather trivial, but the most popular use of sets is to get a list of unique items in a list of immutable objects:"
   ]
  },
  {
   "cell_type": "code",
   "execution_count": 103,
   "metadata": {},
   "outputs": [
    {
     "data": {
      "text/plain": [
       "{'Dolostone', 'Limestone', 'Mudstone', 'Sandstone', 'Siltstone'}"
      ]
     },
     "execution_count": 103,
     "metadata": {},
     "output_type": "execute_result"
    }
   ],
   "source": [
    "sedimentary = [\"Sandstone\", \"Siltstone\", \"Mudstone\", \"Limestone\", \"Dolostone\", \"Limestone\"]\n",
    "set(sedimentary)"
   ]
  },
  {
   "cell_type": "markdown",
   "metadata": {},
   "source": [
    "If I have a set that overlaps this set, we can do some set theoretic operations, such as unions and intersections:"
   ]
  },
  {
   "cell_type": "code",
   "execution_count": 101,
   "metadata": {},
   "outputs": [
    {
     "data": {
      "text/plain": [
       "{'Dolostone', 'Limestone'}"
      ]
     },
     "execution_count": 101,
     "metadata": {},
     "output_type": "execute_result"
    }
   ],
   "source": [
    "carbonates = {\"Limestone\", \"Dolostone\", \"Marble\", \"Carbonatite\"}\n",
    "\n",
    "set(sedimentary).intersection(carbonates)"
   ]
  },
  {
   "cell_type": "markdown",
   "metadata": {},
   "source": [
    "There's no elegant way to achieve the same thing with a list comprehension. We'd have to resort to a for loop to avoid adding duplicates to the list."
   ]
  },
  {
   "cell_type": "code",
   "execution_count": 102,
   "metadata": {},
   "outputs": [
    {
     "data": {
      "text/plain": [
       "['Limestone', 'Dolostone', 'Limestone']"
      ]
     },
     "execution_count": 102,
     "metadata": {},
     "output_type": "execute_result"
    }
   ],
   "source": [
    "[r for r in sedimentary if r in carbonates]"
   ]
  },
  {
   "cell_type": "markdown",
   "metadata": {},
   "source": [
    "You probably won't come across sets very often in your early use of Python. But it's good to know they are there. \n",
    "\n",
    "## All the types\n",
    "\n",
    "That's it! Congratualations, you have met all the most important 'types' — Python's family of object classes that you will use every day of your coding life. If some of the details seem a little murky right now, don't worry about it. By the end of this book, you'll be intimately familiar with them, and you'll be wielding them without a second thought. "
   ]
  }
 ],
 "metadata": {
  "anaconda-cloud": {},
  "kernelspec": {
   "display_name": "Python 3",
   "language": "python",
   "name": "python3"
  },
  "language_info": {
   "codemirror_mode": {
    "name": "ipython",
    "version": 3
   },
   "file_extension": ".py",
   "mimetype": "text/x-python",
   "name": "python",
   "nbconvert_exporter": "python",
   "pygments_lexer": "ipython3",
   "version": "3.6.3"
  }
 },
 "nbformat": 4,
 "nbformat_minor": 2
}
