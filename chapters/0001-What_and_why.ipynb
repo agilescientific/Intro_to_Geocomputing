{
 "cells": [
  {
   "cell_type": "markdown",
   "metadata": {},
   "source": [
    "# Why Python?\n",
    "\n",
    "Python is a great language for scientists to learn. Why? Reasons:\n",
    "\n",
    "- It's relatively easy to pick up. Relatedly: there is a lot of instructional material on the Internet, from tutorials to multi-week courses.\n",
    "- It's general purpose, so you can do almost anything with it. Compare this to, say, MATLAB, which is more specifically about science and engineering, or R, which is principally for statistics.\n",
    "- There are lots of libraries for it, giving you superpowers. These range from fundamental numerical libraries for, say, linear algebra, to high-level libraries for machine learning, signal processing,  or image analysis.\n",
    "- It's open source, which means you can read and extend all of its source code. It also means that, unlike MATLAB, it's free for everyone to use.\n",
    "- As a result of all this, it's very popular. Indeed, in 2018 it's the fastest growing language in the world, according to StackOverflow's data.\n",
    "\n",
    "\n",
    "## In a nutshell\n",
    "\n",
    "Python is...\n",
    "\n",
    "- ...not just a scripting language. You can write full-blown programs to do all sorts of things.\n",
    "- ...interpreted, not compiled. This has some advantages (the interactive console) and some disadvantages (speed).\n",
    "- ...strongly typed. In other words, types are enforced and never implicitly converted.\n",
    "- ...dynamically, implicitly typed — you don't have to declare variables.\n",
    "- ...case sensitive — var, Var and VAR are different variables.\n",
    "- ...object-oriented — everything is an object. But you can write procedural programs too.\n",
    "- ...supportive of functional and procedural programming styles.\n",
    "\n",
    "If you don't know what some of this means — or what any of it means — don't worry. Some of it will only make sense to people who know other programming languages. Most of it you will come to understand as you learn more about Python.\n",
    "\n",
    "You can get a bit of insight into the philosophy of Python by reading the Easter egg mantra placed there by the Python developers in about 2001. Just `import this`:"
   ]
  },
  {
   "cell_type": "code",
   "execution_count": 1,
   "metadata": {},
   "outputs": [
    {
     "name": "stdout",
     "output_type": "stream",
     "text": [
      "The Zen of Python, by Tim Peters\n",
      "\n",
      "Beautiful is better than ugly.\n",
      "Explicit is better than implicit.\n",
      "Simple is better than complex.\n",
      "Complex is better than complicated.\n",
      "Flat is better than nested.\n",
      "Sparse is better than dense.\n",
      "Readability counts.\n",
      "Special cases aren't special enough to break the rules.\n",
      "Although practicality beats purity.\n",
      "Errors should never pass silently.\n",
      "Unless explicitly silenced.\n",
      "In the face of ambiguity, refuse the temptation to guess.\n",
      "There should be one-- and preferably only one --obvious way to do it.\n",
      "Although that way may not be obvious at first unless you're Dutch.\n",
      "Now is better than never.\n",
      "Although never is often better than *right* now.\n",
      "If the implementation is hard to explain, it's a bad idea.\n",
      "If the implementation is easy to explain, it may be a good idea.\n",
      "Namespaces are one honking great idea -- let's do more of those!\n"
     ]
    }
   ],
   "source": [
    "import this"
   ]
  },
  {
   "cell_type": "markdown",
   "metadata": {},
   "source": [
    "## Nice Python\n",
    "\n",
    "If you want other people to be able to read — or maintain — your code, you need to write nice Python. Your future self will appreciate your own consistency too, because you'll be able to parse your own code with much less effort.\n",
    "\n",
    "- Read [PEP8](https://www.python.org/dev/peps/pep-0008/).\n",
    "- Use an IDE or use a linter in your text editor (I use Sublime Text).\n",
    "- Let an online tool like [Codacy](https://codacy.com) check your commits automatically.\n",
    "- Think about your users and colleagues and your future self!"
   ]
  },
  {
   "cell_type": "code",
   "execution_count": null,
   "metadata": {},
   "outputs": [],
   "source": []
  }
 ],
 "metadata": {
  "kernelspec": {
   "display_name": "Python 3",
   "language": "python",
   "name": "python3"
  },
  "language_info": {
   "codemirror_mode": {
    "name": "ipython",
    "version": 3
   },
   "file_extension": ".py",
   "mimetype": "text/x-python",
   "name": "python",
   "nbconvert_exporter": "python",
   "pygments_lexer": "ipython3",
   "version": "3.6.3"
  }
 },
 "nbformat": 4,
 "nbformat_minor": 2
}
