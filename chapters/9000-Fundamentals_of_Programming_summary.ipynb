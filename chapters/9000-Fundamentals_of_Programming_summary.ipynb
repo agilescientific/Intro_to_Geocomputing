{
 "cells": [
  {
   "cell_type": "code",
   "execution_count": 103,
   "metadata": {},
   "outputs": [
    {
     "data": {
      "text/html": [
       "<style>\n",
       "table {float:left}\n",
       "</style>\n"
      ],
      "text/plain": [
       "<IPython.core.display.HTML object>"
      ]
     },
     "metadata": {},
     "output_type": "display_data"
    }
   ],
   "source": [
    "%%html\n",
    "<style>\n",
    "table {float:left}\n",
    "</style>"
   ]
  },
  {
   "cell_type": "markdown",
   "metadata": {},
   "source": [
    "# 1. Naming things\n",
    "**Variables and Assignment statements**\n",
    "\n",
    "*Names* refer to objects. Anything can be assigned to a name in Python and everything in Python is an object. \n"
   ]
  },
  {
   "cell_type": "markdown",
   "metadata": {},
   "source": [
    "**Simple  statements**\n",
    "\n",
    "A simple statement is comprised within a single logical line. Several simple statements may occur on a single line separated by semicolons. The syntax for simple statements is:\n",
    "\n",
    "```python\n",
    "x = 10; y = 20; y < x\n",
    "```\n",
    "\n",
    "But it usually easier to read to put each simple statement on it's own line\n",
    "\n",
    "\n",
    "```python\n",
    "x = 10\n",
    "y = 20\n",
    "y < x\n",
    "s = 'sandstone`\n",
    "s.upper()\n",
    "#line 1 of comment\n",
    "```\n"
   ]
  },
  {
   "cell_type": "markdown",
   "metadata": {},
   "source": [
    "# 2. Objects, values, and Types"
   ]
  },
  {
   "cell_type": "markdown",
   "metadata": {},
   "source": [
    "Everything is an object. Objects have attributes"
   ]
  },
  {
   "cell_type": "markdown",
   "metadata": {},
   "source": [
    "**Built-in Primitive data types**\n",
    "\n",
    "```python\n",
    "Type             instance                  example attributes\n",
    "str              s = 'sandstone'           s.strip(), s.replace('_',' ')\n",
    "int              x = 10                    x.real\n",
    "float            y = 11.2                  y.hex(), y.is_integer() \n",
    "complex          c = 10 + 2.0j             x.conjugate()\n",
    "bool             result = True\n",
    "NoneType         val = None\n",
    "FileObject       f = open('my_file.txt')   f.readlines(), f.readline(), f.read(), f.close(), f.closed\n",
    "```\n"
   ]
  },
  {
   "cell_type": "markdown",
   "metadata": {},
   "source": [
    "**General purpose built-in containers**\n",
    "\n",
    "```python\n",
    "type      defined     example  \n",
    "list      [ ]         rocks = ['sandstone', 'siltstone', 'shale']             mutable\n",
    "dict      { }         periods = {'Triassic': 251.9 , 'Jurassic': 201.3}       mutable\n",
    "tuple     ( )         coordinates = (389950.78, 4922702.05, 5.2)              immutable\n",
    "set       set()       unique = {1, 2, 3, 1, 1, 2}                             mutable\n",
    "frozenset frozenset() frozen = frozenset([1,2,3,4])                           immutable\n",
    "```"
   ]
  },
  {
   "cell_type": "markdown",
   "metadata": {},
   "source": [
    "**Other data types**\n",
    "\n",
    "```python\n",
    "np.ndarray(...)          arr = np.array([[0, 0, 0], [0.5, 0.3, -10], [0.2, -0.5, -20]])\n",
    "pd.DataFrame(...)        df = pd.DataFrame(arr, columns=['easting', 'northing', 'elevation'])\n",
    "welly.Well(...)          coordinates = (389950.78, 4922702.05, 5.2)\n",
    "welly.Curve(...)         unique = {1, 2, 3, 1, 1, 2}\n",
    "\n",
    "```"
   ]
  },
  {
   "cell_type": "markdown",
   "metadata": {},
   "source": [
    "# Mutable and immutable objects\n",
    "\n",
    "**Mutable objects**\n",
    "\n",
    "* list \n",
    "\n",
    "* Dictionary\n",
    "\n",
    "* Set\n",
    "\n",
    "* bytearray\n",
    "\n",
    "* user defined classes\n",
    "\n",
    "**Immutable objects**\n",
    "\n",
    "Can be used as keys in a dictionary\n",
    "\n",
    "* int\n",
    "\n",
    "* float\n",
    "\n",
    "* decimal\n",
    "\n",
    "* complex\n",
    "\n",
    "* bool\n",
    "\n",
    "* string\n",
    "\n",
    "* tuple\n",
    "\n",
    "* range\n",
    "\n",
    "* frozenset\n",
    "\n",
    "* bytes"
   ]
  },
  {
   "cell_type": "markdown",
   "metadata": {},
   "source": [
    "<img src=\"accessing_elements.png\">"
   ]
  },
  {
   "cell_type": "markdown",
   "metadata": {},
   "source": [
    "**Keywords in Python** – these special built-in words that have reserved meaning. Some of them are used in simple statements, some of them are used in compound statements.\n",
    "\n",
    "<div class=\"my_text\">\n",
    "    <pre style=\"color: green;font-weight: bold;\">\n",
    "        <span class=\"bold\">\n",
    "False      await      else       import     pass     \n",
    "None       break      except     in         raise\n",
    "True       class      finally    is         return\n",
    "and        continue   for        lambda     try\n",
    "as         def        from       nonlocal   while\n",
    "assert     del        global     not        with\n",
    "async      elif       if         or         yield\n",
    "        </span>\n",
    "    </pre>\n",
    "</div>"
   ]
  },
  {
   "cell_type": "markdown",
   "metadata": {},
   "source": [
    "# String methods"
   ]
  },
  {
   "cell_type": "code",
   "execution_count": 1,
   "metadata": {},
   "outputs": [
    {
     "data": {
      "text/plain": [
       "'h,e,l,l,o'"
      ]
     },
     "execution_count": 1,
     "metadata": {},
     "output_type": "execute_result"
    }
   ],
   "source": [
    "s = 'sandstone'\n",
    "s.split()\n",
    "s.split(' ,')\n",
    "','.join('hello')"
   ]
  },
  {
   "cell_type": "markdown",
   "metadata": {},
   "source": [
    "# 3. Arithmetic and comparison operations\n",
    "\n",
    "**Arithmetic operators**\n",
    "\n",
    "| Operation   |\tMeaning    |\n",
    "|-----------|-----------|\n",
    "| + | addition |\n",
    "| -\t| subtraction |\n",
    "| *\t| multiplication|\n",
    "| **\t| exponentiation |\n",
    "| /\t| Division|\n",
    "| //\t| Floor division |\n",
    "| %\t| Modulus |\n",
    "| @ |\tmatrix multiply|\n",
    "\n",
    "\n",
    "| Operation   |\tMeaning    |\n",
    "|-----------|-----------|\n",
    "| += | addition and assignment||\n",
    "| -=\t| subtraction and assignment||\n",
    "| *= | multiplication and assignment||\n",
    "| /=\t| exponentiation and assignment|\n",
    "| //=\t| Floor division and assignment|\n",
    "| %=\t| Modulus assignment and assignment|\n",
    "\n",
    "\n"
   ]
  },
  {
   "cell_type": "markdown",
   "metadata": {},
   "source": [
    "**Comparison operators**    \n",
    "\n",
    "| Operation   |\tMeaning    |\n",
    "|-----------|-----------|\n",
    "| <\t| strictly less than|\n",
    "| <=\t| less than or equal|\n",
    "|>\t|strictly greater than|\n",
    "|>=\t|greater than or equal|\n",
    "|==\t|equal|\n",
    "|!=\t|not equal |\n",
    "|is\t|object identity |\n",
    "|is not |\tnegated object identity|\n",
    "\n",
    "\n"
   ]
  },
  {
   "cell_type": "markdown",
   "metadata": {},
   "source": [
    "**Logical operators**    \n",
    "\n",
    "| Operation   |\tMeaning    |\n",
    "|-----------|-----------|\n",
    "| and\t| strictly less than|\n",
    "| or\t| less than or equal|\n",
    "| not\t|greater than or equal|\n",
    "\n"
   ]
  },
  {
   "cell_type": "markdown",
   "metadata": {},
   "source": [
    "**Membership operator**\n",
    "\n",
    "| Operation   |\tMeaning    |\n",
    "|-----------|-----------|\n",
    "| in\t| strictly less than|\n",
    "| not in\t| strictly less than|\n",
    "\n"
   ]
  },
  {
   "cell_type": "markdown",
   "metadata": {},
   "source": [
    "**Identity operator**\n",
    "\n",
    "| Operation   |\tMeaning    |\n",
    "|-----------|-----------|\n",
    "| is\t| tests if two operators share an identity|\n",
    "| is not\t| strictly less than|"
   ]
  },
  {
   "cell_type": "markdown",
   "metadata": {},
   "source": [
    "**Bitwise operators**\n",
    "\n",
    "\n",
    "|Operator|Meaning|Example|\n",
    "|----|-------------|-------------------------|\n",
    "| `&`\t | Bitwise AND |\t`x & y = 0` (0000 0000) |\n",
    "| `\\|`\t | Bitwise OR  |\t`x \\|  y =` 14 (0000 1110) |\n",
    "| `~`\t | Bitwise NOT |\t`~x = -11` (1111 0101) |\n",
    "| `^`\t | Bitwise XOR (exclusive-or) |\t`x ^ y = 14` (0000 1110) |\n",
    "| `>>` |\tBitwise right shift |\t`x >> 2 = 2` (0000 0010)|\n",
    "| `<<` |\tBitwise left shift\t| `x << 2 = 40` (0010 1000) |"
   ]
  },
  {
   "cell_type": "markdown",
   "metadata": {},
   "source": [
    "Decimal\n",
    "number\tBinary\n",
    "number\n",
    "0\t0\n",
    "\n",
    "1\t1\n",
    "\n",
    "2\t10\n",
    "\n",
    "3\t11\n",
    "\n",
    "4\t100\n",
    "\n",
    "5\t101\n",
    "\n",
    "6\t110\n",
    "\n",
    "7\t111\n",
    "\n",
    "8\t1000\n",
    "\n",
    "9\t1001\n",
    "\n",
    "10\t1010\n",
    "\n",
    "11\t1011\n",
    "\n",
    "12\t1100\n",
    "\n",
    "13\t1101\n",
    "\n",
    "14\t1110\n",
    "\n",
    "15\t1111"
   ]
  },
  {
   "cell_type": "code",
   "execution_count": 50,
   "metadata": {},
   "outputs": [
    {
     "data": {
      "text/plain": [
       "'0x12'"
      ]
     },
     "execution_count": 50,
     "metadata": {},
     "output_type": "execute_result"
    }
   ],
   "source": [
    "int(0b1010)\n",
    "bin(0xa)\n",
    "oct(8)\n",
    "hex(16)\n",
    "hex(18)"
   ]
  },
  {
   "cell_type": "markdown",
   "metadata": {},
   "source": [
    "**floating point literals**\n",
    "\n",
    "```python\n",
    "3.14    10.    .001    1e100    3.14e-10    0e0    3.14_15_93\n",
    "```\n",
    "\n",
    "**Imaginary literals**\n",
    "\n",
    "```python\n",
    "3.14j   10.j    10j     .001j   1e100j   3.14e-10j   3.14_15_93j\n",
    "```"
   ]
  },
  {
   "cell_type": "markdown",
   "metadata": {},
   "source": [
    "# Compound statements\n",
    "\n",
    "Compound statements contain (groups of) other statements: they affect or control the execution of those other statements in some way. In general, compound statements span multiple lines, although in simple incarnations a whole compound statement may be contained on a single line"
   ]
  },
  {
   "cell_type": "markdown",
   "metadata": {},
   "source": [
    "The ```if```, ```while``` and ```for``` statements implement traditional control flow constructs. ```try``` specifies exception handlers and/or cleanup code for a group of statements, while the ```with``` statement allows the execution of initialization and finalization code around a block of code. Function and class definitions are also syntactically compound statements."
   ]
  },
  {
   "cell_type": "markdown",
   "metadata": {},
   "source": [
    "# 4. Making choices\n",
    "\n",
    "## The `if` statemtent\n",
    "\n",
    "The `if` statement is used for conditional execution. The structure of the `if` statement is:\n",
    "\n",
    "```\n",
    "if_stmt ::=  \"if\" expression \":\" suite\n",
    "             (\"elif\" expression \":\" suite)*\n",
    "             [\"else\" \":\" suite]\n",
    "```\n",
    "\n",
    "In Python syntax:\n",
    "\n",
    "```python\n",
    "if condition:\n",
    "    suite\n",
    "elif condition: \n",
    "    suite\n",
    "else:\n",
    "    suite\n",
    "```\n",
    "\n",
    "It selects exactly one of the suites by evaluating the expressions one by one until one is found to be true.  then that suite is executed (and no other part of the if statement is executed or evaluated). If all expressions are false, the suite of the else clause, if present, is executed.\n"
   ]
  },
  {
   "cell_type": "markdown",
   "metadata": {},
   "source": [
    "## The `while` statemtent\n",
    "The `while` statement is used for repeated execution as long as an expression it true: \n",
    "\n",
    "```\n",
    "while_stmt ::=  \"while\" expression \":\" suite\n",
    "                [\"else\" \":\" suite]\n",
    "```\n",
    "\n",
    "In Python syntax \n",
    "\n",
    "```python\n",
    "while expression:\n",
    "    suite\n",
    "else:\n",
    "    suite\n",
    "```\n",
    "\n",
    "This repeatedly tests the expression and, if it is true, executes the first suite; if the expression is false (which may be the first time it is tested) the suite of the else clause, if present, is executed and the loop terminates.\n",
    "\n",
    "A ```break``` statement executed in the first suite terminates the loop without executing the `else` clause’s suite. A `continue` statement executed in the first suite skips the rest of the suite and goes back to testing the expression."
   ]
  },
  {
   "cell_type": "markdown",
   "metadata": {},
   "source": [
    "# 5. Doing things many times\n",
    "\n",
    "\n",
    "## The `for`-loop\n",
    "\n",
    "The for-loop makes assignments to the variables(s) in the target list. This overwrites all previous assignments to those variables including those made in the suite of the for-loop:\n",
    "\n",
    "```python\n",
    "for i in range(10):\n",
    "    print(i)\n",
    "    i = 5             # this will not affect the for-loop\n",
    "                      # because i will be overwritten with the next\n",
    "                      # index in the range\n",
    "            \n",
    "\n",
    "```\n",
    "\n",
    "One of the less common functions with beginners, `zip()` returns an iterator of tuples."
   ]
  },
  {
   "cell_type": "markdown",
   "metadata": {},
   "source": [
    "# 6. Mistaking \n",
    "\n",
    "Includes: reading error messages, documentation (reading and writing), testing, getting help. Also handling errors and exceptions:\n",
    "\n",
    "## The `try` statement\n",
    "\n",
    "The `try` statement specifies exception handlers and/or cleanup code for a group of statements:\n",
    "\n",
    "```\n",
    "try_stmt  ::=  try1_stmt | try2_stmt\n",
    "try1_stmt ::=  \"try\" \":\" suite\n",
    "               (\"except\" [expression [\"as\" identifier]] \":\" suite)+\n",
    "               [\"else\" \":\" suite]\n",
    "               [\"finally\" \":\" suite]\n",
    "try2_stmt ::=  \"try\" \":\" suite\n",
    "               \"finally\" \":\" suite\n",
    "```\n",
    "\n",
    "The `except` clause(s) specify one or more exception handlers. When no exception occurs in the try clause, no exception handler is executed. When an exception occurs in the try suite, a search for an exception handler is started. This search inspects the except clauses in turn until one is found that matches the exception. An expression-less except clause, if present, must be last; it matches any exception. For an except clause with an expression, that expression is evaluated, and the clause matches the exception if the resulting object is “compatible” with the exception. An object is compatible with an exception if it is the class or a base class of the exception object or a tuple containing an item compatible with the exception.\n",
    "\n",
    "Examples:\n",
    "\n",
    "```python\n",
    "def f():\n",
    "    try:\n",
    "        1/0\n",
    "    finally:\n",
    "        return 42\n",
    "```"
   ]
  },
  {
   "cell_type": "markdown",
   "metadata": {},
   "source": [
    "# 7. Getting data from files\n",
    "\n",
    "## The `with` statement \n",
    "\n",
    "The `with` statement is used to wrap the execution of a block with methods defined by a **context manager**. \n",
    "\n",
    "```python\n",
    "with open('my_file01.txt') as f:\n",
    "    lines = f.readlines()\n",
    "```\n",
    "\n",
    "Context managers can be thought of as another object type (everything after the `with` on the following line:\n",
    "\n",
    "```python\n",
    "with open('my_file01.txt') as f, open('my_coordinates.txt') as g:\n",
    "    lines = f.readlines()\n",
    "    coords = g.readlines()\n",
    "```\n",
    "\n",
    "is equivalent to\n",
    "\n",
    "```python\n",
    "with open('my_file01.txt') as f:\n",
    "    with open('my_coordinates.txt') as g:\n",
    "        lines = f.readlines()\n",
    "        coords = g.readlines()\n",
    "```"
   ]
  },
  {
   "cell_type": "markdown",
   "metadata": {},
   "source": [
    "# 8. Functions\n",
    "\n",
    "## Built in functions\n",
    "\n",
    "<table border=\"1\" class=\"docutils\">\n",
    "<colgroup>\n",
    "<col width=\"21%\">\n",
    "<col width=\"18%\">\n",
    "<col width=\"20%\">\n",
    "<col width=\"20%\">\n",
    "<col width=\"22%\">\n",
    "</colgroup>\n",
    "<thead valign=\"bottom\">\n",
    "<tr class=\"row-odd\"><th class=\"head\"></th>\n",
    "<th class=\"head\"></th>\n",
    "<th class=\"head\">Built-in Functions</th>\n",
    "<th class=\"head\"></th>\n",
    "<th class=\"head\"></th>\n",
    "</tr>\n",
    "</thead>\n",
    "<tbody valign=\"top\">\n",
    "<tr class=\"row-even\"><td><a class=\"reference internal\" href=\"#abs\" title=\"abs\"><code class=\"xref py py-func docutils literal notranslate\"><span class=\"pre\">abs()</span></code></a></td>\n",
    "<td><a class=\"reference internal\" href=\"#delattr\" title=\"delattr\"><code class=\"xref py py-func docutils literal notranslate\"><span class=\"pre\">delattr()</span></code></a></td>\n",
    "<td><a class=\"reference internal\" href=\"#hash\" title=\"hash\"><code class=\"xref py py-func docutils literal notranslate\"><span class=\"pre\">hash()</span></code></a></td>\n",
    "<td><a class=\"reference internal\" href=\"#func-memoryview\"><code class=\"docutils literal notranslate\"><span class=\"pre\">memoryview()</span></code></a></td>\n",
    "<td><a class=\"reference internal\" href=\"#func-set\"><code class=\"docutils literal notranslate\"><span class=\"pre\">set()</span></code></a></td>\n",
    "</tr>\n",
    "<tr class=\"row-odd\"><td><a class=\"reference internal\" href=\"#all\" title=\"all\"><code class=\"xref py py-func docutils literal notranslate\"><span class=\"pre\">all()</span></code></a></td>\n",
    "<td><a class=\"reference internal\" href=\"#func-dict\"><code class=\"docutils literal notranslate\"><span class=\"pre\">dict()</span></code></a></td>\n",
    "<td><a class=\"reference internal\" href=\"#help\" title=\"help\"><code class=\"xref py py-func docutils literal notranslate\"><span class=\"pre\">help()</span></code></a></td>\n",
    "<td><a class=\"reference internal\" href=\"#min\" title=\"min\"><code class=\"xref py py-func docutils literal notranslate\"><span class=\"pre\">min()</span></code></a></td>\n",
    "<td><a class=\"reference internal\" href=\"#setattr\" title=\"setattr\"><code class=\"xref py py-func docutils literal notranslate\"><span class=\"pre\">setattr()</span></code></a></td>\n",
    "</tr>\n",
    "<tr class=\"row-even\"><td><a class=\"reference internal\" href=\"#any\" title=\"any\"><code class=\"xref py py-func docutils literal notranslate\"><span class=\"pre\">any()</span></code></a></td>\n",
    "<td><a class=\"reference internal\" href=\"#dir\" title=\"dir\"><code class=\"xref py py-func docutils literal notranslate\"><span class=\"pre\">dir()</span></code></a></td>\n",
    "<td><a class=\"reference internal\" href=\"#hex\" title=\"hex\"><code class=\"xref py py-func docutils literal notranslate\"><span class=\"pre\">hex()</span></code></a></td>\n",
    "<td><a class=\"reference internal\" href=\"#next\" title=\"next\"><code class=\"xref py py-func docutils literal notranslate\"><span class=\"pre\">next()</span></code></a></td>\n",
    "<td><a class=\"reference internal\" href=\"#slice\" title=\"slice\"><code class=\"xref py py-func docutils literal notranslate\"><span class=\"pre\">slice()</span></code></a></td>\n",
    "</tr>\n",
    "<tr class=\"row-odd\"><td><a class=\"reference internal\" href=\"#ascii\" title=\"ascii\"><code class=\"xref py py-func docutils literal notranslate\"><span class=\"pre\">ascii()</span></code></a></td>\n",
    "<td><a class=\"reference internal\" href=\"#divmod\" title=\"divmod\"><code class=\"xref py py-func docutils literal notranslate\"><span class=\"pre\">divmod()</span></code></a></td>\n",
    "<td><a class=\"reference internal\" href=\"#id\" title=\"id\"><code class=\"xref py py-func docutils literal notranslate\"><span class=\"pre\">id()</span></code></a></td>\n",
    "<td><a class=\"reference internal\" href=\"#object\" title=\"object\"><code class=\"xref py py-func docutils literal notranslate\"><span class=\"pre\">object()</span></code></a></td>\n",
    "<td><a class=\"reference internal\" href=\"#sorted\" title=\"sorted\"><code class=\"xref py py-func docutils literal notranslate\"><span class=\"pre\">sorted()</span></code></a></td>\n",
    "</tr>\n",
    "<tr class=\"row-even\"><td><a class=\"reference internal\" href=\"#bin\" title=\"bin\"><code class=\"xref py py-func docutils literal notranslate\"><span class=\"pre\">bin()</span></code></a></td>\n",
    "<td><a class=\"reference internal\" href=\"#enumerate\" title=\"enumerate\"><code class=\"xref py py-func docutils literal notranslate\"><span class=\"pre\">enumerate()</span></code></a></td>\n",
    "<td><a class=\"reference internal\" href=\"#input\" title=\"input\"><code class=\"xref py py-func docutils literal notranslate\"><span class=\"pre\">input()</span></code></a></td>\n",
    "<td><a class=\"reference internal\" href=\"#oct\" title=\"oct\"><code class=\"xref py py-func docutils literal notranslate\"><span class=\"pre\">oct()</span></code></a></td>\n",
    "<td><a class=\"reference internal\" href=\"#staticmethod\" title=\"staticmethod\"><code class=\"xref py py-func docutils literal notranslate\"><span class=\"pre\">staticmethod()</span></code></a></td>\n",
    "</tr>\n",
    "<tr class=\"row-odd\"><td><a class=\"reference internal\" href=\"#bool\" title=\"bool\"><code class=\"xref py py-func docutils literal notranslate\"><span class=\"pre\">bool()</span></code></a></td>\n",
    "<td><a class=\"reference internal\" href=\"#eval\" title=\"eval\"><code class=\"xref py py-func docutils literal notranslate\"><span class=\"pre\">eval()</span></code></a></td>\n",
    "<td><a class=\"reference internal\" href=\"#int\" title=\"int\"><code class=\"xref py py-func docutils literal notranslate\"><span class=\"pre\">int()</span></code></a></td>\n",
    "<td><a class=\"reference internal\" href=\"#open\" title=\"open\"><code class=\"xref py py-func docutils literal notranslate\"><span class=\"pre\">open()</span></code></a></td>\n",
    "<td><a class=\"reference internal\" href=\"#func-str\"><code class=\"docutils literal notranslate\"><span class=\"pre\">str()</span></code></a></td>\n",
    "</tr>\n",
    "<tr class=\"row-even\"><td><a class=\"reference internal\" href=\"#breakpoint\" title=\"breakpoint\"><code class=\"xref py py-func docutils literal notranslate\"><span class=\"pre\">breakpoint()</span></code></a></td>\n",
    "<td><a class=\"reference internal\" href=\"#exec\" title=\"exec\"><code class=\"xref py py-func docutils literal notranslate\"><span class=\"pre\">exec()</span></code></a></td>\n",
    "<td><a class=\"reference internal\" href=\"#isinstance\" title=\"isinstance\"><code class=\"xref py py-func docutils literal notranslate\"><span class=\"pre\">isinstance()</span></code></a></td>\n",
    "<td><a class=\"reference internal\" href=\"#ord\" title=\"ord\"><code class=\"xref py py-func docutils literal notranslate\"><span class=\"pre\">ord()</span></code></a></td>\n",
    "<td><a class=\"reference internal\" href=\"#sum\" title=\"sum\"><code class=\"xref py py-func docutils literal notranslate\"><span class=\"pre\">sum()</span></code></a></td>\n",
    "</tr>\n",
    "<tr class=\"row-odd\"><td><a class=\"reference internal\" href=\"#func-bytearray\"><code class=\"docutils literal notranslate\"><span class=\"pre\">bytearray()</span></code></a></td>\n",
    "<td><a class=\"reference internal\" href=\"#filter\" title=\"filter\"><code class=\"xref py py-func docutils literal notranslate\"><span class=\"pre\">filter()</span></code></a></td>\n",
    "<td><a class=\"reference internal\" href=\"#issubclass\" title=\"issubclass\"><code class=\"xref py py-func docutils literal notranslate\"><span class=\"pre\">issubclass()</span></code></a></td>\n",
    "<td><a class=\"reference internal\" href=\"#pow\" title=\"pow\"><code class=\"xref py py-func docutils literal notranslate\"><span class=\"pre\">pow()</span></code></a></td>\n",
    "<td><a class=\"reference internal\" href=\"#super\" title=\"super\"><code class=\"xref py py-func docutils literal notranslate\"><span class=\"pre\">super()</span></code></a></td>\n",
    "</tr>\n",
    "<tr class=\"row-even\"><td><a class=\"reference internal\" href=\"#func-bytes\"><code class=\"docutils literal notranslate\"><span class=\"pre\">bytes()</span></code></a></td>\n",
    "<td><a class=\"reference internal\" href=\"#float\" title=\"float\"><code class=\"xref py py-func docutils literal notranslate\"><span class=\"pre\">float()</span></code></a></td>\n",
    "<td><a class=\"reference internal\" href=\"#iter\" title=\"iter\"><code class=\"xref py py-func docutils literal notranslate\"><span class=\"pre\">iter()</span></code></a></td>\n",
    "<td><a class=\"reference internal\" href=\"#print\" title=\"print\"><code class=\"xref py py-func docutils literal notranslate\"><span class=\"pre\">print()</span></code></a></td>\n",
    "<td><a class=\"reference internal\" href=\"#func-tuple\"><code class=\"docutils literal notranslate\"><span class=\"pre\">tuple()</span></code></a></td>\n",
    "</tr>\n",
    "<tr class=\"row-odd\"><td><a class=\"reference internal\" href=\"#callable\" title=\"callable\"><code class=\"xref py py-func docutils literal notranslate\"><span class=\"pre\">callable()</span></code></a></td>\n",
    "<td><a class=\"reference internal\" href=\"#format\" title=\"format\"><code class=\"xref py py-func docutils literal notranslate\"><span class=\"pre\">format()</span></code></a></td>\n",
    "<td><a class=\"reference internal\" href=\"#len\" title=\"len\"><code class=\"xref py py-func docutils literal notranslate\"><span class=\"pre\">len()</span></code></a></td>\n",
    "<td><a class=\"reference internal\" href=\"#property\" title=\"property\"><code class=\"xref py py-func docutils literal notranslate\"><span class=\"pre\">property()</span></code></a></td>\n",
    "<td><a class=\"reference internal\" href=\"#type\" title=\"type\"><code class=\"xref py py-func docutils literal notranslate\"><span class=\"pre\">type()</span></code></a></td>\n",
    "</tr>\n",
    "<tr class=\"row-even\"><td><a class=\"reference internal\" href=\"#chr\" title=\"chr\"><code class=\"xref py py-func docutils literal notranslate\"><span class=\"pre\">chr()</span></code></a></td>\n",
    "<td><a class=\"reference internal\" href=\"#func-frozenset\"><code class=\"docutils literal notranslate\"><span class=\"pre\">frozenset()</span></code></a></td>\n",
    "<td><a class=\"reference internal\" href=\"#func-list\"><code class=\"docutils literal notranslate\"><span class=\"pre\">list()</span></code></a></td>\n",
    "<td><a class=\"reference internal\" href=\"#func-range\"><code class=\"docutils literal notranslate\"><span class=\"pre\">range()</span></code></a></td>\n",
    "<td><a class=\"reference internal\" href=\"#vars\" title=\"vars\"><code class=\"xref py py-func docutils literal notranslate\"><span class=\"pre\">vars()</span></code></a></td>\n",
    "</tr>\n",
    "<tr class=\"row-odd\"><td><a class=\"reference internal\" href=\"#classmethod\" title=\"classmethod\"><code class=\"xref py py-func docutils literal notranslate\"><span class=\"pre\">classmethod()</span></code></a></td>\n",
    "<td><a class=\"reference internal\" href=\"#getattr\" title=\"getattr\"><code class=\"xref py py-func docutils literal notranslate\"><span class=\"pre\">getattr()</span></code></a></td>\n",
    "<td><a class=\"reference internal\" href=\"#locals\" title=\"locals\"><code class=\"xref py py-func docutils literal notranslate\"><span class=\"pre\">locals()</span></code></a></td>\n",
    "<td><a class=\"reference internal\" href=\"#repr\" title=\"repr\"><code class=\"xref py py-func docutils literal notranslate\"><span class=\"pre\">repr()</span></code></a></td>\n",
    "<td><a class=\"reference internal\" href=\"#zip\" title=\"zip\"><code class=\"xref py py-func docutils literal notranslate\"><span class=\"pre\">zip()</span></code></a></td>\n",
    "</tr>\n",
    "<tr class=\"row-even\"><td><a class=\"reference internal\" href=\"#compile\" title=\"compile\"><code class=\"xref py py-func docutils literal notranslate\"><span class=\"pre\">compile()</span></code></a></td>\n",
    "<td><a class=\"reference internal\" href=\"#globals\" title=\"globals\"><code class=\"xref py py-func docutils literal notranslate\"><span class=\"pre\">globals()</span></code></a></td>\n",
    "<td><a class=\"reference internal\" href=\"#map\" title=\"map\"><code class=\"xref py py-func docutils literal notranslate\"><span class=\"pre\">map()</span></code></a></td>\n",
    "<td><a class=\"reference internal\" href=\"#reversed\" title=\"reversed\"><code class=\"xref py py-func docutils literal notranslate\"><span class=\"pre\">reversed()</span></code></a></td>\n",
    "<td><a class=\"reference internal\" href=\"#__import__\" title=\"__import__\"><code class=\"xref py py-func docutils literal notranslate\"><span class=\"pre\">__import__()</span></code></a></td>\n",
    "</tr>\n",
    "<tr class=\"row-odd\"><td><a class=\"reference internal\" href=\"#complex\" title=\"complex\"><code class=\"xref py py-func docutils literal notranslate\"><span class=\"pre\">complex()</span></code></a></td>\n",
    "<td><a class=\"reference internal\" href=\"#hasattr\" title=\"hasattr\"><code class=\"xref py py-func docutils literal notranslate\"><span class=\"pre\">hasattr()</span></code></a></td>\n",
    "<td><a class=\"reference internal\" href=\"#max\" title=\"max\"><code class=\"xref py py-func docutils literal notranslate\"><span class=\"pre\">max()</span></code></a></td>\n",
    "<td><a class=\"reference internal\" href=\"#round\" title=\"round\"><code class=\"xref py py-func docutils literal notranslate\"><span class=\"pre\">round()</span></code></a></td>\n",
    "<td>&nbsp;</td>\n",
    "</tr>\n",
    "</tbody>\n",
    "</table>\n",
    "\n"
   ]
  },
  {
   "cell_type": "markdown",
   "metadata": {},
   "source": [
    "## From the Python Standard Library\n",
    "\n",
    "<div class=\"my_text\">\n",
    "    <pre style=\"color: green;font-weight: bold;\">\n",
    "        <span class=\"bold\">\n",
    "re         datetime     itertools        \n",
    "pathlib    os      glob     shutil        \n",
    "pickle     sqlite3      zlib    gzip         \n",
    "bz2    zipfile  tarfile\n",
    "csv        ...\n",
    "        </span>\n",
    "    </pre>\n",
    "</div>\n",
    "\n",
    "```python\n",
    "import os\n",
    "os.path(...)\n",
    "```"
   ]
  },
  {
   "cell_type": "markdown",
   "metadata": {},
   "source": [
    "\n",
    "\n",
    "\n",
    "## from the SciPy and geoscience stack\n",
    "\n",
    "```python\n",
    "import numpy as np\n",
    "import pandas as pd\n",
    "etc\n",
    "```\n",
    "\n",
    "## Function definitions\n",
    "\n",
    "The anatomy of a function\n",
    "```python\n",
    "def velocity_from_slowness(slowness):\n",
    "    \"\"\"\n",
    "    Docstring: what the function does. What are the inputs (units), and what\n",
    "    does the function return?\n",
    "    \"\"\"\n",
    "    result = 1e6 / slowness\n",
    "    return result\n",
    "\n",
    "```\n",
    "\n",
    "A function definition does not execute the body of the function; this gets executed only when the function is called."
   ]
  },
  {
   "cell_type": "markdown",
   "metadata": {},
   "source": [
    "Positional arguments and keyword arguments\n",
    "```python\n",
    "def gardner(vp, alpha=310, beta=0.25):\n",
    "    return alpha * vp **beta\n",
    "```"
   ]
  },
  {
   "cell_type": "markdown",
   "metadata": {},
   "source": [
    "**args** arguments and **kwargs**\n",
    "\n",
    "In cases when we don’t know how many arguments will be passed to a function, like when we want to pass a list or a tuple of values, we use *args.\n",
    "\n",
    "**kwargs takes keyword arguments when we don’t know how many there will be.\n",
    "\n",
    "\n",
    "\n",
    "```python\n",
    "def my_function(*args, **kwargs):\n",
    "    suite\n",
    "    return\n",
    "```"
   ]
  },
  {
   "cell_type": "markdown",
   "metadata": {},
   "source": [
    "# Lambda expressions"
   ]
  },
  {
   "cell_type": "markdown",
   "metadata": {},
   "source": [
    "# 9. Class definitions\n",
    "\n",
    "(but we don't really get into this in class)\n",
    "\n",
    "```\n",
    "classdef    ::=  [decorators] \"class\" classname [inheritance] \":\" suite\n",
    "inheritance ::=  \"(\" [argument_list] \")\"\n",
    "classname   ::=  identifier\n",
    "```\n"
   ]
  },
  {
   "cell_type": "code",
   "execution_count": null,
   "metadata": {},
   "outputs": [],
   "source": []
  }
 ],
 "metadata": {
  "kernelspec": {
   "display_name": "geocomp",
   "language": "python",
   "name": "geocomp"
  },
  "language_info": {
   "codemirror_mode": {
    "name": "ipython",
    "version": 3
   },
   "file_extension": ".py",
   "mimetype": "text/x-python",
   "name": "python",
   "nbconvert_exporter": "python",
   "pygments_lexer": "ipython3",
   "version": "3.6.7"
  }
 },
 "nbformat": 4,
 "nbformat_minor": 2
}
