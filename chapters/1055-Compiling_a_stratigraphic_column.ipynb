{
 "cells": [
  {
   "cell_type": "markdown",
   "metadata": {},
   "source": [
    "# Compiling a stratigraphic column\n",
    "\n",
    "More on classes. Everything in Python is an object: variables, raw types, functions, everything.\n",
    "\n",
    "Sometimes it's useful to organize code around data — to think of a type of data as owning its own functions and metadata. In essence, we store data along with relevant functions (methods) in one 'thing' — an object. You can also think of this as writing your own 'types'.\n",
    "\n",
    "You can also build very complicated code this way, so be careful! Don't dive into writing classes until you've used Python for a while and start to see how most people use objects in Python. \n",
    "\n",
    "This notebook builds on the workflow in [Intro to PYthon](Intro_to_Python.ipynb), so you shoudl be sure to look at that notebook first."
   ]
  },
  {
   "cell_type": "markdown",
   "metadata": {},
   "source": [
    "## Types\n",
    "\n",
    "Python has several types, many of which you're already familiar with."
   ]
  },
  {
   "cell_type": "code",
   "execution_count": 1,
   "metadata": {},
   "outputs": [
    {
     "data": {
      "text/plain": [
       "int"
      ]
     },
     "execution_count": 1,
     "metadata": {},
     "output_type": "execute_result"
    }
   ],
   "source": [
    "type(5)"
   ]
  },
  {
   "cell_type": "code",
   "execution_count": 2,
   "metadata": {},
   "outputs": [
    {
     "data": {
      "text/plain": [
       "(str, str)"
      ]
     },
     "execution_count": 2,
     "metadata": {},
     "output_type": "execute_result"
    }
   ],
   "source": [
    "type('fifteen'), type('15')"
   ]
  },
  {
   "cell_type": "markdown",
   "metadata": {},
   "source": [
    "'fifteen' is an **instance** of the class **str**.\n",
    "\n",
    "Most of these objects have methods, which are just functions that 'belong' to the class:"
   ]
  },
  {
   "cell_type": "code",
   "execution_count": 5,
   "metadata": {},
   "outputs": [
    {
     "data": {
      "text/plain": [
       "3"
      ]
     },
     "execution_count": 5,
     "metadata": {},
     "output_type": "execute_result"
    }
   ],
   "source": [
    "'fifteen'.find('t')  # Call the method `find` on the string"
   ]
  },
  {
   "cell_type": "code",
   "execution_count": 13,
   "metadata": {},
   "outputs": [
    {
     "data": {
      "text/plain": [
       "[1, 3, 4, 5, 7, 8, 1000]"
      ]
     },
     "execution_count": 13,
     "metadata": {},
     "output_type": "execute_result"
    }
   ],
   "source": [
    "lst = [1,3,4,5,7,8]\n",
    "lst.append(1000)\n",
    "lst"
   ]
  },
  {
   "cell_type": "markdown",
   "metadata": {},
   "source": [
    "## A simple class"
   ]
  },
  {
   "cell_type": "code",
   "execution_count": 14,
   "metadata": {
    "collapsed": true
   },
   "outputs": [],
   "source": [
    "layers = [0.23, 0.34, 0.45, 0.25, 0.23, 0.35]"
   ]
  },
  {
   "cell_type": "markdown",
   "metadata": {},
   "source": [
    "Start with only one special method: `__init__()` which is required anyway.\n",
    "\n",
    "Inside `__init__()` we'll only define one **attribute**, `self.layers`."
   ]
  },
  {
   "cell_type": "code",
   "execution_count": 23,
   "metadata": {},
   "outputs": [],
   "source": [
    "import numpy as np\n",
    "\n",
    "class Layers(object):  # The 'new' Python base class — gives us some useful basic features.\n",
    "    \n",
    "    def __init__(self, layers):  # All methods take `self`, which is 'this' instance\n",
    "\n",
    "        # Just make sure we end up with an array\n",
    "        self.layers = np.array(layers)\n",
    "        \n",
    "        # __init__ can not return anything, and most people don't include a `return` line."
   ]
  },
  {
   "cell_type": "markdown",
   "metadata": {},
   "source": [
    "Now we can **instantiate** an instance of the class **Layers**"
   ]
  },
  {
   "cell_type": "code",
   "execution_count": 27,
   "metadata": {},
   "outputs": [],
   "source": [
    "l = Layers(layers=layers)"
   ]
  },
  {
   "cell_type": "code",
   "execution_count": 28,
   "metadata": {},
   "outputs": [
    {
     "data": {
      "text/plain": [
       "<__main__.Layers at 0x106e775c0>"
      ]
     },
     "execution_count": 28,
     "metadata": {},
     "output_type": "execute_result"
    }
   ],
   "source": [
    "l"
   ]
  },
  {
   "cell_type": "code",
   "execution_count": 29,
   "metadata": {},
   "outputs": [
    {
     "data": {
      "text/plain": [
       "array([ 0.23,  0.34,  0.45,  0.25,  0.23,  0.35])"
      ]
     },
     "execution_count": 29,
     "metadata": {},
     "output_type": "execute_result"
    }
   ],
   "source": [
    "l.layers"
   ]
  },
  {
   "cell_type": "markdown",
   "metadata": {},
   "source": [
    "At this point, we might as well just have an array, like we had before. So let's add another attribute, let's give the object a 'name':"
   ]
  },
  {
   "cell_type": "code",
   "execution_count": 32,
   "metadata": {
    "collapsed": true
   },
   "outputs": [],
   "source": [
    "class Layers(object):\n",
    "    \n",
    "    def __init__(self, layers, label=None):  # We use a default value of None\n",
    "\n",
    "        self.layers = np.array(layers)\n",
    "        self.label = label or \"My log\"  # This trick substitutes anything evaluating as False with 'My log'"
   ]
  },
  {
   "cell_type": "code",
   "execution_count": 35,
   "metadata": {},
   "outputs": [],
   "source": [
    "l = Layers(layers, label='Well 1')"
   ]
  },
  {
   "cell_type": "code",
   "execution_count": 36,
   "metadata": {},
   "outputs": [
    {
     "data": {
      "text/plain": [
       "'Well 1'"
      ]
     },
     "execution_count": 36,
     "metadata": {},
     "output_type": "execute_result"
    }
   ],
   "source": [
    "l.label"
   ]
  },
  {
   "cell_type": "markdown",
   "metadata": {},
   "source": [
    "## Magic methods"
   ]
  },
  {
   "cell_type": "markdown",
   "metadata": {},
   "source": [
    "Let's find out how big our fancy `Layers` object is..."
   ]
  },
  {
   "cell_type": "code",
   "execution_count": 37,
   "metadata": {},
   "outputs": [
    {
     "ename": "TypeError",
     "evalue": "object of type 'Layers' has no len()",
     "output_type": "error",
     "traceback": [
      "\u001b[0;31m---------------------------------------------------------------------------\u001b[0m",
      "\u001b[0;31mTypeError\u001b[0m                                 Traceback (most recent call last)",
      "\u001b[0;32m<ipython-input-37-e7d365b98336>\u001b[0m in \u001b[0;36m<module>\u001b[0;34m()\u001b[0m\n\u001b[0;32m----> 1\u001b[0;31m \u001b[0mlen\u001b[0m\u001b[0;34m(\u001b[0m\u001b[0ml\u001b[0m\u001b[0;34m)\u001b[0m\u001b[0;34m\u001b[0m\u001b[0m\n\u001b[0m",
      "\u001b[0;31mTypeError\u001b[0m: object of type 'Layers' has no len()"
     ]
    }
   ],
   "source": [
    "len(l)"
   ]
  },
  {
   "cell_type": "markdown",
   "metadata": {},
   "source": [
    "Dammit!\n",
    "\n",
    "The class inherited from `object` when we defined it, and it doesn't know how to apply `len` to our thing. We could do this..."
   ]
  },
  {
   "cell_type": "code",
   "execution_count": 39,
   "metadata": {},
   "outputs": [
    {
     "data": {
      "text/plain": [
       "6"
      ]
     },
     "execution_count": 39,
     "metadata": {},
     "output_type": "execute_result"
    }
   ],
   "source": [
    "len(l.layers)"
   ]
  },
  {
   "cell_type": "markdown",
   "metadata": {},
   "source": [
    "But sometimes we'd like something to 'just work' — maybe later we're going to pass our instances to something that can take lists or our new objects, and that thing might call `len()` on our object. \n",
    "\n",
    "That's why this also doesn't help:"
   ]
  },
  {
   "cell_type": "code",
   "execution_count": 38,
   "metadata": {
    "collapsed": true
   },
   "outputs": [],
   "source": [
    "class Layers(object):\n",
    "    def __init__(self, layers, label=None):\n",
    "        self.layers = np.array(layers)\n",
    "        self.label = label or \"My log\"\n",
    "        self.length = self.layers.size"
   ]
  },
  {
   "cell_type": "markdown",
   "metadata": {},
   "source": [
    "What's more, storing length in an attribute like this is unexpected...\n",
    "\n",
    "So we tell it with a so-called 'dunder' (double-underscore) or ['magic' method](https://docs.python.org/3/reference/datamodel.html) (not to be confused with IPython magics). That way, we can give our object the same interface as typical Python objects."
   ]
  },
  {
   "cell_type": "code",
   "execution_count": 40,
   "metadata": {
    "collapsed": true
   },
   "outputs": [],
   "source": [
    "class Layers(object):\n",
    "    def __init__(self, layers, label=None): \n",
    "        self.layers = np.array(layers)\n",
    "        self.label = label or \"My log\"\n",
    "\n",
    "    def __len__(self):\n",
    "        return len(self.layers)"
   ]
  },
  {
   "cell_type": "code",
   "execution_count": 41,
   "metadata": {},
   "outputs": [
    {
     "data": {
      "text/plain": [
       "6"
      ]
     },
     "execution_count": 41,
     "metadata": {},
     "output_type": "execute_result"
    }
   ],
   "source": [
    "l = Layers(layers, label='Well 1')\n",
    "len(l)"
   ]
  },
  {
   "cell_type": "markdown",
   "metadata": {},
   "source": [
    "Another useful magic method is `__repr__()`. Right now all we see when we do `l` on its own is:"
   ]
  },
  {
   "cell_type": "code",
   "execution_count": 43,
   "metadata": {},
   "outputs": [
    {
     "data": {
      "text/plain": [
       "<__main__.Layers at 0x10db554e0>"
      ]
     },
     "execution_count": 43,
     "metadata": {},
     "output_type": "execute_result"
    }
   ],
   "source": [
    "l"
   ]
  },
  {
   "cell_type": "code",
   "execution_count": 49,
   "metadata": {
    "collapsed": true
   },
   "outputs": [],
   "source": [
    "class Layers(object):\n",
    "    def __init__(self, layers, label=None): \n",
    "        self.layers = np.array(layers)\n",
    "        self.label = label or \"My log\"\n",
    "\n",
    "    def __len__(self):\n",
    "        return len(self.layers)\n",
    "    \n",
    "    def __repr__(self):\n",
    "        return 'Layers(length={})'.format(len(self))"
   ]
  },
  {
   "cell_type": "code",
   "execution_count": 50,
   "metadata": {},
   "outputs": [
    {
     "data": {
      "text/plain": [
       "Layers(length=6)"
      ]
     },
     "execution_count": 50,
     "metadata": {},
     "output_type": "execute_result"
    }
   ],
   "source": [
    "l = Layers(layers, label='Well 1')\n",
    "l"
   ]
  },
  {
   "cell_type": "markdown",
   "metadata": {},
   "source": [
    "A similar method `__str__()` defines what happens if we cast the object to a `str` type — which is also what happens to it if we call `print()` on it.\n",
    "\n",
    "### Ex: Try writing a __str__ method"
   ]
  },
  {
   "cell_type": "markdown",
   "metadata": {},
   "source": [
    "A handy extra magic method in Jupyter notebook is `_repr_html_()` which tells the notebook what to use for `repr()` — it overrides `__repr__()` when you're in the notebook."
   ]
  },
  {
   "cell_type": "code",
   "execution_count": 51,
   "metadata": {
    "collapsed": true
   },
   "outputs": [],
   "source": [
    "class Layers(object):\n",
    "    def __init__(self, layers, label=None):\n",
    "        self.layers = np.array(layers)\n",
    "        self.label = label or \"My log\"\n",
    "        self.length = self.layers.size\n",
    "        \n",
    "    def __len__(self):\n",
    "        return len(self.layers)\n",
    "\n",
    "    def __repr__(self):\n",
    "        return 'Layers(length={})'.format(len(self))\n",
    "    \n",
    "    def _repr_html_(self):\n",
    "        rows = \"<tr><th>{}</th></tr>\".format(self.label)\n",
    "        rows += \"<tr><td>\"\n",
    "        layer_strs = [str(i) for i in self.layers]\n",
    "        rows += \"</td></tr><tr><td>\".join(layer_strs)\n",
    "        rows += \"</td></tr>\"\n",
    "        html = \"<table>{}</table>\".format(rows)\n",
    "        return html"
   ]
  },
  {
   "cell_type": "code",
   "execution_count": 52,
   "metadata": {},
   "outputs": [
    {
     "data": {
      "text/html": [
       "<table><tr><th>Well 1</th></tr><tr><td>0.23</td></tr><tr><td>0.34</td></tr><tr><td>0.45</td></tr><tr><td>0.25</td></tr><tr><td>0.23</td></tr><tr><td>0.35</td></tr></table>"
      ],
      "text/plain": [
       "Layers(length=6)"
      ]
     },
     "execution_count": 52,
     "metadata": {},
     "output_type": "execute_result"
    }
   ],
   "source": [
    "l = Layers(layers, label='Well 1')\n",
    "l"
   ]
  },
  {
   "cell_type": "markdown",
   "metadata": {},
   "source": [
    "## Ex: Try writing a method that allows you to do layers1 + layers2"
   ]
  },
  {
   "cell_type": "markdown",
   "metadata": {},
   "source": [
    "## Constructor methods\n",
    "\n",
    "It can be handy to have several ways to instantiate a class, rather than knowing you'll pass a list (say). \n",
    "\n",
    "Let's make a CSV file and write a special method to read those. Even though this is only a 1D dataset, I'll make it more interesting — and more like what you'll normally encounter — by assuming we're reading lots of rows from the CSV."
   ]
  },
  {
   "cell_type": "code",
   "execution_count": 59,
   "metadata": {},
   "outputs": [],
   "source": [
    "import csv\n",
    "\n",
    "with open('../data/my_layers.csv', 'w') as f:\n",
    "    writer = csv.writer(f)\n",
    "    for row in layers:\n",
    "        writer.writerow([row])  # Have to form a list b/c it's just a 1D array."
   ]
  },
  {
   "cell_type": "code",
   "execution_count": 69,
   "metadata": {
    "collapsed": true
   },
   "outputs": [],
   "source": [
    "class Layers(object):\n",
    "    def __init__(self, layers, label=None):\n",
    "        self.layers = np.array(layers)\n",
    "        self.label = label or \"My log\"\n",
    "        self.length = self.layers.size\n",
    "        \n",
    "    def __len__(self):\n",
    "        return len(self.layers)\n",
    "\n",
    "    def __repr__(self):\n",
    "        return 'Layers(length={})'.format(len(self))\n",
    "    \n",
    "    def _repr_html_(self):\n",
    "        rows = \"<tr><th>{}</th></tr>\".format(self.label)\n",
    "        rows += \"<tr><td>\"\n",
    "        layer_strs = [str(i) for i in self.layers]\n",
    "        rows += \"</td></tr><tr><td>\".join(layer_strs)\n",
    "        rows += \"</td></tr>\"\n",
    "        html = \"<table>{}</table>\".format(rows)\n",
    "        return html\n",
    "    \n",
    "    # This decorator indicates to Python that this method handles classes not instances.\n",
    "    @classmethod\n",
    "    def from_csv(cls, filename, column=0):  # Takes cls not self.\n",
    "        layer_list = []\n",
    "        with open(filename, 'r') as f:\n",
    "            reader = csv.reader(f)\n",
    "            for row in reader:\n",
    "                layer_list.append(row[column])\n",
    "        return cls(layer_list)  # Returns an instance of the class."
   ]
  },
  {
   "cell_type": "code",
   "execution_count": 70,
   "metadata": {},
   "outputs": [
    {
     "data": {
      "text/html": [
       "<table><tr><th>My log</th></tr><tr><td>0.23</td></tr><tr><td>0.34</td></tr><tr><td>0.45</td></tr><tr><td>0.25</td></tr><tr><td>0.23</td></tr><tr><td>0.35</td></tr></table>"
      ],
      "text/plain": [
       "Layers(length=6)"
      ]
     },
     "execution_count": 70,
     "metadata": {},
     "output_type": "execute_result"
    }
   ],
   "source": [
    "l = Layers.from_csv('../data/my_layers.csv', column=0)\n",
    "l"
   ]
  },
  {
   "cell_type": "markdown",
   "metadata": {},
   "source": [
    "### Ex: Can you write a method to compute reflection coefficients for these layers?"
   ]
  },
  {
   "cell_type": "markdown",
   "metadata": {},
   "source": [
    "### Ex: Can you write a method to plot the Layers instance?"
   ]
  },
  {
   "cell_type": "markdown",
   "metadata": {},
   "source": [
    "<hr />\n",
    "\n",
    "## Instructor"
   ]
  },
  {
   "cell_type": "code",
   "execution_count": 75,
   "metadata": {
    "collapsed": true
   },
   "outputs": [],
   "source": [
    "import matplotlib.pyplot as plt\n",
    "%matplotlib inline\n",
    "\n",
    "class Layers(object):\n",
    "    def __init__(self, layers, label=None):\n",
    "        self.layers = np.array(layers)\n",
    "        self.label = label or \"My log\"\n",
    "        self.length = self.layers.size\n",
    "        \n",
    "    def __len__(self):\n",
    "        return len(self.layers)\n",
    "\n",
    "    def _repr_html_(self):\n",
    "        rows = \"<tr><th>{}</th></tr>\".format(self.label)\n",
    "        rows += \"<tr><td>\"\n",
    "        layer_strs = [str(i) for i in self.layers]\n",
    "        rows += \"</td></tr><tr><td>\".join(layer_strs)\n",
    "        rows += \"</td></tr>\"\n",
    "        html = \"<table>{}</table>\".format(rows)\n",
    "        return html\n",
    "    \n",
    "    def rcs(self):\n",
    "        uppers = self.layers[:-1]\n",
    "        lowers = self.layers[1:]\n",
    "        return (lowers-uppers) / (uppers+lowers)\n",
    "    \n",
    "    def plot(self, lw=0.5, color='#6699ff'):\n",
    "        fig = plt.figure(figsize=(2,6))\n",
    "        ax = fig.add_subplot(111)\n",
    "        ax.barh(range(len(self.layers)), self.layers, color=color, lw=lw, align='edge', height=1.0, alpha=1.0, zorder=10)\n",
    "        ax.grid(zorder=2)\n",
    "        ax.set_ylabel('Layers')\n",
    "        ax.set_title(self.label)\n",
    "        ax.set_xlim([-0.5,1.0])\n",
    "        ax.set_xlabel('Measurement (units)')\n",
    "        ax.invert_yaxis()  \n",
    "        ax.set_xticks(ax.get_xticks()[::2])    # take out every second tick\n",
    "        ax.spines['right'].set_visible(False)  # hide the spine on the right\n",
    "        ax.yaxis.set_ticks_position('left')    # Only show ticks on the left and bottom spines\n",
    "        \n",
    "        plt.show()"
   ]
  },
  {
   "cell_type": "code",
   "execution_count": 84,
   "metadata": {},
   "outputs": [
    {
     "data": {
      "text/plain": [
       "array([ 0.19298246,  0.13924051, -0.28571429, -0.04166667,  0.20689655])"
      ]
     },
     "execution_count": 84,
     "metadata": {},
     "output_type": "execute_result"
    }
   ],
   "source": [
    "l = Layers(layers, label='Well 1')\n",
    "l.rcs()"
   ]
  },
  {
   "cell_type": "code",
   "execution_count": 76,
   "metadata": {},
   "outputs": [
    {
     "data": {
      "image/png": "[encoded data removed]",
      "text/plain": [
       "<matplotlib.figure.Figure at 0x10db889b0>"
      ]
     },
     "metadata": {},
     "output_type": "display_data"
    }
   ],
   "source": [
    "l.plot()"
   ]
  },
  {
   "cell_type": "markdown",
   "metadata": {},
   "source": [
    "<hr />\n",
    "\n",
    "<div>\n",
    "<img src=\"https://avatars1.githubusercontent.com/u/1692321?s=50\"><p style=\"text-align:center\">© Agile Geoscience 2016</p>\n",
    "</div>"
   ]
  }
 ],
 "metadata": {
  "anaconda-cloud": {},
  "kernelspec": {
   "display_name": "Python [default]",
   "language": "python",
   "name": "python3"
  },
  "language_info": {
   "codemirror_mode": {
    "name": "ipython",
    "version": 3
   },
   "file_extension": ".py",
   "mimetype": "text/x-python",
   "name": "python",
   "nbconvert_exporter": "python",
   "pygments_lexer": "ipython3",
   "version": "3.6.3"
  }
 },
 "nbformat": 4,
 "nbformat_minor": 1
}
