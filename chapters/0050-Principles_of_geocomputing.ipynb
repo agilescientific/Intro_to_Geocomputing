{
 "cells": [
  {
   "cell_type": "markdown",
   "metadata": {},
   "source": [
    "# Principles of geocomputing\n",
    "\n",
    "- Everything is implemented in code: figures, charts, examples, etc.\n",
    "- Everything is reproducible.\n",
    "- Everything is in version control.\n",
    "- Data must be digital and carry metadata.\n",
    "- Important workflows belong in code.\n",
    "- Never write your own encryption... or geospatial.\n",
    "\n",
    "\n",
    "## Learning\n",
    "\n",
    "- Coding is a spectator sport (!).\n",
    "- You can't get fit overnight.\n",
    "- There are many ways to solve most problems.\n",
    "- Distinction between language syntax and fundamental concepts.\n",
    "- Software engineering vs computer scientists vs scientific computing.\n",
    "- Everything you need to know is on the web."
   ]
  },
  {
   "cell_type": "code",
   "execution_count": null,
   "metadata": {},
   "outputs": [],
   "source": []
  }
 ],
 "metadata": {
  "kernelspec": {
   "display_name": "Python [conda env:recipes]",
   "language": "python",
   "name": "conda-env-recipes-py"
  },
  "language_info": {
   "codemirror_mode": {
    "name": "ipython",
    "version": 3
   },
   "file_extension": ".py",
   "mimetype": "text/x-python",
   "name": "python",
   "nbconvert_exporter": "python",
   "pygments_lexer": "ipython3",
   "version": "3.6.3"
  }
 },
 "nbformat": 4,
 "nbformat_minor": 2
}
