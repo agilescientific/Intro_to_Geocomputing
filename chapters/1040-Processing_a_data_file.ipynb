{
 "cells": [
  {
   "cell_type": "markdown",
   "metadata": {
    "slideshow": {
     "slide_type": "slide"
    }
   },
   "source": [
    "# Processing a data file"
   ]
  },
  {
   "cell_type": "markdown",
   "metadata": {
    "slideshow": {
     "slide_type": "slide"
    }
   },
   "source": [
    "## ... from text files"
   ]
  },
  {
   "cell_type": "markdown",
   "metadata": {},
   "source": [
    "You can explicitly read from and write to files directly in your code. Python makes working with files pretty simple.\n",
    "\n",
    "The first step to working with a text file is to obtain a 'file object' using `open`."
   ]
  },
  {
   "cell_type": "code",
   "execution_count": 4,
   "metadata": {},
   "outputs": [
    {
     "name": "stdout",
     "output_type": "stream",
     "text": [
      "000001-Test.ipynb\r\n",
      "0001-What_and_why.ipynb\r\n",
      "0005-Installing_Python.ipynb\r\n",
      "0010-Conda_environments.ipynb\r\n",
      "0015-Python_command_line.ipynb\r\n",
      "0030-Modules_and_packages.ipynb\r\n",
      "0040-Getting_help.ipynb\r\n",
      "0050-Principles_of_geocomputing.ipynb\r\n",
      "1015-M-Calculating_acoustic_impedance.ipynb\r\n",
      "1018-M-Representing_numbers.ipynb\r\n",
      "1020-M-Representing_text.ipynb\r\n",
      "1025-M-Geological_abstractions.ipynb\r\n",
      "1030-M-Operating_on_time_and_space.ipynb\r\n",
      "1035-M-Geological_abstractions_dictionaries.ipynb\r\n",
      "1040-Processing_a_data_file.ipynb\r\n",
      "1050-Computing_reflectivity.ipynb\r\n",
      "1055-Compiling_a_stratigraphic_column.ipynb\r\n",
      "2010-Synthetic_wedge_model.ipynb\r\n",
      "\u001b[31m2030-Load_and_inspect_a_seismic_section.ipynb\u001b[m\u001b[m*\r\n",
      "2035-Load_and_inspect_a_seismic_horizon.ipynb\r\n",
      "3020-Testing.ipynb\r\n",
      "3025-Documentation.ipynb\r\n"
     ]
    }
   ],
   "source": []
  },
  {
   "cell_type": "code",
   "execution_count": 3,
   "metadata": {},
   "outputs": [
    {
     "ename": "FileNotFoundError",
     "evalue": "[Errno 2] No such file or directory: '../data/L30_tops.txt'",
     "output_type": "error",
     "traceback": [
      "\u001b[0;31m---------------------------------------------------------------------------\u001b[0m",
      "\u001b[0;31mFileNotFoundError\u001b[0m                         Traceback (most recent call last)",
      "\u001b[0;32m<ipython-input-3-df29f76e9549>\u001b[0m in \u001b[0;36m<module>\u001b[0;34m()\u001b[0m\n\u001b[1;32m      2\u001b[0m \u001b[0mfname\u001b[0m \u001b[0;34m=\u001b[0m \u001b[0;34m'../data/L30_tops.txt'\u001b[0m\u001b[0;34m\u001b[0m\u001b[0m\n\u001b[1;32m      3\u001b[0m \u001b[0;34m\u001b[0m\u001b[0m\n\u001b[0;32m----> 4\u001b[0;31m \u001b[0;32mwith\u001b[0m \u001b[0mopen\u001b[0m\u001b[0;34m(\u001b[0m\u001b[0mfname\u001b[0m\u001b[0;34m,\u001b[0m \u001b[0;34m'r'\u001b[0m\u001b[0;34m)\u001b[0m \u001b[0;32mas\u001b[0m \u001b[0mf\u001b[0m\u001b[0;34m:\u001b[0m  \u001b[0;31m# use 'w' to write and 'a' to append to a file. Add a 'b' for binary files.\u001b[0m\u001b[0;34m\u001b[0m\u001b[0m\n\u001b[0m\u001b[1;32m      5\u001b[0m     \u001b[0mheader\u001b[0m \u001b[0;34m=\u001b[0m \u001b[0mf\u001b[0m\u001b[0;34m.\u001b[0m\u001b[0mreadline\u001b[0m\u001b[0;34m(\u001b[0m\u001b[0;34m)\u001b[0m    \u001b[0;31m# is string containing the first line in the file.\u001b[0m\u001b[0;34m\u001b[0m\u001b[0m\n\u001b[1;32m      6\u001b[0m     \u001b[0mbody\u001b[0m \u001b[0;34m=\u001b[0m \u001b[0mf\u001b[0m\u001b[0;34m.\u001b[0m\u001b[0mreadlines\u001b[0m\u001b[0;34m(\u001b[0m\u001b[0;34m)\u001b[0m     \u001b[0;31m# The variable \"lines\" is a list containing the remaining lines.\u001b[0m\u001b[0;34m\u001b[0m\u001b[0m\n",
      "\u001b[0;31mFileNotFoundError\u001b[0m: [Errno 2] No such file or directory: '../data/L30_tops.txt'"
     ]
    }
   ],
   "source": [
    "## Open the file with read only permit\n",
    "fname = '../data/L30_tops.txt'\n",
    "\n",
    "with open(fname, 'r') as f:  # use 'w' to write and 'a' to append to a file. Add a 'b' for binary files.\n",
    "    header = f.readline()    # is string containing the first line in the file.\n",
    "    body = f.readlines()     # The variable \"lines\" is a list containing the remaining lines."
   ]
  },
  {
   "cell_type": "markdown",
   "metadata": {
    "slideshow": {
     "slide_type": "slide"
    }
   },
   "source": [
    "Every line you get this way ends in a newline character, `\\n`, so you'll often want to `strip()` it before doing anything with it."
   ]
  },
  {
   "cell_type": "code",
   "execution_count": null,
   "metadata": {
    "slideshow": {
     "slide_type": "subslide"
    }
   },
   "outputs": [],
   "source": [
    "fname = 'data/L30_tops.txt'\n",
    "tops={}\n",
    "with open(fname) as f:\n",
    "    for line in f:\n",
    "        if not line.startswith('#'):\n",
    "            name, depth = line.strip().split(',')\n",
    "            tops[name] = float(depth)\n",
    "tops"
   ]
  },
  {
   "cell_type": "markdown",
   "metadata": {
    "slideshow": {
     "slide_type": "-"
    }
   },
   "source": [
    "----\n",
    "**Exercise** create a tops dictionary:\n",
    "\n",
    "* a) Modify the code snippet about to create a `dict` call tops, containing the formation name as the `key` and the `depth` as the value\n",
    "* b) What is the thickness between the `Wyandot FM` and the `Base O-Marker`?\n",
    "\n",
    "`tops['Base O-Marker'] - tops['WyanDot FM']`"
   ]
  }
 ],
 "metadata": {
  "anaconda-cloud": {},
  "kernelspec": {
   "display_name": "geocomp",
   "language": "python",
   "name": "geocomp"
  },
  "language_info": {
   "codemirror_mode": {
    "name": "ipython",
    "version": 3
   },
   "file_extension": ".py",
   "mimetype": "text/x-python",
   "name": "python",
   "nbconvert_exporter": "python",
   "pygments_lexer": "ipython3",
   "version": "3.6.4"
  }
 },
 "nbformat": 4,
 "nbformat_minor": 1
}
