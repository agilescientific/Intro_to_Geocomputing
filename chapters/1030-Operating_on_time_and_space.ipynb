{
 "cells": [
  {
   "cell_type": "markdown",
   "metadata": {
    "slideshow": {
     "slide_type": "slide"
    }
   },
   "source": [
    "# Operating on time and space\n",
    "\n",
    "- Looping, making decisions"
   ]
  },
  {
   "cell_type": "markdown",
   "metadata": {
    "slideshow": {
     "slide_type": "slide"
    }
   },
   "source": [
    "## Loops\n",
    "\n",
    "*Doing stuff many times*\n",
    "\n",
    "the <code><font color=\"green\">while</font></code> loop\n",
    "\n",
    "the <code><font color=\"green\">for</font></code> loop"
   ]
  },
  {
   "cell_type": "code",
   "execution_count": null,
   "metadata": {
    "collapsed": true,
    "slideshow": {
     "slide_type": "-"
    }
   },
   "outputs": [],
   "source": [
    "layers = ['shale','shale','shale','sand','sand','sand','sand','shale','shale','shale']"
   ]
  },
  {
   "cell_type": "code",
   "execution_count": null,
   "metadata": {
    "collapsed": true
   },
   "outputs": [],
   "source": [
    "# for loop syntax\n",
    "for val in gamma:\n",
    "    print(val)"
   ]
  },
  {
   "cell_type": "markdown",
   "metadata": {},
   "source": [
    "<font color=\"#0A5394\">**\\*iteration, *iterable**</font>"
   ]
  },
  {
   "cell_type": "markdown",
   "metadata": {},
   "source": [
    "## List comprehension"
   ]
  },
  {
   "cell_type": "code",
   "execution_count": null,
   "metadata": {
    "collapsed": true
   },
   "outputs": [],
   "source": [
    "[val*2 for val in gamma]"
   ]
  },
  {
   "cell_type": "code",
   "execution_count": null,
   "metadata": {},
   "outputs": [],
   "source": [
    "# Turn these loops into list comprehensions:\n",
    "\n",
    "squares = []\n",
    "for n in range(20):\n",
    "    squares.append(n**2)\n",
    "    \n",
    "names = ['William Smith', 'Mary Anning', 'Steve Gould']\n",
    "short = []\n",
    "for name in names:\n",
    "    initial = name[0]\n",
    "    surname = name.split()[-1]\n",
    "    short.append(surname + initial)"
   ]
  },
  {
   "cell_type": "markdown",
   "metadata": {
    "slideshow": {
     "slide_type": "slide"
    }
   },
   "source": [
    "\n",
    "\n",
    "## Making decisions\n",
    "\n",
    "The <code><font color=\"green\">if</font></code> statement\n",
    "\n",
    "use a loop and if / else statements to transform the list `layers` into a pay flag:\n",
    "\n",
    "`pay = [0, 0, 0, 1, 1, 1, 1, 0, 0, 0]`"
   ]
  },
  {
   "cell_type": "code",
   "execution_count": null,
   "metadata": {},
   "outputs": [],
   "source": [
    "layers = ['shale','shale','shale','sand','sand','sand','sand','shale','shale','shale']\n",
    "# the if statement:\n"
   ]
  },
  {
   "cell_type": "markdown",
   "metadata": {},
   "source": [
    "<font color=\"#0A5394\">**\\*conditionals**</font>"
   ]
  }
 ],
 "metadata": {
  "anaconda-cloud": {},
  "kernelspec": {
   "display_name": "Python [conda env:recipes]",
   "language": "python",
   "name": "conda-env-recipes-py"
  },
  "language_info": {
   "codemirror_mode": {
    "name": "ipython",
    "version": 3
   },
   "file_extension": ".py",
   "mimetype": "text/x-python",
   "name": "python",
   "nbconvert_exporter": "python",
   "pygments_lexer": "ipython3",
   "version": "3.6.3"
  }
 },
 "nbformat": 4,
 "nbformat_minor": 1
}
