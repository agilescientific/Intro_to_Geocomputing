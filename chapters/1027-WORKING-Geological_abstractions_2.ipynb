{
 "cells": [
  {
   "cell_type": "markdown",
   "metadata": {
    "slideshow": {
     "slide_type": "slide"
    }
   },
   "source": [
    "# Geological abstractions 2\n",
    "\n",
    "Next we're going to meet the following Python types:\n",
    "\n",
    "- `dict`: mappings, short for 'dictionary'\n",
    "- `set`: unordered collections of unique elements\n",
    "\n",
    "Let's get started!"
   ]
  },
  {
   "cell_type": "markdown",
   "metadata": {
    "slideshow": {
     "slide_type": "slide"
    }
   },
   "source": [
    "### `dicts`\n",
    "\n",
    "Dictionaries are an important data structure in Python. Called mappings or hash tables in other languages, a dictionary, or `dict`, is a collection of unique key / value pairs. The dictionary itself is mutable, but the keys must be immutable.\n",
    "\n",
    "To see why the concept of key / value pairs is useful, recall the data structure we used in the last chapter for a list of geological periods, with further lists for their ages:"
   ]
  },
  {
   "cell_type": "code",
   "execution_count": null,
   "metadata": {},
   "outputs": [],
   "source": [
    "periods = [[\"Cambrian (\\uA792)\", [541, 485]], [\"Ordovician (O)\", [485, 444]], \n",
    "           [\"Silurian (S)\", [444, 419]], [\"Devonian (D)\",[419, 359]], \n",
    "           [\"Carboniferous (M)\", [359, 299]], [\"Permian (P)\", [299, 252]],\n",
    "           [\"Triassic (T)\", [252, 201]], [\"Jurassic (J)\", [201, 145]],\n",
    "           [\"Cretaceous (C)\", [145, 66]], [\"Palaeogene (Pg)\", [66, 23]],\n",
    "           [\"Neogene (N)\", [23, 2.6]], [\"Quaternary (Q)\", [2.6, 0]],\n",
    "          ]"
   ]
  },
  {
   "cell_type": "markdown",
   "metadata": {},
   "source": [
    "Dictionaries turn out to be a much more convenient way to store information like this, because instead of just making a list of the values (or the names or their start and end ages), we can use the keys to give the values more natural names. For example, we could store a 'row' of our dataset like this:"
   ]
  },
  {
   "cell_type": "code",
   "execution_count": 8,
   "metadata": {},
   "outputs": [],
   "source": [
    "period = {'name': \"Cambrian\", \"abbreviation\": \"\\uA792\", \"start\": 544, \"end\": 495}"
   ]
  },
  {
   "cell_type": "markdown",
   "metadata": {},
   "source": [
    "This is nice, because instead of remembering the indices of our data, we can use names. For example:"
   ]
  },
  {
   "cell_type": "code",
   "execution_count": null,
   "metadata": {},
   "outputs": [],
   "source": [
    "period['name']"
   ]
  },
  {
   "cell_type": "markdown",
   "metadata": {},
   "source": [
    "The structure we choose depends on features we want. To preserve order, we might make a list of dicts."
   ]
  },
  {
   "cell_type": "code",
   "execution_count": 1,
   "metadata": {},
   "outputs": [],
   "source": [
    "periods = {\n",
    "    'Cambrian': {'abbreviation': 'Ꞓ', 'start': 541, 'end': 485},\n",
    "    'Ordovician': {'abbreviation': 'O', 'start': 485, 'end': 444},\n",
    "    'Silurian': {'abbreviation': 'S', 'start': 444, 'end': 419},\n",
    "    'Devonian': {'abbreviation': 'D', 'start': 419, 'end': 359},\n",
    "    'Carboniferous': {'abbreviation': 'M', 'start': 359, 'end': 299},\n",
    "    'Permian': {'abbreviation': 'P', 'start': 299, 'end': 252},\n",
    "    'Triassic': {'abbreviation': 'T', 'start': 252, 'end': 201},\n",
    "    'Jurassic': {'abbreviation': 'J', 'start': 201, 'end': 145},\n",
    "    'Cretaceous': {'abbreviation': 'C', 'start': 155, 'end': 66},\n",
    "    'Palaeogene': {'abbreviation': 'Pg', 'start': 66, 'end': 23},\n",
    "    'Neogene': {'abbreviation': 'N', 'start': 23, 'end': 2.6},\n",
    "    'Quaternary': {'abbreviation': 'Q', 'start': 2.6, 'end': 0}\n",
    "}"
   ]
  },
  {
   "cell_type": "markdown",
   "metadata": {
    "slideshow": {
     "slide_type": "slide"
    }
   },
   "source": [
    "### Exercise: what is the expected output of the following?\n",
    "\n",
    "- `periods['Triassic']`\n",
    "- `periods['Jurassic']['start']`\n",
    "\n",
    "### Exercise\n",
    "\n",
    "- What command would you type to return the age of the end of the Permian?\n",
    "- The start of the Cretaceous is wrong: it should be 145. Change it to the correct value.\n",
    "- We've lost the dates for the Quaternary Period [1.8 mya to present (0)]. Index into that entry, and append it."
   ]
  },
  {
   "cell_type": "code",
   "execution_count": 2,
   "metadata": {
    "slideshow": {
     "slide_type": "fragment"
    }
   },
   "outputs": [],
   "source": [
    "# your code here"
   ]
  },
  {
   "cell_type": "code",
   "execution_count": 5,
   "metadata": {},
   "outputs": [
    {
     "name": "stdout",
     "output_type": "stream",
     "text": [
      "intro\r\n"
     ]
    }
   ],
   "source": [
    "!echo $CONDA_DEFAULT_ENV"
   ]
  },
  {
   "cell_type": "markdown",
   "metadata": {
    "slideshow": {
     "slide_type": "slide"
    }
   },
   "source": [
    "### `Set`"
   ]
  },
  {
   "cell_type": "markdown",
   "metadata": {},
   "source": [
    "Instances of the `set` type are equivalent to mathematical sets. Like their math counterparts, literal sets in Python are defined by comma seperated values between curly braces ({}). Sets are unordered containers of unique values. Duplicated elements are ignored. Beacuse they unordered, sets are not sequences and cannot be duplicated."
   ]
  },
  {
   "cell_type": "code",
   "execution_count": null,
   "metadata": {
    "slideshow": {
     "slide_type": "subslide"
    }
   },
   "outputs": [],
   "source": [
    "# a literal set formed with elements of various types\n",
    "{1.0, 10, \"one hundred\", (1, 0, 0, 0)}"
   ]
  },
  {
   "cell_type": "code",
   "execution_count": null,
   "metadata": {
    "collapsed": true
   },
   "outputs": [],
   "source": [
    "# a literal set OF special values\n",
    "{True, False, None, \"\", 0.0, 0}"
   ]
  },
  {
   "cell_type": "code",
   "execution_count": null,
   "metadata": {
    "collapsed": true
   },
   "outputs": [],
   "source": [
    "# conversion from a list to a set\n",
    "set([2.0, 4, \"eight\", (16,), 4, 4, 2.0])"
   ]
  },
  {
   "cell_type": "markdown",
   "metadata": {},
   "source": [
    "Here's a good time to take a break\n",
    "\n",
    "- Variables and Assignment\n",
    "- Native data types\n",
    "- Operators and Expressions\n",
    "- Data collections and data structures\n",
    "- <font color='lightgrey'>Procedures and control: Loops and Making choices</font>\n",
    "- <font color='lightgrey'>Getting data, manipulating data</font>\n",
    "- <font color='lightgrey'>Defining functions and calling functions</font>\n",
    "- <font color='lightgrey'>Writing and running programs</font>\n",
    "- <font color='lightgrey'>Objects and classes</font>"
   ]
  },
  {
   "cell_type": "markdown",
   "metadata": {},
   "source": [
    "----\n",
    "**Exercise** manipulating and viewing lists:\n",
    "\n",
    "* a) create a new list that has the integer 1 for sand and 0 for shale.\n",
    "* b) using `plt.plot()` create a plot of the porosity values\n",
    "* c) make a depth vs porosity plot so depth is vertically downwards\n",
    "* d) Use `plt.scatter()` to make a cross plot of `gamma` vs `porosity`\n",
    "* f) Explore other keyword arguments for `plt.plot()` and `plt.scatter` to pretty things up\n",
    "* bonus e) Use the keyword `c` in the call to `scatter` to distinguish between sand and shale"
   ]
  },
  {
   "cell_type": "code",
   "execution_count": null,
   "metadata": {},
   "outputs": [],
   "source": [
    "layers = ['shale','shale','shale','sand','sand','sand','sand','shale','shale','shale']\n",
    "depth = [10, 11, 12, 13, 14, 15, 16, 17, 18, 19]\n",
    "porosity = [2, 3, 2, 14, 18, 17, 14, 2, 3, 3]\n",
    "gamma = [85, 90, 77, 23, 27, 31, 25, 110, 113, 108]"
   ]
  }
 ],
 "metadata": {
  "anaconda-cloud": {},
  "kernelspec": {
   "display_name": "Python 3",
   "language": "python",
   "name": "python3"
  },
  "language_info": {
   "codemirror_mode": {
    "name": "ipython",
    "version": 3
   },
   "file_extension": ".py",
   "mimetype": "text/x-python",
   "name": "python",
   "nbconvert_exporter": "python",
   "pygments_lexer": "ipython3",
   "version": "3.6.4"
  }
 },
 "nbformat": 4,
 "nbformat_minor": 2
}
