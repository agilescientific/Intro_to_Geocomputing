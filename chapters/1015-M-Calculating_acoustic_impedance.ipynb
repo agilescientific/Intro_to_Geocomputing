{
 "cells": [
  {
   "cell_type": "markdown",
   "metadata": {
    "slideshow": {
     "slide_type": "slide"
    }
   },
   "source": [
    "# Calculating acoustic impedance\n",
    "\n",
    "You can use Python like a calculator. It's a fine way to get a feel for the Python command line and the syntax (rules) of the language. It's also a good way to start to use mathematical operators, variables, and other features. Many of them will already be familiar to you, because most programming languages — and spreadsheets — have similar features.\n",
    "\n",
    "Let's start with calculating the acoustic impedance of a rock. Acoustic impedance $Z$ is the product of density $\\rho$ and P-wave velocity $V_\\mathrm{P}$ and therefore given by:\n",
    "\n",
    "$$ Z = \\rho V_\\mathrm{P} $$\n",
    "\n",
    "If we already know the values, say a density of 2650 kg/m<sup>3</sup> and a velocity of 2300 m/s, we can just do the math:"
   ]
  },
  {
   "cell_type": "code",
   "execution_count": 2,
   "metadata": {},
   "outputs": [
    {
     "data": {
      "text/plain": [
       "6095000"
      ]
     },
     "execution_count": 2,
     "metadata": {},
     "output_type": "execute_result"
    }
   ],
   "source": [
    "2650 * 2300"
   ]
  },
  {
   "cell_type": "markdown",
   "metadata": {},
   "source": [
    "The `*` represents the multiplication operator. The numbers are just numbers... sort of. They are a particluar type of number called an `int`, short for integer. We can do the same calculation with so-called floating-point numbers, or `float`s, which can represent non-integers:"
   ]
  },
  {
   "cell_type": "code",
   "execution_count": 3,
   "metadata": {},
   "outputs": [
    {
     "data": {
      "text/plain": [
       "6095000.0"
      ]
     },
     "execution_count": 3,
     "metadata": {},
     "output_type": "execute_result"
    }
   ],
   "source": [
    "2650.0 * 2300.0"
   ]
  },
  {
   "cell_type": "markdown",
   "metadata": {},
   "source": [
    "`float`s can also use scientific notation, so just as we could represent 2650 as $2.65 \\times 10^3$, we can represent `2650.0` as `2.65e3` and get the same result as before:"
   ]
  },
  {
   "cell_type": "code",
   "execution_count": 4,
   "metadata": {},
   "outputs": [
    {
     "data": {
      "text/plain": [
       "6095000.0"
      ]
     },
     "execution_count": 4,
     "metadata": {},
     "output_type": "execute_result"
    }
   ],
   "source": [
    "2.65e3 * 2.30e3"
   ]
  },
  {
   "cell_type": "markdown",
   "metadata": {},
   "source": [
    "We'll discover more about Python's 'types' — different kinds of objects like `int`s, `float`s, and others — in the next chapter. For now, let's look at naming things."
   ]
  },
  {
   "cell_type": "markdown",
   "metadata": {
    "slideshow": {
     "slide_type": "slide"
    }
   },
   "source": [
    "## Variables and assignment\n",
    "\n",
    "Very often it's convenient to assign names to these quantities. For example, we might want to use the same number again later in a script or program. So we nearly always assign names to things like numbers. \n",
    "\n",
    "Let's call the density number `rho`, and the velocity number `Vp`, for P-wave velocity. "
   ]
  },
  {
   "cell_type": "code",
   "execution_count": 5,
   "metadata": {
    "slideshow": {
     "slide_type": "fragment"
    }
   },
   "outputs": [],
   "source": [
    "rho = 2650.0\n",
    "Vp = 2300.0"
   ]
  },
  {
   "cell_type": "markdown",
   "metadata": {},
   "source": [
    "'Assignment' is achieved with the assignment operator `=`. We call this 'equals', but technically `x = 1` means something closer to '`x` is the name for the location in memory currently holding the value 1'. "
   ]
  },
  {
   "cell_type": "markdown",
   "metadata": {},
   "source": [
    "Notice that as soon as Python executed the calculations at the start of this chapter, it returned the answer. But when we make an assignment, it doesn't return anything. But something has happened: Python has made some space in your computer's memory, and put these numbers in the space. Then it has created a list of names of things, and pointed the names at the spaces in memory. \n",
    "\n",
    "In the Jupyter Notebook, we can type a special 'magic' command, `%whos`, to see all the list of variables, their types, and the values they are pointing at:"
   ]
  },
  {
   "cell_type": "code",
   "execution_count": 6,
   "metadata": {},
   "outputs": [
    {
     "name": "stdout",
     "output_type": "stream",
     "text": [
      "Variable   Type     Data/Info\n",
      "-----------------------------\n",
      "Vp         float    2300.0\n",
      "rho        float    2650.0\n"
     ]
    }
   ],
   "source": [
    "%whos"
   ]
  },
  {
   "cell_type": "markdown",
   "metadata": {},
   "source": [
    "In practice though, part of the point of using a high-level language like Python is to enable you to forget about all these details. There are a few occasions when you need to understand a bit about Python's memory management, but not many, and we'll teach you the good practice to avoid getting bitten.\n",
    "\n",
    "The best way to see the value of a variable is to print it:"
   ]
  },
  {
   "cell_type": "code",
   "execution_count": 7,
   "metadata": {},
   "outputs": [
    {
     "name": "stdout",
     "output_type": "stream",
     "text": [
      "2650.0\n"
     ]
    }
   ],
   "source": [
    "print(rho)"
   ]
  },
  {
   "cell_type": "markdown",
   "metadata": {},
   "source": [
    "Or, when you're typing commands directly to Python on the command line, you can just type the name:"
   ]
  },
  {
   "cell_type": "code",
   "execution_count": 8,
   "metadata": {},
   "outputs": [
    {
     "data": {
      "text/plain": [
       "2650.0"
      ]
     },
     "execution_count": 8,
     "metadata": {},
     "output_type": "execute_result"
    }
   ],
   "source": [
    "rho"
   ]
  },
  {
   "cell_type": "markdown",
   "metadata": {},
   "source": [
    "If you try to use a variable that you haven't named yet, Python will raise a `NameError` exception. If you see this, Python interpreter will tell you roughly what to look for in your code. "
   ]
  },
  {
   "cell_type": "raw",
   "metadata": {},
   "source": [
    "SIDEBAR\n",
    "Sometimes people say \"Throwing an exception\" too. \"Raise\" is the terminology used in Python itself."
   ]
  },
  {
   "cell_type": "code",
   "execution_count": 9,
   "metadata": {},
   "outputs": [
    {
     "ename": "NameError",
     "evalue": "name 'x' is not defined",
     "output_type": "error",
     "traceback": [
      "\u001b[0;31m---------------------------------------------------------------------------\u001b[0m",
      "\u001b[0;31mNameError\u001b[0m                                 Traceback (most recent call last)",
      "\u001b[0;32m<ipython-input-9-fc17d851ef81>\u001b[0m in \u001b[0;36m<module>\u001b[0;34m()\u001b[0m\n\u001b[0;32m----> 1\u001b[0;31m \u001b[0mprint\u001b[0m\u001b[0;34m(\u001b[0m\u001b[0mx\u001b[0m\u001b[0;34m)\u001b[0m\u001b[0;34m\u001b[0m\u001b[0m\n\u001b[0m",
      "\u001b[0;31mNameError\u001b[0m: name 'x' is not defined"
     ]
    }
   ],
   "source": [
    "print(x)"
   ]
  },
  {
   "cell_type": "markdown",
   "metadata": {},
   "source": [
    "## Use good names!"
   ]
  },
  {
   "cell_type": "markdown",
   "metadata": {},
   "source": [
    "Sometimes you'll see programmers use comments to explain what things are:"
   ]
  },
  {
   "cell_type": "code",
   "execution_count": 10,
   "metadata": {
    "slideshow": {
     "slide_type": "fragment"
    }
   },
   "outputs": [],
   "source": [
    "rho = 2650  # Density\n",
    "Vp = 2300   # P-wave velocity"
   ]
  },
  {
   "cell_type": "markdown",
   "metadata": {},
   "source": [
    "This can be useful later, but it's often possible to avoid littering your code with comments like this. Use sensible names; maybe in this case `density` would be a better name if the context is not clear. Later, we'll show you how to introduce your variables in 'documentation strings' and other forms of documentation.\n",
    "\n",
    "By the way, you are allowed to use Greek characters for your variables:"
   ]
  },
  {
   "cell_type": "code",
   "execution_count": 11,
   "metadata": {
    "slideshow": {
     "slide_type": "fragment"
    }
   },
   "outputs": [],
   "source": [
    "ρ = 2650"
   ]
  },
  {
   "cell_type": "markdown",
   "metadata": {},
   "source": [
    "Very cute! But hard to type. Then again, if you like mathematics and want to make a Python library with lots of equations, maybe it's worth the effort. \n",
    "\n",
    "There are some other things about variable names in Python:\n",
    "\n",
    "- Variable names can contain letters, digits and underscores, but must start with a letter or underscore.\n",
    "- Conventionally we use lowercase characters (except for class names, which you will meet later).\n",
    "- Avoid using the following keywords, which are part of Python's language:\n",
    "\n",
    "      and, as, assert, break, class, continue, def, del, elif, else, except, \n",
    "      exec, finally, for, from, global, if, import, in, is, lambda, not, or,\n",
    "      pass, print, raise, return, try, while, with, yield\n",
    "      \n",
    "- Note that `lambda` is on that list. I usually use `lam` or `lamda` instead.\n",
    "\n",
    "So the following are good, Pythonic names for ordinary variables:\n",
    "\n",
    "- `gr1` for gamma-ray log number 1.\n",
    "- `distance` for a distance metric.\n",
    "- `amplitude_gradient` because underscores are A_OK.\n",
    "\n",
    "But these are not good names:\n",
    "\n",
    "- `GR` for gamma-ray, because we reserve names starting with uppercase letters for classes.\n",
    "- `the_Euclidean_distance_between_point_a_and_point_b`, unless you really like typing, and hate your coworkers.\n",
    "- `1st_task` is illegal because it starts with a number.\n",
    "- `_amplitude` because leading underscores have special meaning to most Python programmers, as we'll see later.\n",
    "\n",
    "It's not really a problem as such, but most Pythonistas wouldn't use a name like `gammaRayLog` because camel-case is too Java-ish. Use `gamma_ray_log` instead."
   ]
  },
  {
   "cell_type": "markdown",
   "metadata": {},
   "source": [
    "## Assignment combined with other operators\n",
    "\n",
    "We often want to change the value of a variable (this is a short and/or lazy way of saying, \"change the value in the memory location a variable is pointing at\") 'in place'. For example, we might want to increment a counter by 1, or divide a number by 1000. \n",
    "\n",
    "Python gives us a quick way to do this kind of thing. Let's say we want to convert `Vp` from m/s to km/s:"
   ]
  },
  {
   "cell_type": "code",
   "execution_count": 21,
   "metadata": {},
   "outputs": [],
   "source": [
    "Vp /= 1000"
   ]
  },
  {
   "cell_type": "markdown",
   "metadata": {},
   "source": [
    "The 'long' way of writing the same command would be:"
   ]
  },
  {
   "cell_type": "code",
   "execution_count": 16,
   "metadata": {},
   "outputs": [],
   "source": [
    "Vp = Vp / 1000"
   ]
  },
  {
   "cell_type": "markdown",
   "metadata": {},
   "source": [
    "If we run either of these commands (but not both!), `Vp` takes the value 2.3:"
   ]
  },
  {
   "cell_type": "code",
   "execution_count": 22,
   "metadata": {},
   "outputs": [
    {
     "name": "stdout",
     "output_type": "stream",
     "text": [
      "Vp = 2.299999999999997 km/s\n"
     ]
    }
   ],
   "source": [
    "print(\"Vp = {} km/s\".format(Vp))"
   ]
  },
  {
   "cell_type": "markdown",
   "metadata": {},
   "source": [
    "The same format lets us combine other operators with assignment. The ones you'll see most commonly are:"
   ]
  },
  {
   "cell_type": "code",
   "execution_count": 23,
   "metadata": {},
   "outputs": [],
   "source": [
    "Vp *= 1000  # Equivalent to Vp = Vp * 1000\n",
    "Vp += 100   #               Vp = Vp + 100\n",
    "Vp -= 100   #               Vp = Vp - 100"
   ]
  },
  {
   "cell_type": "markdown",
   "metadata": {},
   "source": [
    "## Multiple assignment\n",
    "\n",
    "Occasionally you'll come across this:"
   ]
  },
  {
   "cell_type": "code",
   "execution_count": 24,
   "metadata": {},
   "outputs": [],
   "source": [
    "vp, rho = 2300, 2650"
   ]
  },
  {
   "cell_type": "markdown",
   "metadata": {},
   "source": [
    "This is perfectly fine, and often a convenient way to assign mukltiple things at the same time. For example, perhaps another part of your program passes you a set of $(x, y, z)$ coordinates. Python provides a few sequence-like data structures for this sort of thing. The simplest one is the `tuple`, which is just an ordered sequence of things, perhaps a list of numbers.\n",
    "\n",
    "Let's make two points, `a` and `b`:"
   ]
  },
  {
   "cell_type": "code",
   "execution_count": 25,
   "metadata": {},
   "outputs": [],
   "source": [
    "a = (654756.3, 129032.4, 75.342)\n",
    "b = (653989.0, 129931.9, 122.094)"
   ]
  },
  {
   "cell_type": "markdown",
   "metadata": {},
   "source": [
    "The parentheses are optional here — it's the commas that tell Python we're assigning these names to `tuple` objects here — but I think it's clearer to use them.\n",
    "\n",
    "If we now want to use the $x$, $y$, and $z$ values independently, perhaps to calculate a distance, we can use multiple assignment:"
   ]
  },
  {
   "cell_type": "code",
   "execution_count": 26,
   "metadata": {},
   "outputs": [
    {
     "name": "stdout",
     "output_type": "stream",
     "text": [
      "1183.2308690632067\n"
     ]
    }
   ],
   "source": [
    "x_a, y_a, z_a = a\n",
    "x_b, y_b, z_b = b\n",
    "\n",
    "distance = ((x_a - x_b)**2 + (y_a - y_b)**2 + (z_a - z_b)**2)**0.5\n",
    "\n",
    "print(distance)"
   ]
  },
  {
   "cell_type": "markdown",
   "metadata": {},
   "source": [
    "There are a few new things packed into there:\n",
    "\n",
    "- Notice that you can group mathematical operations with parentheses, just like in a spreadsheet.\n",
    "- The exponentiation operator is `**` and not, as you might have thought, `^`.\n",
    "- There's no `sqrt` operator in the core Python, so we raise to the power of 0.5 instead. We'll find out later how to do more complicated mathematics, but for now, here's a preview:"
   ]
  },
  {
   "cell_type": "raw",
   "metadata": {},
   "source": [
    "SIDEBAR\n",
    "Be careful! The `^` operator works on integers, but it performs bitwise XOR. Probably not what you want!"
   ]
  },
  {
   "cell_type": "code",
   "execution_count": 13,
   "metadata": {},
   "outputs": [
    {
     "data": {
      "text/plain": [
       "1183.2308690632067"
      ]
     },
     "execution_count": 13,
     "metadata": {},
     "output_type": "execute_result"
    }
   ],
   "source": [
    "import math\n",
    "math.sqrt(distance**2)"
   ]
  },
  {
   "cell_type": "markdown",
   "metadata": {},
   "source": [
    "If you want to print the distance with units, say, or with a specified number of decimal places, you can use the `format` method of strings (Python's text type is called 'string' or `str`). `format` lets you pass formatting instructions in a mini-language."
   ]
  },
  {
   "cell_type": "code",
   "execution_count": 14,
   "metadata": {},
   "outputs": [
    {
     "name": "stdout",
     "output_type": "stream",
     "text": [
      "distance = 1183.23 m\n"
     ]
    }
   ],
   "source": [
    "print(\"distance = {:.2f} m\".format(distance))"
   ]
  },
  {
   "cell_type": "markdown",
   "metadata": {},
   "source": [
    "The bit inside the curly braces `{}` says \"print the next variable (`distance` — there's only one variable) as a **`f`**`loat` with `2` decimal places.\n",
    "\n",
    "## Sneak peek\n",
    "\n",
    "Don't worry, if we want the distance between two points, we don't have to type out Pythagoras's theorem in an arbitrary number of dimensions. Python's numerical package, NumPy, has the full complement of linear algebra functions, including the norm of a vector. So a more natural way to do the same calculation is:"
   ]
  },
  {
   "cell_type": "code",
   "execution_count": 15,
   "metadata": {},
   "outputs": [
    {
     "data": {
      "text/plain": [
       "1183.2308690632067"
      ]
     },
     "execution_count": 15,
     "metadata": {},
     "output_type": "execute_result"
    }
   ],
   "source": [
    "import numpy as np\n",
    "np.linalg.norm(np.subtract(a, b))"
   ]
  },
  {
   "cell_type": "markdown",
   "metadata": {},
   "source": [
    "If this looks like gobbledygook for now, don't worry about it. We will get into it all later. I just want you to start getting the idea that Python is a large, powerful language with a lot of functions that already do many of the difficult things you might want to do. "
   ]
  },
  {
   "cell_type": "markdown",
   "metadata": {},
   "source": [
    "## Assign away!\n",
    "\n",
    "In this chapter, we have seen how we can assign names to quantities, and use those names to do mathematics. This is a familiar idea from algebra — letting $x$ stand for one number and $y$ for another, say — and by the end of the next few chapters it should be quite familiar as a computing tool as well.\n",
    "\n",
    "But give yourself a cheer: you now know how to assign good names to objects in Python, and then do simple calculations with them. You're well on your way to doing useful things.\n",
    "\n",
    "You also met some of Python's 'types'. Next we're going to meet some more types, so we can represent more than just numbers. "
   ]
  }
 ],
 "metadata": {
  "anaconda-cloud": {},
  "kernelspec": {
   "display_name": "Python 3",
   "language": "python",
   "name": "python3"
  },
  "language_info": {
   "codemirror_mode": {
    "name": "ipython",
    "version": 3
   },
   "file_extension": ".py",
   "mimetype": "text/x-python",
   "name": "python",
   "nbconvert_exporter": "python",
   "pygments_lexer": "ipython3",
   "version": "3.6.3"
  }
 },
 "nbformat": 4,
 "nbformat_minor": 2
}
