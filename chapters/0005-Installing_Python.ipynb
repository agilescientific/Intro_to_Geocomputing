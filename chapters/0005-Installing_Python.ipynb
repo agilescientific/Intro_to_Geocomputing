{
 "cells": [
  {
   "cell_type": "markdown",
   "metadata": {},
   "source": [
    "# Installing Python\n",
    "\n",
    "If you use Linux or a Mac, then you already have Python on your machine. However, since other software may already depend on it, we'll start by installing a new, probably newer distribution of Python. This way, your system can use the Python that it already has, and you can use a different install without worrying about upgrading things, installing new libraries, or otherwise breaking anything.\n",
    "\n",
    "There are several distributions of Python. You might come across:\n",
    "\n",
    "- Anaconda, from Continuum\n",
    "- Canopy, from Enthought\n",
    "- IPython (would we still call this a distribution??)\n",
    "- PyPy\n",
    "- Lots of others: https://wiki.python.org/moin/PythonDistributions\n",
    "\n",
    "We recommend you get started with Anaconda. It is robust and well-maintained, and makes getting started very easy, especially for scientists.\n",
    "\n",
    "## Install Anaconda\n",
    "\n",
    "Read all of this section before you do anything.\n",
    "\n",
    "Download the latest version of the installer at https://www.anaconda.com/download. Look for the latest version (Python 3.6 at the time of writing), and the correct version for your operating system. Choose 64-bit if your system supports it. (Most newer systems do, and it simply won't work if your system doesn't. So if in doubt: try the 64-bit version.)\n",
    "\n",
    "When we run the installer, we're only going change one of the default options — the one at the end. So, run the installer, accepting the default location for the installation. The last question asks if you want to make Anaconda's version of Python your default version. Unless you have a good reason, change the answer to Yes.\n",
    "\n",
    "Once finished, test your installation by typing this on the command line: [n.b. we need a ! to make this work in the Notebok]"
   ]
  },
  {
   "cell_type": "code",
   "execution_count": 2,
   "metadata": {},
   "outputs": [
    {
     "name": "stdout",
     "output_type": "stream",
     "text": [
      "Python 3.6.3\r\n"
     ]
    }
   ],
   "source": [
    "python -V"
   ]
  },
  {
   "cell_type": "markdown",
   "metadata": {},
   "source": [
    "## The `miniconda` option\n",
    "\n",
    "Stub: \n",
    "- Anaconda is awesome, but big — because it contains ~100 libraries. \n",
    "- Sometimes you don't want all these. Choose miniconda. "
   ]
  },
  {
   "cell_type": "code",
   "execution_count": null,
   "metadata": {},
   "outputs": [],
   "source": []
  }
 ],
 "metadata": {
  "kernelspec": {
   "display_name": "Python 3",
   "language": "python",
   "name": "python3"
  },
  "language_info": {
   "codemirror_mode": {
    "name": "ipython",
    "version": 3
   },
   "file_extension": ".py",
   "mimetype": "text/x-python",
   "name": "python",
   "nbconvert_exporter": "python",
   "pygments_lexer": "ipython3",
   "version": "3.6.3"
  }
 },
 "nbformat": 4,
 "nbformat_minor": 2
}
