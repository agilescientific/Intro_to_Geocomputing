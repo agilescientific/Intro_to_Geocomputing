{
 "cells": [
  {
   "cell_type": "markdown",
   "metadata": {
    "slideshow": {
     "slide_type": "slide"
    }
   },
   "source": [
    "# Operating on time and space\n",
    "\n",
    "So far, we've seen that we can represent the natural world with data and models, and can operate on single instances of things. For example, we can represent a rock as a P-wave velocity and a bulk density, then multiply those together to get acoustic impedance. \n",
    "\n",
    "But we could do these things onthe back of an envelope. The whole point of computers is to process large amounts of data — usually representing measurements made over time or space. We'll often want to process large collections of data. In this chapter, we'll meet loops, especially `for` loops, which will let us do just this.\n",
    "\n",
    "We'll also meet conditional statements, the `if... else...` block, and see how to control exactly what gets processed, and how, according to various rules or conditions. \n",
    "\n",
    "At the end of the chapter, we also find out how to read data from a text file. And this will set us well on our way to writing full-blown programs that do real work.\n",
    "\n",
    "Let's get started!"
   ]
  },
  {
   "cell_type": "markdown",
   "metadata": {
    "slideshow": {
     "slide_type": "slide"
    }
   },
   "source": [
    "## `for` loops\n",
    "\n",
    "Let's start with some made-up data resembling a pair of well logs."
   ]
  },
  {
   "cell_type": "code",
   "execution_count": 32,
   "metadata": {
    "collapsed": true,
    "slideshow": {
     "slide_type": "-"
    }
   },
   "outputs": [],
   "source": [
    "vp = [2300, 2400, 2500, 2300, 2600]\n",
    "rho = [2.45, 2.35, 2.45, 2.55, 2.80]"
   ]
  },
  {
   "cell_type": "markdown",
   "metadata": {},
   "source": [
    "The velocity log is in units of m/s. The density 'log' appears to be in units of g/cm<sup>3</sup>. We'd like to convert it to SI units of kg/m<sup>3</sup> by multiplying all of the values by 1000. \n",
    "\n",
    "To do this, we'll use a `for` loop. This will visit each value in turn, and multiply it by 1000, and append it to a new list with the correct values. First, we'll create an empty list to hold the new values:"
   ]
  },
  {
   "cell_type": "code",
   "execution_count": 34,
   "metadata": {
    "collapsed": true
   },
   "outputs": [],
   "source": [
    "rho_si = []"
   ]
  },
  {
   "cell_type": "code",
   "execution_count": 35,
   "metadata": {
    "collapsed": true
   },
   "outputs": [],
   "source": [
    "for value in rho:\n",
    "    value_si = 1000 * value\n",
    "    rho_si.append(value_si)"
   ]
  },
  {
   "cell_type": "code",
   "execution_count": 36,
   "metadata": {},
   "outputs": [
    {
     "data": {
      "text/plain": [
       "[2450.0, 2350.0, 2450.0, 2550.0, 2800.0]"
      ]
     },
     "execution_count": 36,
     "metadata": {},
     "output_type": "execute_result"
    }
   ],
   "source": [
    "rho_si"
   ]
  },
  {
   "cell_type": "markdown",
   "metadata": {},
   "source": [
    "The basic pattern of a `for` loop is always the same. You can read the first line like, \"for each thing in these things\", where \"these things\" is some sequence of items. The loop body describes what to do with each \"thing\". When there are no more instructions, the loop continues to the next item. If there are no more items, the loop terminates and the program continues.\n",
    "\n",
    "Here are some more examples:"
   ]
  },
  {
   "cell_type": "code",
   "execution_count": 39,
   "metadata": {},
   "outputs": [
    {
     "name": "stdout",
     "output_type": "stream",
     "text": [
      "1\n",
      "4\n",
      "9\n",
      "16\n",
      "25\n"
     ]
    }
   ],
   "source": [
    "for n in [1,2,3,4,5]:\n",
    "    print(n**2)"
   ]
  },
  {
   "cell_type": "code",
   "execution_count": 37,
   "metadata": {},
   "outputs": [
    {
     "name": "stdout",
     "output_type": "stream",
     "text": [
      "S\n",
      "a\n",
      "n\n",
      "d\n",
      "s\n",
      "t\n",
      "o\n",
      "n\n",
      "e\n"
     ]
    }
   ],
   "source": [
    "for character in \"Sandstone\":\n",
    "    print(character)"
   ]
  },
  {
   "cell_type": "code",
   "execution_count": 40,
   "metadata": {},
   "outputs": [
    {
     "name": "stdout",
     "output_type": "stream",
     "text": [
      "Sand S\n",
      "Sand a\n",
      "Sand n\n",
      "Sand d\n",
      "Silt S\n",
      "Silt i\n",
      "Silt l\n",
      "Silt t\n",
      "Mud M\n",
      "Mud u\n",
      "Mud d\n"
     ]
    }
   ],
   "source": [
    "for word in [\"Sand\", \"Silt\", \"Mud\"]:\n",
    "    for character in word:\n",
    "        print(word, character)"
   ]
  },
  {
   "cell_type": "code",
   "execution_count": 62,
   "metadata": {},
   "outputs": [
    {
     "name": "stdout",
     "output_type": "stream",
     "text": [
      "1. A10\n",
      "2. B10\n",
      "3. C22\n",
      "4. D20\n"
     ]
    }
   ],
   "source": [
    "samples = ['A10', 'B10', 'C22', 'D20']\n",
    "for i, sample in enumerate(samples):\n",
    "    print(f\"{i+1}. {sample}\")"
   ]
  },
  {
   "cell_type": "markdown",
   "metadata": {},
   "source": [
    "The function `enumerate()` works like a counter. It gives you access to the index of each item as you traverse the list (or whatever kind of collection it is). It returns a tuple of `(index, item)` on each loop, and we use the simulatenous assignment trick to unpack these. "
   ]
  },
  {
   "cell_type": "markdown",
   "metadata": {},
   "source": [
    "## List comprehension"
   ]
  },
  {
   "cell_type": "markdown",
   "metadata": {
    "collapsed": true
   },
   "source": [
    "Look again at the pattern in our first example in the previous section:\n",
    "\n",
    "- Make an empty list.\n",
    "- Loop over a collection (an 'iterable').\n",
    "- Transform each item to make a new thing.\n",
    "- Append the new things to the new list.\n",
    "\n",
    "This pattern crops up so often that there's a more concise way to do it — the **list comprehension**. These follow an analogous pattern, but expressed more tersely:\n",
    "\n",
    "- Transform items in this sequence and make a new list. \n",
    "\n",
    "Here's the example from the previous section again:"
   ]
  },
  {
   "cell_type": "code",
   "execution_count": 41,
   "metadata": {
    "collapsed": true
   },
   "outputs": [],
   "source": [
    "rho_si = []\n",
    "for value in rho:\n",
    "    value_si = 1000 * value\n",
    "    rho_si.append(value_si)"
   ]
  },
  {
   "cell_type": "markdown",
   "metadata": {},
   "source": [
    "After which `rho_si` contains the transformed values:"
   ]
  },
  {
   "cell_type": "code",
   "execution_count": 42,
   "metadata": {},
   "outputs": [
    {
     "data": {
      "text/plain": [
       "[2450.0, 2350.0, 2450.0, 2550.0, 2800.0]"
      ]
     },
     "execution_count": 42,
     "metadata": {},
     "output_type": "execute_result"
    }
   ],
   "source": [
    "rho_si"
   ]
  },
  {
   "cell_type": "markdown",
   "metadata": {},
   "source": [
    "Let's rewrite this loop as a list comprehension:"
   ]
  },
  {
   "cell_type": "code",
   "execution_count": 44,
   "metadata": {
    "collapsed": true
   },
   "outputs": [],
   "source": [
    "rho_si = [1000*value for value in rho]"
   ]
  },
  {
   "cell_type": "markdown",
   "metadata": {},
   "source": [
    "We end up with the same thing as before:"
   ]
  },
  {
   "cell_type": "code",
   "execution_count": 45,
   "metadata": {},
   "outputs": [
    {
     "data": {
      "text/plain": [
       "[2450.0, 2350.0, 2450.0, 2550.0, 2800.0]"
      ]
     },
     "execution_count": 45,
     "metadata": {},
     "output_type": "execute_result"
    }
   ],
   "source": [
    "rho_si"
   ]
  },
  {
   "cell_type": "markdown",
   "metadata": {},
   "source": [
    "### Exercise\n",
    "\n",
    "Turn these loops into list comprehensions:"
   ]
  },
  {
   "cell_type": "code",
   "execution_count": 47,
   "metadata": {
    "collapsed": true
   },
   "outputs": [],
   "source": [
    "squares = []\n",
    "for n in range(20):\n",
    "    squares.append(n**2)"
   ]
  },
  {
   "cell_type": "code",
   "execution_count": null,
   "metadata": {
    "collapsed": true
   },
   "outputs": [],
   "source": [
    "# SOLUTION\n",
    "[n**2 for n in range(20)]"
   ]
  },
  {
   "cell_type": "code",
   "execution_count": 50,
   "metadata": {
    "collapsed": true
   },
   "outputs": [],
   "source": [
    "names = ['William Smith', 'Mary Anning', 'Steve Gould']\n",
    "short = []\n",
    "for name in names:\n",
    "    initial = name[0]\n",
    "    surname = name.split()[-1]\n",
    "    short.append(surname + initial)"
   ]
  },
  {
   "cell_type": "code",
   "execution_count": null,
   "metadata": {
    "collapsed": true
   },
   "outputs": [],
   "source": [
    "# SOLUTION\n",
    "[name.split()[-1] + name[0] for name in names]"
   ]
  },
  {
   "cell_type": "markdown",
   "metadata": {},
   "source": [
    "## Looping over two lists: `zip`\n",
    "\n",
    "Often, we would like to combine the data from two lists. Perhaps we'd like to compute the acoustic impedance from our velocity and density logs. (We will need acoustic impedance to compute acoustic reflectivity and thus the synthetic seismic response.)\n",
    "\n",
    "Some computer languages would achieve this with the use of a counter. Using the function `enumerate()` which we met earlier, this might look like:"
   ]
  },
  {
   "cell_type": "code",
   "execution_count": 57,
   "metadata": {
    "collapsed": true
   },
   "outputs": [],
   "source": [
    "impedance = []\n",
    "for i, v in enumerate(vp):\n",
    "    imp = v * rho_si[i]\n",
    "    impedance.append(imp)"
   ]
  },
  {
   "cell_type": "markdown",
   "metadata": {},
   "source": [
    "Let's look at what we made:"
   ]
  },
  {
   "cell_type": "code",
   "execution_count": 63,
   "metadata": {},
   "outputs": [
    {
     "data": {
      "text/plain": [
       "[5635000.0, 5640000.0, 6125000.0, 5865000.0, 7280000.0]"
      ]
     },
     "execution_count": 63,
     "metadata": {},
     "output_type": "execute_result"
    }
   ],
   "source": [
    "impedance"
   ]
  },
  {
   "cell_type": "markdown",
   "metadata": {},
   "source": [
    "We don't need to do this in Python, however. Even with the eminently Pythonic `enumerate` trick, we can do better. The function `zip()` will take two or more sequences and match them, item for item, until it reaches the end of the shortest sequence:"
   ]
  },
  {
   "cell_type": "code",
   "execution_count": 65,
   "metadata": {},
   "outputs": [
    {
     "name": "stdout",
     "output_type": "stream",
     "text": [
      "('S', 'M')\n",
      "('a', 'u')\n",
      "('n', 'd')\n",
      "('d', 's')\n",
      "('s', 't')\n",
      "('t', 'o')\n",
      "('o', 'n')\n",
      "('n', 'e')\n"
     ]
    }
   ],
   "source": [
    "for t in zip(\"Sandstone\", \"Mudstone\"):\n",
    "    print(t)"
   ]
  },
  {
   "cell_type": "markdown",
   "metadata": {},
   "source": [
    "It didn't return a tuple containing the last character of `'Sandstone'` because it ran out of `'Mudstone'`. \n",
    "\n",
    "Let's apply this to our impedance loop, again using the simultaneous assignment trick to name the `vp` values `v` and the `rho_si` values `r`:"
   ]
  },
  {
   "cell_type": "code",
   "execution_count": 66,
   "metadata": {
    "collapsed": true
   },
   "outputs": [],
   "source": [
    "impedance = []\n",
    "for v, r in zip(vp, rho_si):\n",
    "    imp = v * r\n",
    "    impedance.append(imp)"
   ]
  },
  {
   "cell_type": "code",
   "execution_count": 68,
   "metadata": {},
   "outputs": [
    {
     "data": {
      "text/plain": [
       "[5635000.0, 5640000.0, 6125000.0, 5865000.0, 7280000.0]"
      ]
     },
     "execution_count": 68,
     "metadata": {},
     "output_type": "execute_result"
    }
   ],
   "source": [
    "impedance"
   ]
  },
  {
   "cell_type": "markdown",
   "metadata": {},
   "source": [
    "### Exercise\n",
    "\n",
    "Write this new loop as a list comprehension:"
   ]
  },
  {
   "cell_type": "code",
   "execution_count": 69,
   "metadata": {
    "collapsed": true
   },
   "outputs": [],
   "source": [
    "# SOLUTION\n",
    "impedance = [v * r for v, r in zip(vp, rho_si)]"
   ]
  },
  {
   "cell_type": "markdown",
   "metadata": {
    "slideshow": {
     "slide_type": "slide"
    }
   },
   "source": [
    "## Making decisions with `if`\n",
    "\n",
    "We very often want to make certain operations in a program depend on the outcomes of other operations. For example, we would only want to transform the units of a measurement if the measurement is not already in those units. Let's do this for our SI unit transformation, only transforming numbers that are less than 10 and therefore likely in the cgs system."
   ]
  },
  {
   "cell_type": "code",
   "execution_count": 75,
   "metadata": {},
   "outputs": [
    {
     "data": {
      "text/plain": [
       "[2450.0, 2350.0, 2450.0, 2550.0, 2800.0]"
      ]
     },
     "execution_count": 75,
     "metadata": {},
     "output_type": "execute_result"
    }
   ],
   "source": [
    "transformed = []\n",
    "for value in rho:\n",
    "    if value < 10:\n",
    "        value *= 1000\n",
    "    transformed.append(value)\n",
    "transformed"
   ]
  },
  {
   "cell_type": "markdown",
   "metadata": {},
   "source": [
    "Note that `value *= 1000` is exactly equivalent to `value = value * 1000`; it just avoids a bit of repetition.\n",
    "\n",
    "If we run the same code on the `vp` data, the transformation is not applied and we get:\n",
    "\n",
    "    [2300, 2400, 2500, 2300, 2600]\n",
    "    \n",
    "As well as telling the code what to do if a condition is true, we'd often like to specify what to do if it's false as well. In the previous example, we didn't specify anything, so the program did nothing when `value` was equal to or greater than 10. To provide a specific path for when the test fails, we use `else`:"
   ]
  },
  {
   "cell_type": "code",
   "execution_count": 141,
   "metadata": {},
   "outputs": [
    {
     "data": {
      "text/plain": [
       "[2450.0, 2350.0, 2450.0, 2550.0, 2800.0]"
      ]
     },
     "execution_count": 141,
     "metadata": {},
     "output_type": "execute_result"
    }
   ],
   "source": [
    "transformed = []\n",
    "for value in rho:\n",
    "    if value < 10:\n",
    "        value *= 1000\n",
    "    else:\n",
    "        value = value\n",
    "    transformed.append(value)\n",
    "transformed"
   ]
  },
  {
   "cell_type": "markdown",
   "metadata": {},
   "source": [
    "This doesn't do anything different, it must makes the implicit 'do nothing' explicit."
   ]
  },
  {
   "cell_type": "markdown",
   "metadata": {},
   "source": [
    "If we have multiple things to test for, we can simply add more `if` blocks. However, if the conditions need to be applied in a mutually exclusive way, then we can use `if... elif... else`, where `elif` means \"else if\" and simply applies a new conditional:"
   ]
  },
  {
   "cell_type": "code",
   "execution_count": 145,
   "metadata": {},
   "outputs": [
    {
     "data": {
      "text/plain": [
       "[-1, 2350.0, 2450.0, 2550.0, 2800.0]"
      ]
     },
     "execution_count": 145,
     "metadata": {},
     "output_type": "execute_result"
    }
   ],
   "source": [
    "rho[0] = -0.1\n",
    "\n",
    "transformed = []\n",
    "for value in rho:\n",
    "    if value < 0:\n",
    "        value = -1\n",
    "    elif value < 10:\n",
    "        value *= 1000\n",
    "    else:\n",
    "        value = value\n",
    "    transformed.append(value)\n",
    "transformed"
   ]
  },
  {
   "cell_type": "markdown",
   "metadata": {},
   "source": [
    "## `break` and `continue`\n",
    "\n",
    "Sometimes we'd like to short-circuit the loop. For example, when reading a file, we might need to skip lines in the file that look like comments. Suppose we have a file with the following contents:\n",
    "\n",
    "    # B-41 Formation tops\n",
    "    # Depths in metres\n",
    "    WyanDot FM,858.62158\n",
    "    DAWSON CANYON FM,985.11358\n",
    "    LOGAN CANYON FM,1157.0207\n",
    "    Upper MISSISAUGA FM, -2246.9856m\n",
    "    Lower MISSISAUGA FM,3190.6464\n",
    "    Base O-Marker,2472.561\n",
    "    Abenaki,-999.25\n",
    "    pay_sand_1,\n",
    "    TD,-999.25,\n",
    "    % END OF DATA\n",
    "    \n",
    "Those first two lines clearly need to be treated differently from the other lines in the file. For now, we'll ignore them. \n",
    "\n",
    "the last line is garbage; let's just stop once we've processed anything called `'TD'`. \n",
    "\n",
    "Let's start by reading all the lines in the file into a list of strings, where each string is one line. We do this by making a file-reading 'context' with the keyword `with`. This simply gives us a block in which we can open the file and read from it, and Python's context manager will take care of closing the file when we're done. The `'r'` tells the function `open()` to open the file for reading."
   ]
  },
  {
   "cell_type": "code",
   "execution_count": 164,
   "metadata": {
    "collapsed": true
   },
   "outputs": [],
   "source": [
    "with open('../data/B-41_tops.txt', 'r') as f:\n",
    "    data = f.readlines()"
   ]
  },
  {
   "cell_type": "markdown",
   "metadata": {},
   "source": [
    "Now we have a list of strings, so we can use a `for` loop to process it. We'll use `continue` to skip the rest of the loop when a line starts with the character `'#'`. "
   ]
  },
  {
   "cell_type": "code",
   "execution_count": 165,
   "metadata": {},
   "outputs": [
    {
     "data": {
      "text/plain": [
       "{'Abenaki': '-999.25\\n',\n",
       " 'Base O-Marker': '2472.561\\n',\n",
       " 'DAWSON CANYON FM': '985.11358\\n',\n",
       " 'LOGAN CANYON FM': '1157.0207\\n',\n",
       " 'Lower MISSISAUGA FM': '3190.6464\\n',\n",
       " 'TD': '-999.25\\n',\n",
       " 'Upper MISSISAUGA FM': ' -2246.9856m\\n',\n",
       " 'WyanDot FM': '858.62158\\n',\n",
       " 'pay_sand_1': '\\n'}"
      ]
     },
     "execution_count": 165,
     "metadata": {},
     "output_type": "execute_result"
    }
   ],
   "source": [
    "tops = {}\n",
    "for line in data:\n",
    "    if line.startswith('#'):\n",
    "        continue\n",
    "    name, depth = line.split(',')\n",
    "    tops[name] = depth\n",
    "    if name == 'TD':\n",
    "        break\n",
    "tops"
   ]
  },
  {
   "cell_type": "markdown",
   "metadata": {},
   "source": [
    "### Exercise\n",
    "\n",
    "Modify the file reader to produce better results. For example, try to do the following:\n",
    "\n",
    "- Remove the new line characters (`'\\n'`) from the ends of the lines.\n",
    "- Make sure the numbers are represented as numbers, not strings.\n",
    "- Skip tops with null depth values, represented by `-999.25`\n",
    "- Regularize the names a bit, so they aren't so heterogeneous.\n",
    "- Do anything else that looks liek it might cause a problem."
   ]
  },
  {
   "cell_type": "code",
   "execution_count": 167,
   "metadata": {},
   "outputs": [
    {
     "name": "stdout",
     "output_type": "stream",
     "text": [
      "Changed depth: Upper Missisauga Fm\n"
     ]
    },
    {
     "data": {
      "text/plain": [
       "{'Base O-Marker': 2472.561,\n",
       " 'Dawson Canyon Fm': 985.11358,\n",
       " 'Logan Canyon Fm': 1157.0207,\n",
       " 'Lower Missisauga Fm': 3190.6464,\n",
       " 'Upper Missisauga Fm': 2246.9856,\n",
       " 'Wyandot Fm': 858.62158}"
      ]
     },
     "execution_count": 167,
     "metadata": {},
     "output_type": "execute_result"
    }
   ],
   "source": [
    "# SOLUTION\n",
    "\n",
    "# We'll use some parameters instead of hard-wiring these options.\n",
    "fix_case = True\n",
    "delimiter = ','\n",
    "comment = '#'\n",
    "null = -999.25\n",
    "\n",
    "# Process the list of lines:\n",
    "tops = {}\n",
    "for line in data:\n",
    "\n",
    "    # Skip comment rows.\n",
    "    if line.startswith(comment):\n",
    "        continue\n",
    "\n",
    "    # Assign names to elements.\n",
    "    name, dstr = line.split(delimiter)\n",
    "\n",
    "    if fix_case:\n",
    "        name = name.title()\n",
    "        \n",
    "    # Stop processing if we reached TD.\n",
    "    if name.lower() == 'td':\n",
    "        break\n",
    "\n",
    "    dstr = dstr.strip()\n",
    "    if not dstr.isnumeric():\n",
    "        dstr = dstr.lower().rstrip('mft')\n",
    "\n",
    "    # Skip NULL entries.\n",
    "    if (not dstr) or (dstr == str(null)):\n",
    "        continue\n",
    "\n",
    "    # Correct for other negative values.\n",
    "    depth = float(dstr)\n",
    "    if depth < 0:\n",
    "        depth *= -1\n",
    "        print('Changed depth: {}'.format(name))\n",
    "\n",
    "    tops[name] = depth\n",
    "\n",
    "tops"
   ]
  },
  {
   "cell_type": "markdown",
   "metadata": {},
   "source": [
    "## `while`\n",
    "\n",
    "The `for` loop is guaranteed to run a finite number of times, because it will only loop over some existing collection of items. Sometimes (rarely, it turns out), you want to instead wait for some condition to be met — then you need `while` instead of `for`.\n",
    "\n",
    "In practice, these occasions are few and far between. One pattern that does come up is waiting for a certain kind of input from a user:"
   ]
  },
  {
   "cell_type": "code",
   "execution_count": 55,
   "metadata": {},
   "outputs": [
    {
     "name": "stdout",
     "output_type": "stream",
     "text": [
      "Please enter a number between 0 and 1:2\n",
      "Please enter a number between 0 and 1:43\n",
      "Please enter a number between 0 and 1:0.12\n",
      "0.12 met the condition.\n"
     ]
    }
   ],
   "source": [
    "while True:\n",
    "    n = input(\"Please enter a number between 0 and 1: \")\n",
    "    if 0 < float(n) < 1:\n",
    "        break\n",
    "\n",
    "print(n, \"met the condition.\")"
   ]
  },
  {
   "cell_type": "markdown",
   "metadata": {},
   "source": [
    "Notice how the condition in this case is, by definition, always true. We then test for our desired condition inside the loop, and break out of the loop explicitly if it is true.\n",
    "\n",
    "Another way to do this would be to put a negative version of our test in the loop definition. In other words, we're saying, \"keep doing this as long as our condition is not met\". This makes the loop neater, but we have to predefine the variable `n`, which feels like an aesthetic compromise. "
   ]
  },
  {
   "cell_type": "code",
   "execution_count": 56,
   "metadata": {},
   "outputs": [
    {
     "name": "stdout",
     "output_type": "stream",
     "text": [
      "Please enter a number between 0 and 1: 3\n",
      "Please enter a number between 0 and 1: 2\n",
      "Please enter a number between 0 and 1: -4\n",
      "Please enter a number between 0 and 1: 2.3\n",
      "Please enter a number between 0 and 1: -100\n",
      "Please enter a number between 0 and 1: 1.2\n",
      "Please enter a number between 0 and 1: 0.23\n",
      "0.23 met the condition.\n"
     ]
    }
   ],
   "source": [
    "n = 0\n",
    "while not (0 < float(n) < 1):\n",
    "    n = input(\"Please enter a number between 0 and 1: \")\n",
    "\n",
    "print(n, \"met the condition.\")"
   ]
  },
  {
   "cell_type": "markdown",
   "metadata": {},
   "source": [
    "## Turing complete\n",
    "\n",
    "The tools we have met in this chapter — loops and conditional statements — will enable us to control the 'flow' of our programs. Indeed, with loops and conditionals, along with the tools we have met so far (variables, operators, ad so on), we now have everything we need to write *any* computer program! Congratulations on attaining Turing completeness!\n",
    "\n",
    "Next we'll look at another important data structure — the dictionary. "
   ]
  }
 ],
 "metadata": {
  "anaconda-cloud": {},
  "kernelspec": {
   "display_name": "Python 3",
   "language": "python",
   "name": "python3"
  },
  "language_info": {
   "codemirror_mode": {
    "name": "ipython",
    "version": 3
   },
   "file_extension": ".py",
   "mimetype": "text/x-python",
   "name": "python",
   "nbconvert_exporter": "python",
   "pygments_lexer": "ipython3",
   "version": "3.6.3"
  }
 },
 "nbformat": 4,
 "nbformat_minor": 1
}
