{
 "cells": [
  {
   "cell_type": "markdown",
   "metadata": {
    "slideshow": {
     "slide_type": "slide"
    }
   },
   "source": [
    "# Representing numbers"
   ]
  },
  {
   "cell_type": "markdown",
   "metadata": {
    "slideshow": {
     "slide_type": "slide"
    }
   },
   "source": [
    "You've already met two of Python's numerical types:\n",
    "\n",
    "- `int` for integers, like 0 or 5235.\n",
    "- `float` for floating point numbers like 3.1416 or 6.022e-23. \n",
    "\n",
    "The good news is that, most of the time, these are the only things you need to know about. The rest of this chapter is just a deeper dive into some concepts behind integers and floating point numbers. It's probably not a bad idea to skip it for now, and come back to it when you're more familiar with the basics.\n",
    "\n",
    "Then again, if you just like numbers, read on!\n",
    "\n",
    "## Complex numbers\n",
    "\n",
    "There is another `type` for complex numbers like $(3 + 4\\mathrm{i})$. It's called `complex`. To make a complex number in Python, we use `j` instead of i:"
   ]
  },
  {
   "cell_type": "code",
   "execution_count": 1,
   "metadata": {
    "slideshow": {
     "slide_type": "fragment"
    }
   },
   "outputs": [
    {
     "data": {
      "text/plain": [
       "(3+4j)"
      ]
     },
     "execution_count": 1,
     "metadata": {},
     "output_type": "execute_result"
    }
   ],
   "source": [
    "3 + 4j"
   ]
  },
  {
   "cell_type": "markdown",
   "metadata": {
    "slideshow": {
     "slide_type": "fragment"
    }
   },
   "source": [
    "By the way, we can check the type of any object with the built-in `type()` function, which we can call just like the `print()` function:"
   ]
  },
  {
   "cell_type": "code",
   "execution_count": 2,
   "metadata": {
    "slideshow": {
     "slide_type": "subslide"
    }
   },
   "outputs": [
    {
     "data": {
      "text/plain": [
       "complex"
      ]
     },
     "execution_count": 2,
     "metadata": {},
     "output_type": "execute_result"
    }
   ],
   "source": [
    "type(3 + 4j)"
   ]
  },
  {
   "cell_type": "markdown",
   "metadata": {
    "slideshow": {
     "slide_type": "fragment"
    }
   },
   "source": [
    "It's not common to need to use the `type` function in Python software, but it can be useful for debugging, especially while you're learning, because you can't usually tell anything about the type of an object from the name you give it.\n",
    "\n",
    "When we start using the numerical library NumPy, we'll meet other kinds of numbers, such as unsigned integers and half-length floats. What are these strange creatures?"
   ]
  },
  {
   "cell_type": "markdown",
   "metadata": {},
   "source": [
    "## A word about bits\n",
    "\n",
    "There's a quirk about representing floating point numbers in computers. Because we'd like these numbers to have a well-defined size in memory, we limit them to a specific bit width — usually 64 bits. \n",
    "\n",
    "Maybe it's easier to understand one effect of bit width — the smallest and largest numbers you can represent — with integers. Clearly, with only 1 binary bit, only two numbers are possible: 0, and 1. With two bits, we can have 0, 1, 2, and 3. With 3 bits, we can have 0 to 7. With 8 bits, or a byte, we can represent integers from 0 up to 255. \n",
    "\n",
    "In particular, this is an *unsigned* integer. It results from a 'literal' interpretation of binary numbers, where the 1-byte word `11100011` represents 128 + 64 + 32 + 2 + 1 = 227<sub>10</sub>. \n",
    "\n",
    "Unsigned ints are fine for representing things like pixel values in a greyscale image. But sometimes we need negative numbers too — think of seismic amplitudes for instance. If we use an alternative representation, called two' complement, we can have signed integers. This scheme works by reserving all binary words starting with `1` as negative. This means we can't have any positive numbers greater than `01111111`, or 127. \n",
    "\n",
    "To find the two's complement representation of, say, `00011101` (29<sub>10</sub>), we first invert the digits, getting `11100010` and then add 1 to get `11100011`. This is the 8-bit two's complement representation of –29<sub>10</sub>. Notice that it's also the unsigned representation of 227<sub>10</sub> from the previous example.\n",
    "\n",
    "## Floating point precision\n",
    "\n",
    "When it comes to floats, the minimum and maximum expressible numbers aren't the only thing affected by the limited number of bits available. It also affects the precision of your arithmetic. \n",
    "\n",
    "Let's use the built-in function `format` to show the number 0.1 to 30 decimal places:"
   ]
  },
  {
   "cell_type": "code",
   "execution_count": 3,
   "metadata": {},
   "outputs": [
    {
     "data": {
      "text/plain": [
       "'0.100000000000000005551115123126'"
      ]
     },
     "execution_count": 3,
     "metadata": {},
     "output_type": "execute_result"
    }
   ],
   "source": [
    "format(0.1, '.30f')"
   ]
  },
  {
   "cell_type": "markdown",
   "metadata": {},
   "source": [
    "As far as the computer is concerned, this *is* the number 0.1. Or, to put it another way, it can't tell the difference between this number and 0.1:"
   ]
  },
  {
   "cell_type": "code",
   "execution_count": 4,
   "metadata": {},
   "outputs": [
    {
     "data": {
      "text/plain": [
       "'0.000000000000000000000000000000'"
      ]
     },
     "execution_count": 4,
     "metadata": {},
     "output_type": "execute_result"
    }
   ],
   "source": [
    "x = 0.1 - 0.100000000000000005551115123\n",
    "format(x, '.30f')"
   ]
  },
  {
   "cell_type": "markdown",
   "metadata": {},
   "source": [
    "What's going on?\n",
    "\n",
    "In a nutshell, computers represent floats a lot like scientists do when they use scientific notation. Imagine Avogadro's number, $6.022 \\times 10^{23}$, or `+6.022e23` in code. This consists of a sign (`+`), a significand (`6.022`), a base (`10`), and an exponent (`23`).\n",
    "\n",
    "The exact details vary a bit, but here's roughly how most systems represent 64-bit floating point numbers:\n",
    "\n",
    "- 52 bits for the fractional component of the significand. This is always added to 1. (Analogously, using base 10 for simplicity, the number 5492 would thus become 1.5492.)\n",
    "- 11 bits for the exponent, representing –1024 to +1023, to which the implicit base of 2 is raised.\n",
    "- 1 bit to represent the sign of the number."
   ]
  },
  {
   "cell_type": "markdown",
   "metadata": {},
   "source": [
    "The upshot of all this is that sometimes you cannot rely on some ordinary mathematical truths:"
   ]
  },
  {
   "cell_type": "code",
   "execution_count": 5,
   "metadata": {},
   "outputs": [
    {
     "data": {
      "text/plain": [
       "False"
      ]
     },
     "execution_count": 5,
     "metadata": {},
     "output_type": "execute_result"
    }
   ],
   "source": [
    "0.1 + 0.1 + 0.1 == 0.3"
   ]
  },
  {
   "cell_type": "markdown",
   "metadata": {},
   "source": [
    "We can get creative and check for this equality in other ways. For example, we can ensure the numbers differ by some tolerably small amount, usually called `epsilon`:"
   ]
  },
  {
   "cell_type": "code",
   "execution_count": 6,
   "metadata": {},
   "outputs": [
    {
     "data": {
      "text/plain": [
       "True"
      ]
     },
     "execution_count": 6,
     "metadata": {},
     "output_type": "execute_result"
    }
   ],
   "source": [
    "epsilon = 1e-12\n",
    "0.1 + 0.1 + 0.1 - 0.3 < epsilon"
   ]
  },
  {
   "cell_type": "markdown",
   "metadata": {},
   "source": [
    "By the way, we can use a similar trick to avoid dividing by zero when processing a large quantity of numbers — just add epsilon to the denominator."
   ]
  },
  {
   "cell_type": "markdown",
   "metadata": {},
   "source": [
    "What about the value of this epsilon, what should we choose? It can be any amount you consider insignificant, as long as it's larger than the 'machine epsilon', or macheps, which depends on the implementation details of the system you're using. Almost all Python implementations use the 64-bit IEEE 754 floating point standard. Python's `sys` library can give you information about its floats:"
   ]
  },
  {
   "cell_type": "code",
   "execution_count": 7,
   "metadata": {},
   "outputs": [
    {
     "data": {
      "text/plain": [
       "sys.float_info(max=1.7976931348623157e+308, max_exp=1024, max_10_exp=308, min=2.2250738585072014e-308, min_exp=-1021, min_10_exp=-307, dig=15, mant_dig=53, epsilon=2.220446049250313e-16, radix=2, rounds=1)"
      ]
     },
     "execution_count": 7,
     "metadata": {},
     "output_type": "execute_result"
    }
   ],
   "source": [
    "import sys\n",
    "sys.float_info"
   ]
  },
  {
   "cell_type": "markdown",
   "metadata": {},
   "source": [
    "Later in this course we'll meet the numerical computing library, NumPy. In NumPy you can choose how many bytes are used to represent floating point numbers. It has its own version of `sys.float_info` called `np.finfo()`. Here's what it displays for half-precision, or 16-bit, floats:"
   ]
  },
  {
   "cell_type": "code",
   "execution_count": 8,
   "metadata": {},
   "outputs": [
    {
     "data": {
      "text/plain": [
       "finfo(resolution=1e-15, min=-1.7976931348623157e+308, max=1.7976931348623157e+308, dtype=float64)"
      ]
     },
     "execution_count": 8,
     "metadata": {},
     "output_type": "execute_result"
    }
   ],
   "source": [
    "import numpy as np\n",
    "\n",
    "np.finfo(np.float64)"
   ]
  },
  {
   "cell_type": "markdown",
   "metadata": {},
   "source": [
    "You can use the `resolution` value as epsilon, though note that even it suffers from its own curse:"
   ]
  },
  {
   "cell_type": "code",
   "execution_count": 9,
   "metadata": {},
   "outputs": [
    {
     "data": {
      "text/plain": [
       "1e-15"
      ]
     },
     "execution_count": 9,
     "metadata": {},
     "output_type": "execute_result"
    }
   ],
   "source": [
    "np.finfo(np.float64).resolution"
   ]
  },
  {
   "cell_type": "markdown",
   "metadata": {},
   "source": [
    "To find out more about floating point numbers and precision, I recommend the following:\n",
    "\n",
    "- More precise SEG-Y?, by Matt Hall. Agile Scientific blog, https://agilescientific.com/blog/2017/3/29/more-precise-segy\n",
    "- [The perils of floating point](http://www.lahey.com/float.htm), by Bruce M. Bush.\n",
    "- What every computer scientist should know about floating-point arithmetic, by David Goldberg. ACM Computing Surveys 23 (1), March 1991. [Available online.](http://perso.ens-lyon.fr/jean-michel.muller/goldberg.pdf)"
   ]
  },
  {
   "cell_type": "markdown",
   "metadata": {},
   "source": [
    "## Decimal: another way to deal with floating points numbers\n",
    "\n",
    "If you're in a situation where you really need to cope with floating point numbers, to be sure of the imprecision not biting you, there's a built-in library called `decimal`. "
   ]
  },
  {
   "cell_type": "code",
   "execution_count": 10,
   "metadata": {},
   "outputs": [
    {
     "data": {
      "text/plain": [
       "0.30000000000000004"
      ]
     },
     "execution_count": 10,
     "metadata": {},
     "output_type": "execute_result"
    }
   ],
   "source": [
    "0.1 + 0.2"
   ]
  },
  {
   "cell_type": "code",
   "execution_count": 11,
   "metadata": {},
   "outputs": [],
   "source": [
    "from decimal import Decimal"
   ]
  },
  {
   "cell_type": "code",
   "execution_count": 12,
   "metadata": {},
   "outputs": [
    {
     "data": {
      "text/plain": [
       "Decimal('0.3')"
      ]
     },
     "execution_count": 12,
     "metadata": {},
     "output_type": "execute_result"
    }
   ],
   "source": [
    "Decimal('0.1') + Decimal('0.2')"
   ]
  },
  {
   "cell_type": "markdown",
   "metadata": {},
   "source": [
    "Notice that we pass strings. Why is that? Well, remember that Python *can't tell the difference* between 0.1 and, well, this:"
   ]
  },
  {
   "cell_type": "code",
   "execution_count": 13,
   "metadata": {},
   "outputs": [
    {
     "data": {
      "text/plain": [
       "Decimal('0.1000000000000000055511151231257827021181583404541015625')"
      ]
     },
     "execution_count": 13,
     "metadata": {},
     "output_type": "execute_result"
    }
   ],
   "source": [
    "Decimal(0.1)"
   ]
  },
  {
   "cell_type": "markdown",
   "metadata": {},
   "source": [
    "...but it can interpret the string `'0.1'` as what we mean by `0.1`. So we use strings. Or we could also pass a tuple of sign, fractional digits in a tuple, and exponent, but it gets pretty tiresome:"
   ]
  },
  {
   "cell_type": "code",
   "execution_count": 14,
   "metadata": {},
   "outputs": [
    {
     "data": {
      "text/plain": [
       "Decimal('0.1')"
      ]
     },
     "execution_count": 14,
     "metadata": {},
     "output_type": "execute_result"
    }
   ],
   "source": [
    "Decimal((0,(1,), -1))"
   ]
  },
  {
   "cell_type": "markdown",
   "metadata": {},
   "source": [
    "## Rational numbers\n",
    "\n",
    "`decimal` has a sister library for representing fractions:"
   ]
  },
  {
   "cell_type": "code",
   "execution_count": 15,
   "metadata": {},
   "outputs": [
    {
     "name": "stdout",
     "output_type": "stream",
     "text": [
      "1/2\n"
     ]
    }
   ],
   "source": [
    "from fractions import Fraction\n",
    "\n",
    "print(Fraction(1, 2))"
   ]
  },
  {
   "cell_type": "code",
   "execution_count": 16,
   "metadata": {},
   "outputs": [
    {
     "data": {
      "text/plain": [
       "1.5707965"
      ]
     },
     "execution_count": 16,
     "metadata": {},
     "output_type": "execute_result"
    }
   ],
   "source": [
    "Fraction(1, 2) * 3.141593"
   ]
  },
  {
   "cell_type": "markdown",
   "metadata": {},
   "source": [
    "It can also interpret strings:"
   ]
  },
  {
   "cell_type": "code",
   "execution_count": 17,
   "metadata": {},
   "outputs": [
    {
     "data": {
      "text/plain": [
       "Fraction(7, 22)"
      ]
     },
     "execution_count": 17,
     "metadata": {},
     "output_type": "execute_result"
    }
   ],
   "source": [
    "Fraction('7/22')"
   ]
  },
  {
   "cell_type": "markdown",
   "metadata": {},
   "source": [
    "And reduce fractions for you:"
   ]
  },
  {
   "cell_type": "code",
   "execution_count": 18,
   "metadata": {},
   "outputs": [
    {
     "data": {
      "text/plain": [
       "Fraction(9, 109)"
      ]
     },
     "execution_count": 18,
     "metadata": {},
     "output_type": "execute_result"
    }
   ],
   "source": [
    "Fraction('45/545')"
   ]
  },
  {
   "cell_type": "markdown",
   "metadata": {},
   "source": [
    "Again, be careful with floating point precision:"
   ]
  },
  {
   "cell_type": "code",
   "execution_count": 19,
   "metadata": {},
   "outputs": [
    {
     "data": {
      "text/plain": [
       "Fraction(1487427399865485, 18014398509481984)"
      ]
     },
     "execution_count": 19,
     "metadata": {},
     "output_type": "execute_result"
    }
   ],
   "source": [
    "Fraction(45/545)"
   ]
  },
  {
   "cell_type": "markdown",
   "metadata": {},
   "source": [
    "All pretty cool... but I've never used it."
   ]
  },
  {
   "cell_type": "markdown",
   "metadata": {},
   "source": [
    "## Other numeric types\n",
    "\n",
    "There are some other numeric types in Python. For example, we can operate with binary, octal or hexadecimal numbers. Python regards all these numbers as `int`s, so we can use them anywhere we'd use an `int`:"
   ]
  },
  {
   "cell_type": "code",
   "execution_count": 20,
   "metadata": {},
   "outputs": [
    {
     "data": {
      "text/plain": [
       "42574"
      ]
     },
     "execution_count": 20,
     "metadata": {},
     "output_type": "execute_result"
    }
   ],
   "source": [
    "0b11101001001101 + 0b110110000000001"
   ]
  },
  {
   "cell_type": "code",
   "execution_count": 21,
   "metadata": {},
   "outputs": [
    {
     "data": {
      "text/plain": [
       "42574"
      ]
     },
     "execution_count": 21,
     "metadata": {},
     "output_type": "execute_result"
    }
   ],
   "source": [
    "0o35115 + 0o66001"
   ]
  },
  {
   "cell_type": "code",
   "execution_count": 22,
   "metadata": {},
   "outputs": [
    {
     "data": {
      "text/plain": [
       "42574"
      ]
     },
     "execution_count": 22,
     "metadata": {},
     "output_type": "execute_result"
    }
   ],
   "source": [
    "0x3a4d + 0x6c01"
   ]
  },
  {
   "cell_type": "markdown",
   "metadata": {},
   "source": [
    "We can easily cast between different bases, though notice these result comes back as a string:"
   ]
  },
  {
   "cell_type": "code",
   "execution_count": 23,
   "metadata": {},
   "outputs": [
    {
     "data": {
      "text/plain": [
       "'0o66001'"
      ]
     },
     "execution_count": 23,
     "metadata": {},
     "output_type": "execute_result"
    }
   ],
   "source": [
    "oct(0b110110000000001)"
   ]
  },
  {
   "cell_type": "code",
   "execution_count": 24,
   "metadata": {},
   "outputs": [
    {
     "data": {
      "text/plain": [
       "'0x6c01'"
      ]
     },
     "execution_count": 24,
     "metadata": {},
     "output_type": "execute_result"
    }
   ],
   "source": [
    "hex(0o66001)"
   ]
  },
  {
   "cell_type": "code",
   "execution_count": 25,
   "metadata": {},
   "outputs": [
    {
     "data": {
      "text/plain": [
       "'0b110110000000001'"
      ]
     },
     "execution_count": 25,
     "metadata": {},
     "output_type": "execute_result"
    }
   ],
   "source": [
    "bin(0x6c01)"
   ]
  },
  {
   "cell_type": "markdown",
   "metadata": {},
   "source": [
    "## You've got Python's number\n",
    "\n",
    "The number one lesson from this chapter: computers are strange: numbers are not just numbers, but have multiple representations. The good news is that you will quickly get used to the idea of `int`s and `float`s, and most of the time you don't need to worry about the rest of it."
   ]
  }
 ],
 "metadata": {
  "anaconda-cloud": {},
  "kernelspec": {
   "display_name": "Python 3",
   "language": "python",
   "name": "python3"
  },
  "language_info": {
   "codemirror_mode": {
    "name": "ipython",
    "version": 3
   },
   "file_extension": ".py",
   "mimetype": "text/x-python",
   "name": "python",
   "nbconvert_exporter": "python",
   "pygments_lexer": "ipython3",
   "version": "3.6.4"
  }
 },
 "nbformat": 4,
 "nbformat_minor": 2
}
