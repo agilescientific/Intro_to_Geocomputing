{
 "cells": [
  {
   "cell_type": "markdown",
   "metadata": {},
   "source": [
    "# The Jupyter Notebook\n",
    "\n",
    "outline:\n",
    "\n",
    "- Project jupyter\n",
    "- a tour of the notebook\n",
    "- why (and when) to use the notebook?\n",
    "- markdown cells\n",
    "- code cells\n",
    "- outputs\n",
    "- raw NB convert\n",
    "- heading\n",
    "- changing kernel\n",
    "- what are kernels?\n",
    "- running cells\n",
    "- autosaving\n",
    "- the jupyter server\n",
    "- jupyterlab\n"
   ]
  },
  {
   "cell_type": "markdown",
   "metadata": {},
   "source": [
    "## Project Jupyter\n",
    "\n",
    "According to the Jupyter website:\n",
    "\n",
    "> [Project Jupyter](https://jupyter.org/) exists to develop open-source software, open-standards, and services for interactive computing across dozens of programming languages.\n",
    "\n",
    "Project Jupyter includes more than just the Jupyter Notebook, but we'll focus on the notebook here to begin with. To quote again from the website:\n",
    "\n",
    "> The Jupyter Notebook is an open-source web application that allows you to create and share documents that contain live code, equations, visualizations and narrative text.\n",
    "\n",
    "Jupyter notebooks have gained real popularity in the past few years for academics, researchers, data scientists, machine learning engineers, and much of the python community.\n",
    "\n",
    "### So, why Jupyter?\n",
    "\n",
    "Project Jupyter's name is a reference to the three core programming languages supported by Jupyter, which are Julia, Python and R, and also a homage to Galileo's notebooks recording the discovery of the moons of Jupiter. [wikipedia](https://en.wikipedia.org/wiki/Project_Jupyter).\n",
    "\n",
    "<img src='../images/Jupyter_logo.svg' alt='Jupyter logo by Cameron Oelsen - https://github.com/jupyter/jupyter.github.io/blob/master/assets/main-logo.svg'/>\n",
    "\n",
    "\n",
    "Jupyter logo by Cameron Oelsen - https://github.com/jupyter/jupyter.github.io/blob/master/assets/main-logo.svg\n",
    "\n",
    "BSD, https://commons.wikimedia.org/w/index.php?curid=68763478\n",
    "\n",
    "## A tour of the notebook\n",
    "\n",
    "The jupyter notebook opens in the default web browser of the host machine. The notebooks are designed to work on the latest versions of Chrome, Safari and Firefox.\n",
    "\n",
    "The browser window always includes the following elements:\n",
    "\n",
    "- A notebook url\n",
    "<img src=\"../images/notebook_url.png\" alt=\"url\" height=20/>\n",
    "\n",
    "- A notebook header\n",
    "<img src=\"../images/notebook_header.png\" alt=\"header\"/>\n",
    "\n",
    "- Notebook menus\n",
    "<img src=\"../images/notebook_menus.png\" alt=\"menus\"/>\n",
    "\n",
    "- Notebook buttons\n",
    "<img src=\"../images/notebook_buttons.png\" alt=\"buttons\"/>\n",
    "\n",
    "and can include:\n",
    "\n",
    "- Markdown cells\n",
    "<img src=\"../images/notebook_markdown.png\" alt=\"markdown\"/>\n",
    "\n",
    "- Code cells and their outputs\n",
    "<img src=\"../images/notebook_code_&_output.png\" alt=\"code\"/>\n",
    "\n"
   ]
  },
  {
   "cell_type": "code",
   "execution_count": null,
   "metadata": {},
   "outputs": [],
   "source": []
  }
 ],
 "metadata": {
  "kernelspec": {
   "display_name": "Python 3",
   "language": "python",
   "name": "python3"
  },
  "language_info": {
   "codemirror_mode": {
    "name": "ipython",
    "version": 3
   },
   "file_extension": ".py",
   "mimetype": "text/x-python",
   "name": "python",
   "nbconvert_exporter": "python",
   "pygments_lexer": "ipython3",
   "version": "3.8.5"
  }
 },
 "nbformat": 4,
 "nbformat_minor": 4
}
