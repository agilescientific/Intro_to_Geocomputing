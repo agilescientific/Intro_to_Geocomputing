{
 "cells": [
  {
   "cell_type": "markdown",
   "metadata": {},
   "source": [
    "# Test\n",
    "\n",
    "This is a test chapter."
   ]
  },
  {
   "cell_type": "code",
   "execution_count": 1,
   "metadata": {},
   "outputs": [],
   "source": [
    "# ignore\n",
    "import numpy as np\n",
    "import matplotlib.pyplot as plt\n",
    "%matplotlib inline"
   ]
  },
  {
   "cell_type": "code",
   "execution_count": 11,
   "metadata": {},
   "outputs": [
    {
     "data": {
      "text/plain": [
       "array([ 0.        ,  0.08246929,  1.27622209,  1.85410449,  2.32916259])"
      ]
     },
     "execution_count": 11,
     "metadata": {},
     "output_type": "execute_result"
    }
   ],
   "source": [
    "a = np.random.random(50) * np.arange(50)\n",
    "a[:5]"
   ]
  },
  {
   "cell_type": "markdown",
   "metadata": {},
   "source": [
    "I would also like the following block _and its output_ to be ignored."
   ]
  },
  {
   "cell_type": "code",
   "execution_count": 9,
   "metadata": {},
   "outputs": [
    {
     "data": {
      "text/plain": [
       "array([  0.        ,   0.43274357,   1.97058572,   2.16034751,\n",
       "         2.61469079,   4.74024974,   4.33422446,   1.85098375,\n",
       "         3.69017517,   4.2106918 ,   6.47244486,   8.73270847,\n",
       "         4.62773724,  11.26504705,  11.10473013,   8.55802042,\n",
       "         8.43968106,  15.22257828,   8.2456504 ,  14.65573107,\n",
       "        18.87289126,  18.80938208,  14.45598767,  14.92828815,\n",
       "         8.26559782,  21.01122785,  16.10114489,  20.49236497,\n",
       "        11.40911832,  20.97626752,  17.28767563,  21.18928992,\n",
       "        16.89828692,  12.42329826,  11.15842872,  29.14406516,\n",
       "        14.08947593,   1.64531667,  12.23966549,   4.58243062,\n",
       "        18.80515894,  35.52026258,  17.09254051,  13.58912537,\n",
       "         9.05350463,  35.39863023,  11.81012826,  30.54222563,\n",
       "        29.08192832,   6.64997231])"
      ]
     },
     "execution_count": 9,
     "metadata": {},
     "output_type": "execute_result"
    }
   ],
   "source": [
    "# Ignore this.\n",
    "a"
   ]
  },
  {
   "cell_type": "markdown",
   "metadata": {},
   "source": [
    "% Sidebar\n",
    "\n",
    "This **markdown** block should be in the sidebar of the page."
   ]
  },
  {
   "cell_type": "markdown",
   "metadata": {},
   "source": [
    "## Make a plot"
   ]
  },
  {
   "cell_type": "code",
   "execution_count": 12,
   "metadata": {},
   "outputs": [
    {
     "data": {
      "text/plain": [
       "[<matplotlib.lines.Line2D at 0x1159a2e10>]"
      ]
     },
     "execution_count": 12,
     "metadata": {},
     "output_type": "execute_result"
    },
    {
     "data": {
      "image/png": "[encoded data removed]",
      "text/plain": [
       "<matplotlib.figure.Figure at 0x1158d3c18>"
      ]
     },
     "metadata": {},
     "output_type": "display_data"
    }
   ],
   "source": [
    "plt.plot(a)"
   ]
  },
  {
   "cell_type": "markdown",
   "metadata": {},
   "source": [
    "The following block is empty and should be omitted from the PDF. (These commonly appear at the end of a notebook.)"
   ]
  },
  {
   "cell_type": "code",
   "execution_count": null,
   "metadata": {},
   "outputs": [],
   "source": []
  }
 ],
 "metadata": {
  "kernelspec": {
   "display_name": "Python [conda env:recipes]",
   "language": "python",
   "name": "conda-env-recipes-py"
  },
  "language_info": {
   "codemirror_mode": {
    "name": "ipython",
    "version": 3
   },
   "file_extension": ".py",
   "mimetype": "text/x-python",
   "name": "python",
   "nbconvert_exporter": "python",
   "pygments_lexer": "ipython3",
   "version": "3.6.3"
  }
 },
 "nbformat": 4,
 "nbformat_minor": 2
}
